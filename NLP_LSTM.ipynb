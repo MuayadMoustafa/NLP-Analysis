{
  "nbformat": 4,
  "nbformat_minor": 0,
  "metadata": {
    "colab": {
      "provenance": []
    },
    "kernelspec": {
      "name": "python3",
      "display_name": "Python 3"
    },
    "language_info": {
      "name": "python"
    },
    "widgets": {
      "application/vnd.jupyter.widget-state+json": {
        "3201b21e5d1f4dc1bb3d07833dfd59f8": {
          "model_module": "@jupyter-widgets/controls",
          "model_name": "HBoxModel",
          "model_module_version": "1.5.0",
          "state": {
            "_dom_classes": [],
            "_model_module": "@jupyter-widgets/controls",
            "_model_module_version": "1.5.0",
            "_model_name": "HBoxModel",
            "_view_count": null,
            "_view_module": "@jupyter-widgets/controls",
            "_view_module_version": "1.5.0",
            "_view_name": "HBoxView",
            "box_style": "",
            "children": [
              "IPY_MODEL_6f6afa0a41214273a8be0b800af85be3",
              "IPY_MODEL_df6adddde331492cbc53630fd25afb99",
              "IPY_MODEL_5afa5ff6baea4c53878604e88201356a"
            ],
            "layout": "IPY_MODEL_aa3a02edc3214f0d8926000f660b6793"
          }
        },
        "6f6afa0a41214273a8be0b800af85be3": {
          "model_module": "@jupyter-widgets/controls",
          "model_name": "HTMLModel",
          "model_module_version": "1.5.0",
          "state": {
            "_dom_classes": [],
            "_model_module": "@jupyter-widgets/controls",
            "_model_module_version": "1.5.0",
            "_model_name": "HTMLModel",
            "_view_count": null,
            "_view_module": "@jupyter-widgets/controls",
            "_view_module_version": "1.5.0",
            "_view_name": "HTMLView",
            "description": "",
            "description_tooltip": null,
            "layout": "IPY_MODEL_2951af8005ea47fd913db10071dd4d32",
            "placeholder": "​",
            "style": "IPY_MODEL_727ea5d779474d37ace06188af494d88",
            "value": "Processing: 100%"
          }
        },
        "df6adddde331492cbc53630fd25afb99": {
          "model_module": "@jupyter-widgets/controls",
          "model_name": "FloatProgressModel",
          "model_module_version": "1.5.0",
          "state": {
            "_dom_classes": [],
            "_model_module": "@jupyter-widgets/controls",
            "_model_module_version": "1.5.0",
            "_model_name": "FloatProgressModel",
            "_view_count": null,
            "_view_module": "@jupyter-widgets/controls",
            "_view_module_version": "1.5.0",
            "_view_name": "ProgressView",
            "bar_style": "",
            "description": "",
            "description_tooltip": null,
            "layout": "IPY_MODEL_b39b0102ad63422090ec0939add60c2c",
            "max": 65,
            "min": 0,
            "orientation": "horizontal",
            "style": "IPY_MODEL_a1ccc163e2174feba5d340257992f26f",
            "value": 65
          }
        },
        "5afa5ff6baea4c53878604e88201356a": {
          "model_module": "@jupyter-widgets/controls",
          "model_name": "HTMLModel",
          "model_module_version": "1.5.0",
          "state": {
            "_dom_classes": [],
            "_model_module": "@jupyter-widgets/controls",
            "_model_module_version": "1.5.0",
            "_model_name": "HTMLModel",
            "_view_count": null,
            "_view_module": "@jupyter-widgets/controls",
            "_view_module_version": "1.5.0",
            "_view_name": "HTMLView",
            "description": "",
            "description_tooltip": null,
            "layout": "IPY_MODEL_5ee0fc3c21e846c58624ff80b4499478",
            "placeholder": "​",
            "style": "IPY_MODEL_5e177e15bc444735a26668a7fb311471",
            "value": " 65/65 [00:44&lt;00:00,  2.13it/s]"
          }
        },
        "aa3a02edc3214f0d8926000f660b6793": {
          "model_module": "@jupyter-widgets/base",
          "model_name": "LayoutModel",
          "model_module_version": "1.2.0",
          "state": {
            "_model_module": "@jupyter-widgets/base",
            "_model_module_version": "1.2.0",
            "_model_name": "LayoutModel",
            "_view_count": null,
            "_view_module": "@jupyter-widgets/base",
            "_view_module_version": "1.2.0",
            "_view_name": "LayoutView",
            "align_content": null,
            "align_items": null,
            "align_self": null,
            "border": null,
            "bottom": null,
            "display": null,
            "flex": null,
            "flex_flow": null,
            "grid_area": null,
            "grid_auto_columns": null,
            "grid_auto_flow": null,
            "grid_auto_rows": null,
            "grid_column": null,
            "grid_gap": null,
            "grid_row": null,
            "grid_template_areas": null,
            "grid_template_columns": null,
            "grid_template_rows": null,
            "height": null,
            "justify_content": null,
            "justify_items": null,
            "left": null,
            "margin": null,
            "max_height": null,
            "max_width": null,
            "min_height": null,
            "min_width": null,
            "object_fit": null,
            "object_position": null,
            "order": null,
            "overflow": null,
            "overflow_x": null,
            "overflow_y": null,
            "padding": null,
            "right": null,
            "top": null,
            "visibility": "hidden",
            "width": null
          }
        },
        "2951af8005ea47fd913db10071dd4d32": {
          "model_module": "@jupyter-widgets/base",
          "model_name": "LayoutModel",
          "model_module_version": "1.2.0",
          "state": {
            "_model_module": "@jupyter-widgets/base",
            "_model_module_version": "1.2.0",
            "_model_name": "LayoutModel",
            "_view_count": null,
            "_view_module": "@jupyter-widgets/base",
            "_view_module_version": "1.2.0",
            "_view_name": "LayoutView",
            "align_content": null,
            "align_items": null,
            "align_self": null,
            "border": null,
            "bottom": null,
            "display": null,
            "flex": null,
            "flex_flow": null,
            "grid_area": null,
            "grid_auto_columns": null,
            "grid_auto_flow": null,
            "grid_auto_rows": null,
            "grid_column": null,
            "grid_gap": null,
            "grid_row": null,
            "grid_template_areas": null,
            "grid_template_columns": null,
            "grid_template_rows": null,
            "height": null,
            "justify_content": null,
            "justify_items": null,
            "left": null,
            "margin": null,
            "max_height": null,
            "max_width": null,
            "min_height": null,
            "min_width": null,
            "object_fit": null,
            "object_position": null,
            "order": null,
            "overflow": null,
            "overflow_x": null,
            "overflow_y": null,
            "padding": null,
            "right": null,
            "top": null,
            "visibility": null,
            "width": null
          }
        },
        "727ea5d779474d37ace06188af494d88": {
          "model_module": "@jupyter-widgets/controls",
          "model_name": "DescriptionStyleModel",
          "model_module_version": "1.5.0",
          "state": {
            "_model_module": "@jupyter-widgets/controls",
            "_model_module_version": "1.5.0",
            "_model_name": "DescriptionStyleModel",
            "_view_count": null,
            "_view_module": "@jupyter-widgets/base",
            "_view_module_version": "1.2.0",
            "_view_name": "StyleView",
            "description_width": ""
          }
        },
        "b39b0102ad63422090ec0939add60c2c": {
          "model_module": "@jupyter-widgets/base",
          "model_name": "LayoutModel",
          "model_module_version": "1.2.0",
          "state": {
            "_model_module": "@jupyter-widgets/base",
            "_model_module_version": "1.2.0",
            "_model_name": "LayoutModel",
            "_view_count": null,
            "_view_module": "@jupyter-widgets/base",
            "_view_module_version": "1.2.0",
            "_view_name": "LayoutView",
            "align_content": null,
            "align_items": null,
            "align_self": null,
            "border": null,
            "bottom": null,
            "display": null,
            "flex": null,
            "flex_flow": null,
            "grid_area": null,
            "grid_auto_columns": null,
            "grid_auto_flow": null,
            "grid_auto_rows": null,
            "grid_column": null,
            "grid_gap": null,
            "grid_row": null,
            "grid_template_areas": null,
            "grid_template_columns": null,
            "grid_template_rows": null,
            "height": null,
            "justify_content": null,
            "justify_items": null,
            "left": null,
            "margin": null,
            "max_height": null,
            "max_width": null,
            "min_height": null,
            "min_width": null,
            "object_fit": null,
            "object_position": null,
            "order": null,
            "overflow": null,
            "overflow_x": null,
            "overflow_y": null,
            "padding": null,
            "right": null,
            "top": null,
            "visibility": null,
            "width": null
          }
        },
        "a1ccc163e2174feba5d340257992f26f": {
          "model_module": "@jupyter-widgets/controls",
          "model_name": "ProgressStyleModel",
          "model_module_version": "1.5.0",
          "state": {
            "_model_module": "@jupyter-widgets/controls",
            "_model_module_version": "1.5.0",
            "_model_name": "ProgressStyleModel",
            "_view_count": null,
            "_view_module": "@jupyter-widgets/base",
            "_view_module_version": "1.2.0",
            "_view_name": "StyleView",
            "bar_color": null,
            "description_width": ""
          }
        },
        "5ee0fc3c21e846c58624ff80b4499478": {
          "model_module": "@jupyter-widgets/base",
          "model_name": "LayoutModel",
          "model_module_version": "1.2.0",
          "state": {
            "_model_module": "@jupyter-widgets/base",
            "_model_module_version": "1.2.0",
            "_model_name": "LayoutModel",
            "_view_count": null,
            "_view_module": "@jupyter-widgets/base",
            "_view_module_version": "1.2.0",
            "_view_name": "LayoutView",
            "align_content": null,
            "align_items": null,
            "align_self": null,
            "border": null,
            "bottom": null,
            "display": null,
            "flex": null,
            "flex_flow": null,
            "grid_area": null,
            "grid_auto_columns": null,
            "grid_auto_flow": null,
            "grid_auto_rows": null,
            "grid_column": null,
            "grid_gap": null,
            "grid_row": null,
            "grid_template_areas": null,
            "grid_template_columns": null,
            "grid_template_rows": null,
            "height": null,
            "justify_content": null,
            "justify_items": null,
            "left": null,
            "margin": null,
            "max_height": null,
            "max_width": null,
            "min_height": null,
            "min_width": null,
            "object_fit": null,
            "object_position": null,
            "order": null,
            "overflow": null,
            "overflow_x": null,
            "overflow_y": null,
            "padding": null,
            "right": null,
            "top": null,
            "visibility": null,
            "width": null
          }
        },
        "5e177e15bc444735a26668a7fb311471": {
          "model_module": "@jupyter-widgets/controls",
          "model_name": "DescriptionStyleModel",
          "model_module_version": "1.5.0",
          "state": {
            "_model_module": "@jupyter-widgets/controls",
            "_model_module_version": "1.5.0",
            "_model_name": "DescriptionStyleModel",
            "_view_count": null,
            "_view_module": "@jupyter-widgets/base",
            "_view_module_version": "1.2.0",
            "_view_name": "StyleView",
            "description_width": ""
          }
        },
        "245e3a5ee4554754a1c3a70dbc563f57": {
          "model_module": "@jupyter-widgets/controls",
          "model_name": "HBoxModel",
          "model_module_version": "1.5.0",
          "state": {
            "_dom_classes": [],
            "_model_module": "@jupyter-widgets/controls",
            "_model_module_version": "1.5.0",
            "_model_name": "HBoxModel",
            "_view_count": null,
            "_view_module": "@jupyter-widgets/controls",
            "_view_module_version": "1.5.0",
            "_view_name": "HBoxView",
            "box_style": "",
            "children": [
              "IPY_MODEL_eef808f255364e8f9206ccd5e9fb0006",
              "IPY_MODEL_c7c70ed8ffb042548c641382b03d1d5f",
              "IPY_MODEL_52998443958a4fda8a0f65efe7a265a6"
            ],
            "layout": "IPY_MODEL_94dfd7cde1214c98bf0d514b92857bd6"
          }
        },
        "eef808f255364e8f9206ccd5e9fb0006": {
          "model_module": "@jupyter-widgets/controls",
          "model_name": "HTMLModel",
          "model_module_version": "1.5.0",
          "state": {
            "_dom_classes": [],
            "_model_module": "@jupyter-widgets/controls",
            "_model_module_version": "1.5.0",
            "_model_name": "HTMLModel",
            "_view_count": null,
            "_view_module": "@jupyter-widgets/controls",
            "_view_module_version": "1.5.0",
            "_view_name": "HTMLView",
            "description": "",
            "description_tooltip": null,
            "layout": "IPY_MODEL_7243745f86e7452a8668c80d79225b32",
            "placeholder": "​",
            "style": "IPY_MODEL_c17fc2ff4b7d46e6aa002fd2babdd85a",
            "value": "Processing:  75%"
          }
        },
        "c7c70ed8ffb042548c641382b03d1d5f": {
          "model_module": "@jupyter-widgets/controls",
          "model_name": "FloatProgressModel",
          "model_module_version": "1.5.0",
          "state": {
            "_dom_classes": [],
            "_model_module": "@jupyter-widgets/controls",
            "_model_module_version": "1.5.0",
            "_model_name": "FloatProgressModel",
            "_view_count": null,
            "_view_module": "@jupyter-widgets/controls",
            "_view_module_version": "1.5.0",
            "_view_name": "ProgressView",
            "bar_style": "",
            "description": "",
            "description_tooltip": null,
            "layout": "IPY_MODEL_6161225f9a0f40d5ac272f4713aee770",
            "max": 4,
            "min": 0,
            "orientation": "horizontal",
            "style": "IPY_MODEL_25d82c7c87ac407880552104efbac726",
            "value": 4
          }
        },
        "52998443958a4fda8a0f65efe7a265a6": {
          "model_module": "@jupyter-widgets/controls",
          "model_name": "HTMLModel",
          "model_module_version": "1.5.0",
          "state": {
            "_dom_classes": [],
            "_model_module": "@jupyter-widgets/controls",
            "_model_module_version": "1.5.0",
            "_model_name": "HTMLModel",
            "_view_count": null,
            "_view_module": "@jupyter-widgets/controls",
            "_view_module_version": "1.5.0",
            "_view_name": "HTMLView",
            "description": "",
            "description_tooltip": null,
            "layout": "IPY_MODEL_05b474e6fffb41aaa92c6b28b65a1403",
            "placeholder": "​",
            "style": "IPY_MODEL_aa268fc0f6194aff8493104dd1525bd4",
            "value": " 3/4 [00:02&lt;00:00,  1.15it/s]"
          }
        },
        "94dfd7cde1214c98bf0d514b92857bd6": {
          "model_module": "@jupyter-widgets/base",
          "model_name": "LayoutModel",
          "model_module_version": "1.2.0",
          "state": {
            "_model_module": "@jupyter-widgets/base",
            "_model_module_version": "1.2.0",
            "_model_name": "LayoutModel",
            "_view_count": null,
            "_view_module": "@jupyter-widgets/base",
            "_view_module_version": "1.2.0",
            "_view_name": "LayoutView",
            "align_content": null,
            "align_items": null,
            "align_self": null,
            "border": null,
            "bottom": null,
            "display": null,
            "flex": null,
            "flex_flow": null,
            "grid_area": null,
            "grid_auto_columns": null,
            "grid_auto_flow": null,
            "grid_auto_rows": null,
            "grid_column": null,
            "grid_gap": null,
            "grid_row": null,
            "grid_template_areas": null,
            "grid_template_columns": null,
            "grid_template_rows": null,
            "height": null,
            "justify_content": null,
            "justify_items": null,
            "left": null,
            "margin": null,
            "max_height": null,
            "max_width": null,
            "min_height": null,
            "min_width": null,
            "object_fit": null,
            "object_position": null,
            "order": null,
            "overflow": null,
            "overflow_x": null,
            "overflow_y": null,
            "padding": null,
            "right": null,
            "top": null,
            "visibility": "hidden",
            "width": null
          }
        },
        "7243745f86e7452a8668c80d79225b32": {
          "model_module": "@jupyter-widgets/base",
          "model_name": "LayoutModel",
          "model_module_version": "1.2.0",
          "state": {
            "_model_module": "@jupyter-widgets/base",
            "_model_module_version": "1.2.0",
            "_model_name": "LayoutModel",
            "_view_count": null,
            "_view_module": "@jupyter-widgets/base",
            "_view_module_version": "1.2.0",
            "_view_name": "LayoutView",
            "align_content": null,
            "align_items": null,
            "align_self": null,
            "border": null,
            "bottom": null,
            "display": null,
            "flex": null,
            "flex_flow": null,
            "grid_area": null,
            "grid_auto_columns": null,
            "grid_auto_flow": null,
            "grid_auto_rows": null,
            "grid_column": null,
            "grid_gap": null,
            "grid_row": null,
            "grid_template_areas": null,
            "grid_template_columns": null,
            "grid_template_rows": null,
            "height": null,
            "justify_content": null,
            "justify_items": null,
            "left": null,
            "margin": null,
            "max_height": null,
            "max_width": null,
            "min_height": null,
            "min_width": null,
            "object_fit": null,
            "object_position": null,
            "order": null,
            "overflow": null,
            "overflow_x": null,
            "overflow_y": null,
            "padding": null,
            "right": null,
            "top": null,
            "visibility": null,
            "width": null
          }
        },
        "c17fc2ff4b7d46e6aa002fd2babdd85a": {
          "model_module": "@jupyter-widgets/controls",
          "model_name": "DescriptionStyleModel",
          "model_module_version": "1.5.0",
          "state": {
            "_model_module": "@jupyter-widgets/controls",
            "_model_module_version": "1.5.0",
            "_model_name": "DescriptionStyleModel",
            "_view_count": null,
            "_view_module": "@jupyter-widgets/base",
            "_view_module_version": "1.2.0",
            "_view_name": "StyleView",
            "description_width": ""
          }
        },
        "6161225f9a0f40d5ac272f4713aee770": {
          "model_module": "@jupyter-widgets/base",
          "model_name": "LayoutModel",
          "model_module_version": "1.2.0",
          "state": {
            "_model_module": "@jupyter-widgets/base",
            "_model_module_version": "1.2.0",
            "_model_name": "LayoutModel",
            "_view_count": null,
            "_view_module": "@jupyter-widgets/base",
            "_view_module_version": "1.2.0",
            "_view_name": "LayoutView",
            "align_content": null,
            "align_items": null,
            "align_self": null,
            "border": null,
            "bottom": null,
            "display": null,
            "flex": null,
            "flex_flow": null,
            "grid_area": null,
            "grid_auto_columns": null,
            "grid_auto_flow": null,
            "grid_auto_rows": null,
            "grid_column": null,
            "grid_gap": null,
            "grid_row": null,
            "grid_template_areas": null,
            "grid_template_columns": null,
            "grid_template_rows": null,
            "height": null,
            "justify_content": null,
            "justify_items": null,
            "left": null,
            "margin": null,
            "max_height": null,
            "max_width": null,
            "min_height": null,
            "min_width": null,
            "object_fit": null,
            "object_position": null,
            "order": null,
            "overflow": null,
            "overflow_x": null,
            "overflow_y": null,
            "padding": null,
            "right": null,
            "top": null,
            "visibility": null,
            "width": null
          }
        },
        "25d82c7c87ac407880552104efbac726": {
          "model_module": "@jupyter-widgets/controls",
          "model_name": "ProgressStyleModel",
          "model_module_version": "1.5.0",
          "state": {
            "_model_module": "@jupyter-widgets/controls",
            "_model_module_version": "1.5.0",
            "_model_name": "ProgressStyleModel",
            "_view_count": null,
            "_view_module": "@jupyter-widgets/base",
            "_view_module_version": "1.2.0",
            "_view_name": "StyleView",
            "bar_color": null,
            "description_width": ""
          }
        },
        "05b474e6fffb41aaa92c6b28b65a1403": {
          "model_module": "@jupyter-widgets/base",
          "model_name": "LayoutModel",
          "model_module_version": "1.2.0",
          "state": {
            "_model_module": "@jupyter-widgets/base",
            "_model_module_version": "1.2.0",
            "_model_name": "LayoutModel",
            "_view_count": null,
            "_view_module": "@jupyter-widgets/base",
            "_view_module_version": "1.2.0",
            "_view_name": "LayoutView",
            "align_content": null,
            "align_items": null,
            "align_self": null,
            "border": null,
            "bottom": null,
            "display": null,
            "flex": null,
            "flex_flow": null,
            "grid_area": null,
            "grid_auto_columns": null,
            "grid_auto_flow": null,
            "grid_auto_rows": null,
            "grid_column": null,
            "grid_gap": null,
            "grid_row": null,
            "grid_template_areas": null,
            "grid_template_columns": null,
            "grid_template_rows": null,
            "height": null,
            "justify_content": null,
            "justify_items": null,
            "left": null,
            "margin": null,
            "max_height": null,
            "max_width": null,
            "min_height": null,
            "min_width": null,
            "object_fit": null,
            "object_position": null,
            "order": null,
            "overflow": null,
            "overflow_x": null,
            "overflow_y": null,
            "padding": null,
            "right": null,
            "top": null,
            "visibility": null,
            "width": null
          }
        },
        "aa268fc0f6194aff8493104dd1525bd4": {
          "model_module": "@jupyter-widgets/controls",
          "model_name": "DescriptionStyleModel",
          "model_module_version": "1.5.0",
          "state": {
            "_model_module": "@jupyter-widgets/controls",
            "_model_module_version": "1.5.0",
            "_model_name": "DescriptionStyleModel",
            "_view_count": null,
            "_view_module": "@jupyter-widgets/base",
            "_view_module_version": "1.2.0",
            "_view_name": "StyleView",
            "description_width": ""
          }
        },
        "f598f9e2eaef40b393bb049fef786d05": {
          "model_module": "@jupyter-widgets/controls",
          "model_name": "HBoxModel",
          "model_module_version": "1.5.0",
          "state": {
            "_dom_classes": [],
            "_model_module": "@jupyter-widgets/controls",
            "_model_module_version": "1.5.0",
            "_model_name": "HBoxModel",
            "_view_count": null,
            "_view_module": "@jupyter-widgets/controls",
            "_view_module_version": "1.5.0",
            "_view_name": "HBoxView",
            "box_style": "",
            "children": [
              "IPY_MODEL_4e1eb104a7c34a139cbc2609d7e227a9",
              "IPY_MODEL_d456c28f62c14038b5382bc5a5600b1a",
              "IPY_MODEL_d21e79f25a05411db1c556894bcef934"
            ],
            "layout": "IPY_MODEL_9c2e2b55dc104d5aaf411a0ae982dfdf"
          }
        },
        "4e1eb104a7c34a139cbc2609d7e227a9": {
          "model_module": "@jupyter-widgets/controls",
          "model_name": "HTMLModel",
          "model_module_version": "1.5.0",
          "state": {
            "_dom_classes": [],
            "_model_module": "@jupyter-widgets/controls",
            "_model_module_version": "1.5.0",
            "_model_name": "HTMLModel",
            "_view_count": null,
            "_view_module": "@jupyter-widgets/controls",
            "_view_module_version": "1.5.0",
            "_view_name": "HTMLView",
            "description": "",
            "description_tooltip": null,
            "layout": "IPY_MODEL_a343d2ab50dc47cd9db5d2d2abc20753",
            "placeholder": "​",
            "style": "IPY_MODEL_427701a2126a435e9b18cdeedd6e9b22",
            "value": "Processing: 100%"
          }
        },
        "d456c28f62c14038b5382bc5a5600b1a": {
          "model_module": "@jupyter-widgets/controls",
          "model_name": "FloatProgressModel",
          "model_module_version": "1.5.0",
          "state": {
            "_dom_classes": [],
            "_model_module": "@jupyter-widgets/controls",
            "_model_module_version": "1.5.0",
            "_model_name": "FloatProgressModel",
            "_view_count": null,
            "_view_module": "@jupyter-widgets/controls",
            "_view_module_version": "1.5.0",
            "_view_name": "ProgressView",
            "bar_style": "",
            "description": "",
            "description_tooltip": null,
            "layout": "IPY_MODEL_1e8a2b4269734aea864b15885e749bd8",
            "max": 7,
            "min": 0,
            "orientation": "horizontal",
            "style": "IPY_MODEL_83bc4de995b146ad8b56c8ce53790b91",
            "value": 7
          }
        },
        "d21e79f25a05411db1c556894bcef934": {
          "model_module": "@jupyter-widgets/controls",
          "model_name": "HTMLModel",
          "model_module_version": "1.5.0",
          "state": {
            "_dom_classes": [],
            "_model_module": "@jupyter-widgets/controls",
            "_model_module_version": "1.5.0",
            "_model_name": "HTMLModel",
            "_view_count": null,
            "_view_module": "@jupyter-widgets/controls",
            "_view_module_version": "1.5.0",
            "_view_name": "HTMLView",
            "description": "",
            "description_tooltip": null,
            "layout": "IPY_MODEL_fe6b9fe0c488458da510f312e13c6a39",
            "placeholder": "​",
            "style": "IPY_MODEL_6413d1c0b37d473bbcecd8f115b56671",
            "value": " 7/7 [01:55&lt;00:00, 12.74s/it]"
          }
        },
        "9c2e2b55dc104d5aaf411a0ae982dfdf": {
          "model_module": "@jupyter-widgets/base",
          "model_name": "LayoutModel",
          "model_module_version": "1.2.0",
          "state": {
            "_model_module": "@jupyter-widgets/base",
            "_model_module_version": "1.2.0",
            "_model_name": "LayoutModel",
            "_view_count": null,
            "_view_module": "@jupyter-widgets/base",
            "_view_module_version": "1.2.0",
            "_view_name": "LayoutView",
            "align_content": null,
            "align_items": null,
            "align_self": null,
            "border": null,
            "bottom": null,
            "display": null,
            "flex": null,
            "flex_flow": null,
            "grid_area": null,
            "grid_auto_columns": null,
            "grid_auto_flow": null,
            "grid_auto_rows": null,
            "grid_column": null,
            "grid_gap": null,
            "grid_row": null,
            "grid_template_areas": null,
            "grid_template_columns": null,
            "grid_template_rows": null,
            "height": null,
            "justify_content": null,
            "justify_items": null,
            "left": null,
            "margin": null,
            "max_height": null,
            "max_width": null,
            "min_height": null,
            "min_width": null,
            "object_fit": null,
            "object_position": null,
            "order": null,
            "overflow": null,
            "overflow_x": null,
            "overflow_y": null,
            "padding": null,
            "right": null,
            "top": null,
            "visibility": "hidden",
            "width": null
          }
        },
        "a343d2ab50dc47cd9db5d2d2abc20753": {
          "model_module": "@jupyter-widgets/base",
          "model_name": "LayoutModel",
          "model_module_version": "1.2.0",
          "state": {
            "_model_module": "@jupyter-widgets/base",
            "_model_module_version": "1.2.0",
            "_model_name": "LayoutModel",
            "_view_count": null,
            "_view_module": "@jupyter-widgets/base",
            "_view_module_version": "1.2.0",
            "_view_name": "LayoutView",
            "align_content": null,
            "align_items": null,
            "align_self": null,
            "border": null,
            "bottom": null,
            "display": null,
            "flex": null,
            "flex_flow": null,
            "grid_area": null,
            "grid_auto_columns": null,
            "grid_auto_flow": null,
            "grid_auto_rows": null,
            "grid_column": null,
            "grid_gap": null,
            "grid_row": null,
            "grid_template_areas": null,
            "grid_template_columns": null,
            "grid_template_rows": null,
            "height": null,
            "justify_content": null,
            "justify_items": null,
            "left": null,
            "margin": null,
            "max_height": null,
            "max_width": null,
            "min_height": null,
            "min_width": null,
            "object_fit": null,
            "object_position": null,
            "order": null,
            "overflow": null,
            "overflow_x": null,
            "overflow_y": null,
            "padding": null,
            "right": null,
            "top": null,
            "visibility": null,
            "width": null
          }
        },
        "427701a2126a435e9b18cdeedd6e9b22": {
          "model_module": "@jupyter-widgets/controls",
          "model_name": "DescriptionStyleModel",
          "model_module_version": "1.5.0",
          "state": {
            "_model_module": "@jupyter-widgets/controls",
            "_model_module_version": "1.5.0",
            "_model_name": "DescriptionStyleModel",
            "_view_count": null,
            "_view_module": "@jupyter-widgets/base",
            "_view_module_version": "1.2.0",
            "_view_name": "StyleView",
            "description_width": ""
          }
        },
        "1e8a2b4269734aea864b15885e749bd8": {
          "model_module": "@jupyter-widgets/base",
          "model_name": "LayoutModel",
          "model_module_version": "1.2.0",
          "state": {
            "_model_module": "@jupyter-widgets/base",
            "_model_module_version": "1.2.0",
            "_model_name": "LayoutModel",
            "_view_count": null,
            "_view_module": "@jupyter-widgets/base",
            "_view_module_version": "1.2.0",
            "_view_name": "LayoutView",
            "align_content": null,
            "align_items": null,
            "align_self": null,
            "border": null,
            "bottom": null,
            "display": null,
            "flex": null,
            "flex_flow": null,
            "grid_area": null,
            "grid_auto_columns": null,
            "grid_auto_flow": null,
            "grid_auto_rows": null,
            "grid_column": null,
            "grid_gap": null,
            "grid_row": null,
            "grid_template_areas": null,
            "grid_template_columns": null,
            "grid_template_rows": null,
            "height": null,
            "justify_content": null,
            "justify_items": null,
            "left": null,
            "margin": null,
            "max_height": null,
            "max_width": null,
            "min_height": null,
            "min_width": null,
            "object_fit": null,
            "object_position": null,
            "order": null,
            "overflow": null,
            "overflow_x": null,
            "overflow_y": null,
            "padding": null,
            "right": null,
            "top": null,
            "visibility": null,
            "width": null
          }
        },
        "83bc4de995b146ad8b56c8ce53790b91": {
          "model_module": "@jupyter-widgets/controls",
          "model_name": "ProgressStyleModel",
          "model_module_version": "1.5.0",
          "state": {
            "_model_module": "@jupyter-widgets/controls",
            "_model_module_version": "1.5.0",
            "_model_name": "ProgressStyleModel",
            "_view_count": null,
            "_view_module": "@jupyter-widgets/base",
            "_view_module_version": "1.2.0",
            "_view_name": "StyleView",
            "bar_color": null,
            "description_width": ""
          }
        },
        "fe6b9fe0c488458da510f312e13c6a39": {
          "model_module": "@jupyter-widgets/base",
          "model_name": "LayoutModel",
          "model_module_version": "1.2.0",
          "state": {
            "_model_module": "@jupyter-widgets/base",
            "_model_module_version": "1.2.0",
            "_model_name": "LayoutModel",
            "_view_count": null,
            "_view_module": "@jupyter-widgets/base",
            "_view_module_version": "1.2.0",
            "_view_name": "LayoutView",
            "align_content": null,
            "align_items": null,
            "align_self": null,
            "border": null,
            "bottom": null,
            "display": null,
            "flex": null,
            "flex_flow": null,
            "grid_area": null,
            "grid_auto_columns": null,
            "grid_auto_flow": null,
            "grid_auto_rows": null,
            "grid_column": null,
            "grid_gap": null,
            "grid_row": null,
            "grid_template_areas": null,
            "grid_template_columns": null,
            "grid_template_rows": null,
            "height": null,
            "justify_content": null,
            "justify_items": null,
            "left": null,
            "margin": null,
            "max_height": null,
            "max_width": null,
            "min_height": null,
            "min_width": null,
            "object_fit": null,
            "object_position": null,
            "order": null,
            "overflow": null,
            "overflow_x": null,
            "overflow_y": null,
            "padding": null,
            "right": null,
            "top": null,
            "visibility": null,
            "width": null
          }
        },
        "6413d1c0b37d473bbcecd8f115b56671": {
          "model_module": "@jupyter-widgets/controls",
          "model_name": "DescriptionStyleModel",
          "model_module_version": "1.5.0",
          "state": {
            "_model_module": "@jupyter-widgets/controls",
            "_model_module_version": "1.5.0",
            "_model_name": "DescriptionStyleModel",
            "_view_count": null,
            "_view_module": "@jupyter-widgets/base",
            "_view_module_version": "1.2.0",
            "_view_name": "StyleView",
            "description_width": ""
          }
        },
        "abd6abded7234d9e94a204b89969d378": {
          "model_module": "@jupyter-widgets/controls",
          "model_name": "VBoxModel",
          "model_module_version": "1.5.0",
          "state": {
            "_dom_classes": [
              "widget-interact"
            ],
            "_model_module": "@jupyter-widgets/controls",
            "_model_module_version": "1.5.0",
            "_model_name": "VBoxModel",
            "_view_count": null,
            "_view_module": "@jupyter-widgets/controls",
            "_view_module_version": "1.5.0",
            "_view_name": "VBoxView",
            "box_style": "",
            "children": [
              "IPY_MODEL_9daf35fe63c44bccb460afdd22e0b51d",
              "IPY_MODEL_ad1ca1de60d44f26955d53102a710c9c"
            ],
            "layout": "IPY_MODEL_5f4edf0aca314b4cb507aca721f3d447"
          }
        },
        "9daf35fe63c44bccb460afdd22e0b51d": {
          "model_module": "@jupyter-widgets/controls",
          "model_name": "ToggleButtonsModel",
          "model_module_version": "1.5.0",
          "state": {
            "_dom_classes": [],
            "_model_module": "@jupyter-widgets/controls",
            "_model_module_version": "1.5.0",
            "_model_name": "ToggleButtonsModel",
            "_options_labels": [
              "Pipeline Plot",
              "Hyperparameters",
              "AUC",
              "Confusion Matrix",
              "Threshold",
              "Precision Recall",
              "Prediction Error",
              "Class Report",
              "Feature Selection",
              "Learning Curve",
              "Manifold Learning",
              "Calibration Curve",
              "Validation Curve",
              "Dimensions",
              "Feature Importance",
              "Feature Importance (All)",
              "Decision Boundary",
              "Lift Chart",
              "Gain Chart",
              "Decision Tree",
              "KS Statistic Plot"
            ],
            "_view_count": null,
            "_view_module": "@jupyter-widgets/controls",
            "_view_module_version": "1.5.0",
            "_view_name": "ToggleButtonsView",
            "button_style": "",
            "description": "Plot Type:",
            "description_tooltip": null,
            "disabled": false,
            "icons": [
              ""
            ],
            "index": 0,
            "layout": "IPY_MODEL_4759c73d60484b9b97172800745ea0cb",
            "style": "IPY_MODEL_928fb8149d4c406a8c398b0cc4715efd",
            "tooltips": []
          }
        },
        "ad1ca1de60d44f26955d53102a710c9c": {
          "model_module": "@jupyter-widgets/output",
          "model_name": "OutputModel",
          "model_module_version": "1.0.0",
          "state": {
            "_dom_classes": [],
            "_model_module": "@jupyter-widgets/output",
            "_model_module_version": "1.0.0",
            "_model_name": "OutputModel",
            "_view_count": null,
            "_view_module": "@jupyter-widgets/output",
            "_view_module_version": "1.0.0",
            "_view_name": "OutputView",
            "layout": "IPY_MODEL_af39f91c16df402eaf95af21caeb7625",
            "msg_id": "",
            "outputs": [
              {
                "output_type": "display_data",
                "data": {
                  "text/plain": "<Figure size 1700x600 with 1 Axes>",
                  "image/png": "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\n"
                },
                "metadata": {}
              }
            ]
          }
        },
        "5f4edf0aca314b4cb507aca721f3d447": {
          "model_module": "@jupyter-widgets/base",
          "model_name": "LayoutModel",
          "model_module_version": "1.2.0",
          "state": {
            "_model_module": "@jupyter-widgets/base",
            "_model_module_version": "1.2.0",
            "_model_name": "LayoutModel",
            "_view_count": null,
            "_view_module": "@jupyter-widgets/base",
            "_view_module_version": "1.2.0",
            "_view_name": "LayoutView",
            "align_content": null,
            "align_items": null,
            "align_self": null,
            "border": null,
            "bottom": null,
            "display": null,
            "flex": null,
            "flex_flow": null,
            "grid_area": null,
            "grid_auto_columns": null,
            "grid_auto_flow": null,
            "grid_auto_rows": null,
            "grid_column": null,
            "grid_gap": null,
            "grid_row": null,
            "grid_template_areas": null,
            "grid_template_columns": null,
            "grid_template_rows": null,
            "height": null,
            "justify_content": null,
            "justify_items": null,
            "left": null,
            "margin": null,
            "max_height": null,
            "max_width": null,
            "min_height": null,
            "min_width": null,
            "object_fit": null,
            "object_position": null,
            "order": null,
            "overflow": null,
            "overflow_x": null,
            "overflow_y": null,
            "padding": null,
            "right": null,
            "top": null,
            "visibility": null,
            "width": null
          }
        },
        "4759c73d60484b9b97172800745ea0cb": {
          "model_module": "@jupyter-widgets/base",
          "model_name": "LayoutModel",
          "model_module_version": "1.2.0",
          "state": {
            "_model_module": "@jupyter-widgets/base",
            "_model_module_version": "1.2.0",
            "_model_name": "LayoutModel",
            "_view_count": null,
            "_view_module": "@jupyter-widgets/base",
            "_view_module_version": "1.2.0",
            "_view_name": "LayoutView",
            "align_content": null,
            "align_items": null,
            "align_self": null,
            "border": null,
            "bottom": null,
            "display": null,
            "flex": null,
            "flex_flow": null,
            "grid_area": null,
            "grid_auto_columns": null,
            "grid_auto_flow": null,
            "grid_auto_rows": null,
            "grid_column": null,
            "grid_gap": null,
            "grid_row": null,
            "grid_template_areas": null,
            "grid_template_columns": null,
            "grid_template_rows": null,
            "height": null,
            "justify_content": null,
            "justify_items": null,
            "left": null,
            "margin": null,
            "max_height": null,
            "max_width": null,
            "min_height": null,
            "min_width": null,
            "object_fit": null,
            "object_position": null,
            "order": null,
            "overflow": null,
            "overflow_x": null,
            "overflow_y": null,
            "padding": null,
            "right": null,
            "top": null,
            "visibility": null,
            "width": null
          }
        },
        "928fb8149d4c406a8c398b0cc4715efd": {
          "model_module": "@jupyter-widgets/controls",
          "model_name": "ToggleButtonsStyleModel",
          "model_module_version": "1.5.0",
          "state": {
            "_model_module": "@jupyter-widgets/controls",
            "_model_module_version": "1.5.0",
            "_model_name": "ToggleButtonsStyleModel",
            "_view_count": null,
            "_view_module": "@jupyter-widgets/base",
            "_view_module_version": "1.2.0",
            "_view_name": "StyleView",
            "button_width": "",
            "description_width": "",
            "font_weight": ""
          }
        },
        "af39f91c16df402eaf95af21caeb7625": {
          "model_module": "@jupyter-widgets/base",
          "model_name": "LayoutModel",
          "model_module_version": "1.2.0",
          "state": {
            "_model_module": "@jupyter-widgets/base",
            "_model_module_version": "1.2.0",
            "_model_name": "LayoutModel",
            "_view_count": null,
            "_view_module": "@jupyter-widgets/base",
            "_view_module_version": "1.2.0",
            "_view_name": "LayoutView",
            "align_content": null,
            "align_items": null,
            "align_self": null,
            "border": null,
            "bottom": null,
            "display": null,
            "flex": null,
            "flex_flow": null,
            "grid_area": null,
            "grid_auto_columns": null,
            "grid_auto_flow": null,
            "grid_auto_rows": null,
            "grid_column": null,
            "grid_gap": null,
            "grid_row": null,
            "grid_template_areas": null,
            "grid_template_columns": null,
            "grid_template_rows": null,
            "height": null,
            "justify_content": null,
            "justify_items": null,
            "left": null,
            "margin": null,
            "max_height": null,
            "max_width": null,
            "min_height": null,
            "min_width": null,
            "object_fit": null,
            "object_position": null,
            "order": null,
            "overflow": null,
            "overflow_x": null,
            "overflow_y": null,
            "padding": null,
            "right": null,
            "top": null,
            "visibility": null,
            "width": null
          }
        }
      }
    }
  },
  "cells": [
    {
      "cell_type": "markdown",
      "metadata": {
        "id": "view-in-github"
      },
      "source": [
        "<a href=\"https://colab.research.google.com/github/elnaggar96/ahmed-elnagar/blob/main/NLP_Projet_using_LSTM.ipynb\" target=\"_parent\"><img src=\"https://colab.research.google.com/assets/colab-badge.svg\" alt=\"Open In Colab\"/></a>"
      ]
    },
    {
      "cell_type": "code",
      "execution_count": 1,
      "metadata": {
        "id": "rq-mpAS7APaa"
      },
      "outputs": [],
      "source": [
        "import warnings\n",
        "warnings.simplefilter(action='ignore', category=Warning)\n",
        "import pandas as pd\n",
        "import numpy as np\n",
        "import re\n",
        "import nltk\n",
        "from nltk.corpus import stopwords\n",
        "from tqdm import tqdm\n",
        "import seaborn as sns\n",
        "sns.set_style(\"darkgrid\")\n",
        "import matplotlib.pyplot as plt\n",
        "%matplotlib inline"
      ]
    },
    {
      "cell_type": "code",
      "source": [
        "import pandas as pd\n",
        "import numpy as np\n",
        "import seaborn as sns\n",
        "import matplotlib.pyplot as plt\n",
        "%matplotlib inline\n",
        "import tensorflow as tf\n",
        "\n",
        "#libraries for NLP\n",
        "import re\n",
        "from nltk.stem import PorterStemmer\n",
        "from nltk.corpus import stopwords\n",
        "from nltk.stem.porter import PorterStemmer\n",
        "from nltk.stem.snowball import SnowballStemmer\n",
        "from nltk.stem import WordNetLemmatizer\n",
        "from wordcloud import WordCloud,STOPWORDS\n",
        "from sklearn.feature_extraction.text import CountVectorizer, TfidfTransformer\n",
        "from sklearn.feature_extraction.text import TfidfVectorizer\n",
        "from sklearn import model_selection, metrics, preprocessing, ensemble, model_selection, metrics\n",
        "from IPython.core.interactiveshell import InteractiveShell\n",
        "InteractiveShell.ast_node_interactivity = 'all'\n",
        "from tqdm import tqdm\n",
        "from IPython.display import HTML\n",
        "#!pip install chart_studio\n",
        "import plotly\n",
        "import plotly.subplots\n",
        "import plotly.graph_objs as go\n",
        "import chart_studio.plotly as py\n",
        "import plotly.figure_factory as ff\n",
        "from plotly.offline import iplot\n",
        "plotly.offline.init_notebook_mode(connected=True)\n",
        "import cufflinks\n",
        "cufflinks.go_offline()\n",
        "cufflinks.set_config_file(world_readable=True, theme='pearl')\n",
        "import plotly.express as px\n",
        "from collections import defaultdict\n",
        "from tensorflow import keras\n",
        "from sklearn.ensemble import RandomForestClassifier\n",
        "from xgboost import XGBClassifier\n",
        "from sklearn.naive_bayes import MultinomialNB\n",
        "from sklearn.ensemble import VotingClassifier\n",
        "from sklearn.svm import SVC\n",
        "from sklearn.preprocessing import StandardScaler\n",
        "from sklearn.model_selection import train_test_split\n",
        "from sklearn.linear_model import LogisticRegression\n",
        "from sklearn import neighbors\n",
        "from sklearn.neighbors import KNeighborsClassifier\n",
        "from sklearn.model_selection import cross_val_score\n",
        "from sklearn.metrics import f1_score\n",
        "from sklearn.tree import DecisionTreeClassifier\n",
        "from sklearn.preprocessing import LabelEncoder\n",
        "from sklearn.tree import DecisionTreeRegressor\n",
        "from sklearn.preprocessing import MinMaxScaler\n",
        "from sklearn.metrics import accuracy_score, confusion_matrix, classification_report, ConfusionMatrixDisplay\n",
        "from sklearn.model_selection import GridSearchCV\n",
        "from yellowbrick.classifier import ConfusionMatrix\n",
        "from sklearn.model_selection import RandomizedSearchCV\n",
        "import tensorflow as tf\n",
        "from tensorflow.keras.layers import Dense, Embedding, LSTM, Dropout,Conv1D, Bidirectional, Dropout, Input\n",
        "from tensorflow.keras.models import Model\n",
        "from tensorflow.keras.preprocessing.text import Tokenizer\n",
        "from tensorflow.keras.preprocessing.sequence import pad_sequences\n",
        "from tensorflow.keras.optimizers import Adam\n",
        "from tensorflow.keras.models import Sequential\n",
        "import warnings\n",
        "warnings.filterwarnings('ignore')\n",
        "import os\n",
        "import joblib\n",
        "import ydata_profiling\n",
        "from pycaret.classification import *"
      ],
      "metadata": {
        "colab": {
          "base_uri": "https://localhost:8080/",
          "height": 17
        },
        "id": "C59JPySNRcdW",
        "outputId": "75f4f9d3-1fee-4173-ad40-6e25cd82f30c"
      },
      "execution_count": 88,
      "outputs": [
        {
          "output_type": "display_data",
          "data": {
            "text/html": [
              "        <script type=\"text/javascript\">\n",
              "        window.PlotlyConfig = {MathJaxConfig: 'local'};\n",
              "        if (window.MathJax && window.MathJax.Hub && window.MathJax.Hub.Config) {window.MathJax.Hub.Config({SVG: {font: \"STIX-Web\"}});}\n",
              "        if (typeof require !== 'undefined') {\n",
              "        require.undef(\"plotly\");\n",
              "        requirejs.config({\n",
              "            paths: {\n",
              "                'plotly': ['https://cdn.plot.ly/plotly-2.18.2.min']\n",
              "            }\n",
              "        });\n",
              "        require(['plotly'], function(Plotly) {\n",
              "            window._Plotly = Plotly;\n",
              "        });\n",
              "        }\n",
              "        </script>\n",
              "        "
            ]
          },
          "metadata": {}
        },
        {
          "output_type": "display_data",
          "data": {
            "text/html": [
              "        <script type=\"text/javascript\">\n",
              "        window.PlotlyConfig = {MathJaxConfig: 'local'};\n",
              "        if (window.MathJax && window.MathJax.Hub && window.MathJax.Hub.Config) {window.MathJax.Hub.Config({SVG: {font: \"STIX-Web\"}});}\n",
              "        if (typeof require !== 'undefined') {\n",
              "        require.undef(\"plotly\");\n",
              "        requirejs.config({\n",
              "            paths: {\n",
              "                'plotly': ['https://cdn.plot.ly/plotly-2.18.2.min']\n",
              "            }\n",
              "        });\n",
              "        require(['plotly'], function(Plotly) {\n",
              "            window._Plotly = Plotly;\n",
              "        });\n",
              "        }\n",
              "        </script>\n",
              "        "
            ]
          },
          "metadata": {}
        }
      ]
    },
    {
      "cell_type": "code",
      "source": [
        "from google.colab import drive\n",
        "drive.mount('/content/drive')"
      ],
      "metadata": {
        "colab": {
          "base_uri": "https://localhost:8080/"
        },
        "id": "fbjpgcLGsPmz",
        "outputId": "bc5fec28-235d-495e-866d-7e87f761c312"
      },
      "execution_count": 3,
      "outputs": [
        {
          "output_type": "stream",
          "name": "stdout",
          "text": [
            "Mounted at /content/drive\n"
          ]
        }
      ]
    },
    {
      "cell_type": "markdown",
      "source": [
        " import our disaster tweet dataset"
      ],
      "metadata": {
        "id": "xdOcAoQLAgD7"
      }
    },
    {
      "cell_type": "code",
      "source": [
        "data = pd.read_csv(\"/content/train.csv\")\n",
        "Testdata =pd.read_csv('/content/test.csv')"
      ],
      "metadata": {
        "id": "5PJe4PUyAa0q"
      },
      "execution_count": 4,
      "outputs": []
    },
    {
      "cell_type": "markdown",
      "source": [
        "Check head and info of the data\n"
      ],
      "metadata": {
        "id": "kEpZlQIOPfHm"
      }
    },
    {
      "cell_type": "code",
      "source": [
        "data.head()"
      ],
      "metadata": {
        "colab": {
          "base_uri": "https://localhost:8080/",
          "height": 235
        },
        "id": "w9sTMvomA1-w",
        "outputId": "279ba211-6a38-47bc-9d19-6b7fa7d0257a"
      },
      "execution_count": 5,
      "outputs": [
        {
          "output_type": "execute_result",
          "data": {
            "text/plain": [
              "   id keyword location                                               text  \\\n",
              "0   1     NaN      NaN  Our Deeds are the Reason of this #earthquake M...   \n",
              "1   4     NaN      NaN             Forest fire near La Ronge Sask. Canada   \n",
              "2   5     NaN      NaN  All residents asked to 'shelter in place' are ...   \n",
              "3   6     NaN      NaN  13,000 people receive #wildfires evacuation or...   \n",
              "4   7     NaN      NaN  Just got sent this photo from Ruby #Alaska as ...   \n",
              "\n",
              "   target  \n",
              "0       1  \n",
              "1       1  \n",
              "2       1  \n",
              "3       1  \n",
              "4       1  "
            ],
            "text/html": [
              "\n",
              "  <div id=\"df-e8c721a3-403b-425e-8f71-6dfa18e1266d\">\n",
              "    <div class=\"colab-df-container\">\n",
              "      <div>\n",
              "<style scoped>\n",
              "    .dataframe tbody tr th:only-of-type {\n",
              "        vertical-align: middle;\n",
              "    }\n",
              "\n",
              "    .dataframe tbody tr th {\n",
              "        vertical-align: top;\n",
              "    }\n",
              "\n",
              "    .dataframe thead th {\n",
              "        text-align: right;\n",
              "    }\n",
              "</style>\n",
              "<table border=\"1\" class=\"dataframe\">\n",
              "  <thead>\n",
              "    <tr style=\"text-align: right;\">\n",
              "      <th></th>\n",
              "      <th>id</th>\n",
              "      <th>keyword</th>\n",
              "      <th>location</th>\n",
              "      <th>text</th>\n",
              "      <th>target</th>\n",
              "    </tr>\n",
              "  </thead>\n",
              "  <tbody>\n",
              "    <tr>\n",
              "      <th>0</th>\n",
              "      <td>1</td>\n",
              "      <td>NaN</td>\n",
              "      <td>NaN</td>\n",
              "      <td>Our Deeds are the Reason of this #earthquake M...</td>\n",
              "      <td>1</td>\n",
              "    </tr>\n",
              "    <tr>\n",
              "      <th>1</th>\n",
              "      <td>4</td>\n",
              "      <td>NaN</td>\n",
              "      <td>NaN</td>\n",
              "      <td>Forest fire near La Ronge Sask. Canada</td>\n",
              "      <td>1</td>\n",
              "    </tr>\n",
              "    <tr>\n",
              "      <th>2</th>\n",
              "      <td>5</td>\n",
              "      <td>NaN</td>\n",
              "      <td>NaN</td>\n",
              "      <td>All residents asked to 'shelter in place' are ...</td>\n",
              "      <td>1</td>\n",
              "    </tr>\n",
              "    <tr>\n",
              "      <th>3</th>\n",
              "      <td>6</td>\n",
              "      <td>NaN</td>\n",
              "      <td>NaN</td>\n",
              "      <td>13,000 people receive #wildfires evacuation or...</td>\n",
              "      <td>1</td>\n",
              "    </tr>\n",
              "    <tr>\n",
              "      <th>4</th>\n",
              "      <td>7</td>\n",
              "      <td>NaN</td>\n",
              "      <td>NaN</td>\n",
              "      <td>Just got sent this photo from Ruby #Alaska as ...</td>\n",
              "      <td>1</td>\n",
              "    </tr>\n",
              "  </tbody>\n",
              "</table>\n",
              "</div>\n",
              "      <button class=\"colab-df-convert\" onclick=\"convertToInteractive('df-e8c721a3-403b-425e-8f71-6dfa18e1266d')\"\n",
              "              title=\"Convert this dataframe to an interactive table.\"\n",
              "              style=\"display:none;\">\n",
              "        \n",
              "  <svg xmlns=\"http://www.w3.org/2000/svg\" height=\"24px\"viewBox=\"0 0 24 24\"\n",
              "       width=\"24px\">\n",
              "    <path d=\"M0 0h24v24H0V0z\" fill=\"none\"/>\n",
              "    <path d=\"M18.56 5.44l.94 2.06.94-2.06 2.06-.94-2.06-.94-.94-2.06-.94 2.06-2.06.94zm-11 1L8.5 8.5l.94-2.06 2.06-.94-2.06-.94L8.5 2.5l-.94 2.06-2.06.94zm10 10l.94 2.06.94-2.06 2.06-.94-2.06-.94-.94-2.06-.94 2.06-2.06.94z\"/><path d=\"M17.41 7.96l-1.37-1.37c-.4-.4-.92-.59-1.43-.59-.52 0-1.04.2-1.43.59L10.3 9.45l-7.72 7.72c-.78.78-.78 2.05 0 2.83L4 21.41c.39.39.9.59 1.41.59.51 0 1.02-.2 1.41-.59l7.78-7.78 2.81-2.81c.8-.78.8-2.07 0-2.86zM5.41 20L4 18.59l7.72-7.72 1.47 1.35L5.41 20z\"/>\n",
              "  </svg>\n",
              "      </button>\n",
              "      \n",
              "  <style>\n",
              "    .colab-df-container {\n",
              "      display:flex;\n",
              "      flex-wrap:wrap;\n",
              "      gap: 12px;\n",
              "    }\n",
              "\n",
              "    .colab-df-convert {\n",
              "      background-color: #E8F0FE;\n",
              "      border: none;\n",
              "      border-radius: 50%;\n",
              "      cursor: pointer;\n",
              "      display: none;\n",
              "      fill: #1967D2;\n",
              "      height: 32px;\n",
              "      padding: 0 0 0 0;\n",
              "      width: 32px;\n",
              "    }\n",
              "\n",
              "    .colab-df-convert:hover {\n",
              "      background-color: #E2EBFA;\n",
              "      box-shadow: 0px 1px 2px rgba(60, 64, 67, 0.3), 0px 1px 3px 1px rgba(60, 64, 67, 0.15);\n",
              "      fill: #174EA6;\n",
              "    }\n",
              "\n",
              "    [theme=dark] .colab-df-convert {\n",
              "      background-color: #3B4455;\n",
              "      fill: #D2E3FC;\n",
              "    }\n",
              "\n",
              "    [theme=dark] .colab-df-convert:hover {\n",
              "      background-color: #434B5C;\n",
              "      box-shadow: 0px 1px 3px 1px rgba(0, 0, 0, 0.15);\n",
              "      filter: drop-shadow(0px 1px 2px rgba(0, 0, 0, 0.3));\n",
              "      fill: #FFFFFF;\n",
              "    }\n",
              "  </style>\n",
              "\n",
              "      <script>\n",
              "        const buttonEl =\n",
              "          document.querySelector('#df-e8c721a3-403b-425e-8f71-6dfa18e1266d button.colab-df-convert');\n",
              "        buttonEl.style.display =\n",
              "          google.colab.kernel.accessAllowed ? 'block' : 'none';\n",
              "\n",
              "        async function convertToInteractive(key) {\n",
              "          const element = document.querySelector('#df-e8c721a3-403b-425e-8f71-6dfa18e1266d');\n",
              "          const dataTable =\n",
              "            await google.colab.kernel.invokeFunction('convertToInteractive',\n",
              "                                                     [key], {});\n",
              "          if (!dataTable) return;\n",
              "\n",
              "          const docLinkHtml = 'Like what you see? Visit the ' +\n",
              "            '<a target=\"_blank\" href=https://colab.research.google.com/notebooks/data_table.ipynb>data table notebook</a>'\n",
              "            + ' to learn more about interactive tables.';\n",
              "          element.innerHTML = '';\n",
              "          dataTable['output_type'] = 'display_data';\n",
              "          await google.colab.output.renderOutput(dataTable, element);\n",
              "          const docLink = document.createElement('div');\n",
              "          docLink.innerHTML = docLinkHtml;\n",
              "          element.appendChild(docLink);\n",
              "        }\n",
              "      </script>\n",
              "    </div>\n",
              "  </div>\n",
              "  "
            ]
          },
          "metadata": {},
          "execution_count": 5
        }
      ]
    },
    {
      "cell_type": "code",
      "source": [
        "data.info()"
      ],
      "metadata": {
        "colab": {
          "base_uri": "https://localhost:8080/"
        },
        "id": "KiYbPJQSPnR6",
        "outputId": "c4823a6f-02e4-47af-e5b7-ffeb6fb03e0d"
      },
      "execution_count": 6,
      "outputs": [
        {
          "output_type": "stream",
          "name": "stdout",
          "text": [
            "<class 'pandas.core.frame.DataFrame'>\n",
            "RangeIndex: 7613 entries, 0 to 7612\n",
            "Data columns (total 5 columns):\n",
            " #   Column    Non-Null Count  Dtype \n",
            "---  ------    --------------  ----- \n",
            " 0   id        7613 non-null   int64 \n",
            " 1   keyword   7552 non-null   object\n",
            " 2   location  5080 non-null   object\n",
            " 3   text      7613 non-null   object\n",
            " 4   target    7613 non-null   int64 \n",
            "dtypes: int64(2), object(3)\n",
            "memory usage: 297.5+ KB\n"
          ]
        }
      ]
    },
    {
      "cell_type": "code",
      "source": [
        "data.shape"
      ],
      "metadata": {
        "colab": {
          "base_uri": "https://localhost:8080/"
        },
        "id": "oFsLW8fLPyvf",
        "outputId": "3d320d51-382c-4f4e-838c-bd4f86db00cc"
      },
      "execution_count": 7,
      "outputs": [
        {
          "output_type": "execute_result",
          "data": {
            "text/plain": [
              "(7613, 5)"
            ]
          },
          "metadata": {},
          "execution_count": 7
        }
      ]
    },
    {
      "cell_type": "code",
      "source": [
        "#Count of duplicate values\n",
        "data.duplicated().sum()"
      ],
      "metadata": {
        "colab": {
          "base_uri": "https://localhost:8080/"
        },
        "id": "X7imEXRFQ_oN",
        "outputId": "4e866673-86c2-4f4b-c209-1d2d56c2ed4a"
      },
      "execution_count": null,
      "outputs": [
        {
          "output_type": "execute_result",
          "data": {
            "text/plain": [
              "0"
            ]
          },
          "metadata": {},
          "execution_count": 8
        }
      ]
    },
    {
      "cell_type": "code",
      "source": [
        "data.describe()"
      ],
      "metadata": {
        "colab": {
          "base_uri": "https://localhost:8080/",
          "height": 279
        },
        "id": "U9DeV_yuP-7Y",
        "outputId": "d963a988-6af9-4022-de56-cf5c849021ce"
      },
      "execution_count": 8,
      "outputs": [
        {
          "output_type": "execute_result",
          "data": {
            "text/plain": [
              "                 id      target\n",
              "count   7613.000000  7613.00000\n",
              "mean    5441.934848     0.42966\n",
              "std     3137.116090     0.49506\n",
              "min        1.000000     0.00000\n",
              "25%     2734.000000     0.00000\n",
              "50%     5408.000000     0.00000\n",
              "75%     8146.000000     1.00000\n",
              "max    10873.000000     1.00000"
            ],
            "text/html": [
              "\n",
              "  <div id=\"df-ada753e9-6be0-4bc3-abc0-15f205e548fe\">\n",
              "    <div class=\"colab-df-container\">\n",
              "      <div>\n",
              "<style scoped>\n",
              "    .dataframe tbody tr th:only-of-type {\n",
              "        vertical-align: middle;\n",
              "    }\n",
              "\n",
              "    .dataframe tbody tr th {\n",
              "        vertical-align: top;\n",
              "    }\n",
              "\n",
              "    .dataframe thead th {\n",
              "        text-align: right;\n",
              "    }\n",
              "</style>\n",
              "<table border=\"1\" class=\"dataframe\">\n",
              "  <thead>\n",
              "    <tr style=\"text-align: right;\">\n",
              "      <th></th>\n",
              "      <th>id</th>\n",
              "      <th>target</th>\n",
              "    </tr>\n",
              "  </thead>\n",
              "  <tbody>\n",
              "    <tr>\n",
              "      <th>count</th>\n",
              "      <td>7613.000000</td>\n",
              "      <td>7613.00000</td>\n",
              "    </tr>\n",
              "    <tr>\n",
              "      <th>mean</th>\n",
              "      <td>5441.934848</td>\n",
              "      <td>0.42966</td>\n",
              "    </tr>\n",
              "    <tr>\n",
              "      <th>std</th>\n",
              "      <td>3137.116090</td>\n",
              "      <td>0.49506</td>\n",
              "    </tr>\n",
              "    <tr>\n",
              "      <th>min</th>\n",
              "      <td>1.000000</td>\n",
              "      <td>0.00000</td>\n",
              "    </tr>\n",
              "    <tr>\n",
              "      <th>25%</th>\n",
              "      <td>2734.000000</td>\n",
              "      <td>0.00000</td>\n",
              "    </tr>\n",
              "    <tr>\n",
              "      <th>50%</th>\n",
              "      <td>5408.000000</td>\n",
              "      <td>0.00000</td>\n",
              "    </tr>\n",
              "    <tr>\n",
              "      <th>75%</th>\n",
              "      <td>8146.000000</td>\n",
              "      <td>1.00000</td>\n",
              "    </tr>\n",
              "    <tr>\n",
              "      <th>max</th>\n",
              "      <td>10873.000000</td>\n",
              "      <td>1.00000</td>\n",
              "    </tr>\n",
              "  </tbody>\n",
              "</table>\n",
              "</div>\n",
              "      <button class=\"colab-df-convert\" onclick=\"convertToInteractive('df-ada753e9-6be0-4bc3-abc0-15f205e548fe')\"\n",
              "              title=\"Convert this dataframe to an interactive table.\"\n",
              "              style=\"display:none;\">\n",
              "        \n",
              "  <svg xmlns=\"http://www.w3.org/2000/svg\" height=\"24px\"viewBox=\"0 0 24 24\"\n",
              "       width=\"24px\">\n",
              "    <path d=\"M0 0h24v24H0V0z\" fill=\"none\"/>\n",
              "    <path d=\"M18.56 5.44l.94 2.06.94-2.06 2.06-.94-2.06-.94-.94-2.06-.94 2.06-2.06.94zm-11 1L8.5 8.5l.94-2.06 2.06-.94-2.06-.94L8.5 2.5l-.94 2.06-2.06.94zm10 10l.94 2.06.94-2.06 2.06-.94-2.06-.94-.94-2.06-.94 2.06-2.06.94z\"/><path d=\"M17.41 7.96l-1.37-1.37c-.4-.4-.92-.59-1.43-.59-.52 0-1.04.2-1.43.59L10.3 9.45l-7.72 7.72c-.78.78-.78 2.05 0 2.83L4 21.41c.39.39.9.59 1.41.59.51 0 1.02-.2 1.41-.59l7.78-7.78 2.81-2.81c.8-.78.8-2.07 0-2.86zM5.41 20L4 18.59l7.72-7.72 1.47 1.35L5.41 20z\"/>\n",
              "  </svg>\n",
              "      </button>\n",
              "      \n",
              "  <style>\n",
              "    .colab-df-container {\n",
              "      display:flex;\n",
              "      flex-wrap:wrap;\n",
              "      gap: 12px;\n",
              "    }\n",
              "\n",
              "    .colab-df-convert {\n",
              "      background-color: #E8F0FE;\n",
              "      border: none;\n",
              "      border-radius: 50%;\n",
              "      cursor: pointer;\n",
              "      display: none;\n",
              "      fill: #1967D2;\n",
              "      height: 32px;\n",
              "      padding: 0 0 0 0;\n",
              "      width: 32px;\n",
              "    }\n",
              "\n",
              "    .colab-df-convert:hover {\n",
              "      background-color: #E2EBFA;\n",
              "      box-shadow: 0px 1px 2px rgba(60, 64, 67, 0.3), 0px 1px 3px 1px rgba(60, 64, 67, 0.15);\n",
              "      fill: #174EA6;\n",
              "    }\n",
              "\n",
              "    [theme=dark] .colab-df-convert {\n",
              "      background-color: #3B4455;\n",
              "      fill: #D2E3FC;\n",
              "    }\n",
              "\n",
              "    [theme=dark] .colab-df-convert:hover {\n",
              "      background-color: #434B5C;\n",
              "      box-shadow: 0px 1px 3px 1px rgba(0, 0, 0, 0.15);\n",
              "      filter: drop-shadow(0px 1px 2px rgba(0, 0, 0, 0.3));\n",
              "      fill: #FFFFFF;\n",
              "    }\n",
              "  </style>\n",
              "\n",
              "      <script>\n",
              "        const buttonEl =\n",
              "          document.querySelector('#df-ada753e9-6be0-4bc3-abc0-15f205e548fe button.colab-df-convert');\n",
              "        buttonEl.style.display =\n",
              "          google.colab.kernel.accessAllowed ? 'block' : 'none';\n",
              "\n",
              "        async function convertToInteractive(key) {\n",
              "          const element = document.querySelector('#df-ada753e9-6be0-4bc3-abc0-15f205e548fe');\n",
              "          const dataTable =\n",
              "            await google.colab.kernel.invokeFunction('convertToInteractive',\n",
              "                                                     [key], {});\n",
              "          if (!dataTable) return;\n",
              "\n",
              "          const docLinkHtml = 'Like what you see? Visit the ' +\n",
              "            '<a target=\"_blank\" href=https://colab.research.google.com/notebooks/data_table.ipynb>data table notebook</a>'\n",
              "            + ' to learn more about interactive tables.';\n",
              "          element.innerHTML = '';\n",
              "          dataTable['output_type'] = 'display_data';\n",
              "          await google.colab.output.renderOutput(dataTable, element);\n",
              "          const docLink = document.createElement('div');\n",
              "          docLink.innerHTML = docLinkHtml;\n",
              "          element.appendChild(docLink);\n",
              "        }\n",
              "      </script>\n",
              "    </div>\n",
              "  </div>\n",
              "  "
            ]
          },
          "metadata": {},
          "execution_count": 8
        }
      ]
    },
    {
      "cell_type": "code",
      "source": [
        "data[\"target\"].value_counts(normalize = True) #normalized value counts"
      ],
      "metadata": {
        "colab": {
          "base_uri": "https://localhost:8080/"
        },
        "id": "crGxWG2DA855",
        "outputId": "e591dbe6-ebbd-4235-f570-32d9226bb8bd"
      },
      "execution_count": 10,
      "outputs": [
        {
          "output_type": "execute_result",
          "data": {
            "text/plain": [
              "0    0.57034\n",
              "1    0.42966\n",
              "Name: target, dtype: float64"
            ]
          },
          "metadata": {},
          "execution_count": 10
        }
      ]
    },
    {
      "cell_type": "code",
      "source": [
        "def length_plot(data, name):\n",
        "  length = [len(sentence.split()) for sentence in data]\n",
        "  plt.hist(length)\n",
        "  plt.title(name)\n",
        "length_plot(data[data[\"target\"]==0][\"text\"], \"Not Disaster\")\n",
        "length_plot(data[data[\"target\"]==1][\"text\"], \"Disaster\")"
      ],
      "metadata": {
        "colab": {
          "base_uri": "https://localhost:8080/",
          "height": 452
        },
        "id": "leJ-1TfBBKJ6",
        "outputId": "2c88442b-4bca-4997-e601-513a5c964d61"
      },
      "execution_count": 11,
      "outputs": [
        {
          "output_type": "display_data",
          "data": {
            "text/plain": [
              "<Figure size 640x480 with 1 Axes>"
            ],
            "image/png": "[encoded data removed]"
          },
          "metadata": {}
        }
      ]
    },
    {
      "cell_type": "markdown",
      "source": [
        "Missing data\n",
        "AND Data in each class"
      ],
      "metadata": {
        "id": "JolhsGDNQRJB"
      }
    },
    {
      "cell_type": "code",
      "source": [
        "data.isna().sum()"
      ],
      "metadata": {
        "colab": {
          "base_uri": "https://localhost:8080/"
        },
        "id": "FSaRohAzQPQN",
        "outputId": "78f5fc63-6cf5-46cd-b8c9-6aab2b7fec81"
      },
      "execution_count": null,
      "outputs": [
        {
          "output_type": "execute_result",
          "data": {
            "text/plain": [
              "id             0\n",
              "keyword       61\n",
              "location    2533\n",
              "text           0\n",
              "target         0\n",
              "dtype: int64"
            ]
          },
          "metadata": {},
          "execution_count": 13
        }
      ]
    },
    {
      "cell_type": "code",
      "source": [
        "percent_missing = data.isnull().sum() * 100 / len(data)\n",
        "missing_value_df = pd.DataFrame({'column_name': data.columns,\n",
        "                                 'percent_missing': percent_missing})\n",
        "percent_missing\n",
        "missing_value_df"
      ],
      "metadata": {
        "colab": {
          "base_uri": "https://localhost:8080/",
          "height": 319
        },
        "id": "AaKEeSIKQYdh",
        "outputId": "2f1f8671-0882-4421-a2e9-cde691a9fee5"
      },
      "execution_count": 12,
      "outputs": [
        {
          "output_type": "execute_result",
          "data": {
            "text/plain": [
              "id           0.000000\n",
              "keyword      0.801261\n",
              "location    33.272035\n",
              "text         0.000000\n",
              "target       0.000000\n",
              "dtype: float64"
            ]
          },
          "metadata": {},
          "execution_count": 12
        },
        {
          "output_type": "execute_result",
          "data": {
            "text/plain": [
              "         column_name  percent_missing\n",
              "id                id         0.000000\n",
              "keyword      keyword         0.801261\n",
              "location    location        33.272035\n",
              "text            text         0.000000\n",
              "target        target         0.000000"
            ],
            "text/html": [
              "\n",
              "  <div id=\"df-4b825d58-7cdf-483b-9730-107017267a40\">\n",
              "    <div class=\"colab-df-container\">\n",
              "      <div>\n",
              "<style scoped>\n",
              "    .dataframe tbody tr th:only-of-type {\n",
              "        vertical-align: middle;\n",
              "    }\n",
              "\n",
              "    .dataframe tbody tr th {\n",
              "        vertical-align: top;\n",
              "    }\n",
              "\n",
              "    .dataframe thead th {\n",
              "        text-align: right;\n",
              "    }\n",
              "</style>\n",
              "<table border=\"1\" class=\"dataframe\">\n",
              "  <thead>\n",
              "    <tr style=\"text-align: right;\">\n",
              "      <th></th>\n",
              "      <th>column_name</th>\n",
              "      <th>percent_missing</th>\n",
              "    </tr>\n",
              "  </thead>\n",
              "  <tbody>\n",
              "    <tr>\n",
              "      <th>id</th>\n",
              "      <td>id</td>\n",
              "      <td>0.000000</td>\n",
              "    </tr>\n",
              "    <tr>\n",
              "      <th>keyword</th>\n",
              "      <td>keyword</td>\n",
              "      <td>0.801261</td>\n",
              "    </tr>\n",
              "    <tr>\n",
              "      <th>location</th>\n",
              "      <td>location</td>\n",
              "      <td>33.272035</td>\n",
              "    </tr>\n",
              "    <tr>\n",
              "      <th>text</th>\n",
              "      <td>text</td>\n",
              "      <td>0.000000</td>\n",
              "    </tr>\n",
              "    <tr>\n",
              "      <th>target</th>\n",
              "      <td>target</td>\n",
              "      <td>0.000000</td>\n",
              "    </tr>\n",
              "  </tbody>\n",
              "</table>\n",
              "</div>\n",
              "      <button class=\"colab-df-convert\" onclick=\"convertToInteractive('df-4b825d58-7cdf-483b-9730-107017267a40')\"\n",
              "              title=\"Convert this dataframe to an interactive table.\"\n",
              "              style=\"display:none;\">\n",
              "        \n",
              "  <svg xmlns=\"http://www.w3.org/2000/svg\" height=\"24px\"viewBox=\"0 0 24 24\"\n",
              "       width=\"24px\">\n",
              "    <path d=\"M0 0h24v24H0V0z\" fill=\"none\"/>\n",
              "    <path d=\"M18.56 5.44l.94 2.06.94-2.06 2.06-.94-2.06-.94-.94-2.06-.94 2.06-2.06.94zm-11 1L8.5 8.5l.94-2.06 2.06-.94-2.06-.94L8.5 2.5l-.94 2.06-2.06.94zm10 10l.94 2.06.94-2.06 2.06-.94-2.06-.94-.94-2.06-.94 2.06-2.06.94z\"/><path d=\"M17.41 7.96l-1.37-1.37c-.4-.4-.92-.59-1.43-.59-.52 0-1.04.2-1.43.59L10.3 9.45l-7.72 7.72c-.78.78-.78 2.05 0 2.83L4 21.41c.39.39.9.59 1.41.59.51 0 1.02-.2 1.41-.59l7.78-7.78 2.81-2.81c.8-.78.8-2.07 0-2.86zM5.41 20L4 18.59l7.72-7.72 1.47 1.35L5.41 20z\"/>\n",
              "  </svg>\n",
              "      </button>\n",
              "      \n",
              "  <style>\n",
              "    .colab-df-container {\n",
              "      display:flex;\n",
              "      flex-wrap:wrap;\n",
              "      gap: 12px;\n",
              "    }\n",
              "\n",
              "    .colab-df-convert {\n",
              "      background-color: #E8F0FE;\n",
              "      border: none;\n",
              "      border-radius: 50%;\n",
              "      cursor: pointer;\n",
              "      display: none;\n",
              "      fill: #1967D2;\n",
              "      height: 32px;\n",
              "      padding: 0 0 0 0;\n",
              "      width: 32px;\n",
              "    }\n",
              "\n",
              "    .colab-df-convert:hover {\n",
              "      background-color: #E2EBFA;\n",
              "      box-shadow: 0px 1px 2px rgba(60, 64, 67, 0.3), 0px 1px 3px 1px rgba(60, 64, 67, 0.15);\n",
              "      fill: #174EA6;\n",
              "    }\n",
              "\n",
              "    [theme=dark] .colab-df-convert {\n",
              "      background-color: #3B4455;\n",
              "      fill: #D2E3FC;\n",
              "    }\n",
              "\n",
              "    [theme=dark] .colab-df-convert:hover {\n",
              "      background-color: #434B5C;\n",
              "      box-shadow: 0px 1px 3px 1px rgba(0, 0, 0, 0.15);\n",
              "      filter: drop-shadow(0px 1px 2px rgba(0, 0, 0, 0.3));\n",
              "      fill: #FFFFFF;\n",
              "    }\n",
              "  </style>\n",
              "\n",
              "      <script>\n",
              "        const buttonEl =\n",
              "          document.querySelector('#df-4b825d58-7cdf-483b-9730-107017267a40 button.colab-df-convert');\n",
              "        buttonEl.style.display =\n",
              "          google.colab.kernel.accessAllowed ? 'block' : 'none';\n",
              "\n",
              "        async function convertToInteractive(key) {\n",
              "          const element = document.querySelector('#df-4b825d58-7cdf-483b-9730-107017267a40');\n",
              "          const dataTable =\n",
              "            await google.colab.kernel.invokeFunction('convertToInteractive',\n",
              "                                                     [key], {});\n",
              "          if (!dataTable) return;\n",
              "\n",
              "          const docLinkHtml = 'Like what you see? Visit the ' +\n",
              "            '<a target=\"_blank\" href=https://colab.research.google.com/notebooks/data_table.ipynb>data table notebook</a>'\n",
              "            + ' to learn more about interactive tables.';\n",
              "          element.innerHTML = '';\n",
              "          dataTable['output_type'] = 'display_data';\n",
              "          await google.colab.output.renderOutput(dataTable, element);\n",
              "          const docLink = document.createElement('div');\n",
              "          docLink.innerHTML = docLinkHtml;\n",
              "          element.appendChild(docLink);\n",
              "        }\n",
              "      </script>\n",
              "    </div>\n",
              "  </div>\n",
              "  "
            ]
          },
          "metadata": {},
          "execution_count": 12
        }
      ]
    },
    {
      "cell_type": "markdown",
      "source": [
        " separate the dependent and independent features"
      ],
      "metadata": {
        "id": "lbCFA6SzBRlX"
      }
    },
    {
      "cell_type": "code",
      "source": [
        "X = data[\"text\"] # indpendent feature\n",
        "y = data[\"target\"] # dependent feature\n",
        "y = np.array(y) # converting to array"
      ],
      "metadata": {
        "id": "7lxseNSTBSHH"
      },
      "execution_count": 13,
      "outputs": []
    },
    {
      "cell_type": "markdown",
      "source": [
        "Calculating the number of unique words present in the disaster tweets"
      ],
      "metadata": {
        "id": "NDfYGTHRBiyn"
      }
    },
    {
      "cell_type": "code",
      "source": [
        "def unq_words(sentence):\n",
        "  unq_words_list = []\n",
        "  for sent in tqdm(sentence):\n",
        "    for word in sent.split():\n",
        "      if word.lower() not in unq_words_list:\n",
        "        unq_words_list.append(word.lower())\n",
        "      else:\n",
        "        pass\n",
        "  return unq_words_list\n",
        "unique_words = unq_words(X)\n",
        "print(\"Total unique words present :\",len(unique_words))"
      ],
      "metadata": {
        "colab": {
          "base_uri": "https://localhost:8080/"
        },
        "id": "egDfPwuwBYzR",
        "outputId": "96d0f0e5-dea8-4556-cd68-a479c1324ddf"
      },
      "execution_count": 14,
      "outputs": [
        {
          "output_type": "stream",
          "name": "stderr",
          "text": [
            "100%|██████████| 7613/7613 [00:06<00:00, 1145.26it/s]"
          ]
        },
        {
          "output_type": "stream",
          "name": "stdout",
          "text": [
            "Total unique words present : 27983\n"
          ]
        },
        {
          "output_type": "stream",
          "name": "stderr",
          "text": [
            "\n"
          ]
        }
      ]
    },
    {
      "cell_type": "code",
      "source": [
        "unique_words[:15]"
      ],
      "metadata": {
        "colab": {
          "base_uri": "https://localhost:8080/"
        },
        "id": "YK9Ql5NEBylK",
        "outputId": "5560fc26-2ce1-4149-87be-9e3a330c952c"
      },
      "execution_count": 15,
      "outputs": [
        {
          "output_type": "execute_result",
          "data": {
            "text/plain": [
              "['our',\n",
              " 'deeds',\n",
              " 'are',\n",
              " 'the',\n",
              " 'reason',\n",
              " 'of',\n",
              " 'this',\n",
              " '#earthquake',\n",
              " 'may',\n",
              " 'allah',\n",
              " 'forgive',\n",
              " 'us',\n",
              " 'all',\n",
              " 'forest',\n",
              " 'fire']"
            ]
          },
          "metadata": {},
          "execution_count": 15
        }
      ]
    },
    {
      "cell_type": "markdown",
      "source": [
        "words starting with “#”"
      ],
      "metadata": {
        "id": "FRczMaRGCE-u"
      }
    },
    {
      "cell_type": "code",
      "source": [
        "SYMBOL_1 = \"#\"\n",
        "sym1_words = [word for word in unique_words if word.startswith(SYMBOL_1)]\n",
        "len(sym1_words)"
      ],
      "metadata": {
        "colab": {
          "base_uri": "https://localhost:8080/"
        },
        "id": "ScOYKasmCFyh",
        "outputId": "5742fee1-2fa3-4c10-d6a9-95e77073b5ce"
      },
      "execution_count": 16,
      "outputs": [
        {
          "output_type": "execute_result",
          "data": {
            "text/plain": [
              "1965"
            ]
          },
          "metadata": {},
          "execution_count": 16
        }
      ]
    },
    {
      "cell_type": "markdown",
      "source": [
        "words starting with “@”"
      ],
      "metadata": {
        "id": "zmrYyiD0CZPc"
      }
    },
    {
      "cell_type": "code",
      "source": [
        "SYMBOL_2 = \"@\"\n",
        "sym2_words = [word for word in unique_words if word.startswith(SYMBOL_2)]\n",
        "len(sym2_words)"
      ],
      "metadata": {
        "colab": {
          "base_uri": "https://localhost:8080/"
        },
        "id": "dRNudXOBCaCn",
        "outputId": "91308459-c449-4f0c-df27-c8e25bf4a73e"
      },
      "execution_count": 17,
      "outputs": [
        {
          "output_type": "execute_result",
          "data": {
            "text/plain": [
              "2264"
            ]
          },
          "metadata": {},
          "execution_count": 17
        }
      ]
    },
    {
      "cell_type": "markdown",
      "source": [
        "remove the  urls present"
      ],
      "metadata": {
        "id": "OHnO7QIeCnYd"
      }
    },
    {
      "cell_type": "code",
      "source": [
        "def url_remover(text):\n",
        "    url_patterns = re.compile(r'https?://S+|www.S+')\n",
        "    return url_patterns.sub(r'', text)"
      ],
      "metadata": {
        "id": "uYA7AE-NCoHD"
      },
      "execution_count": 18,
      "outputs": []
    },
    {
      "cell_type": "code",
      "source": [
        "# Tokenization of paragraphs/sentences\n",
        "import nltk\n",
        "nltk.download(\"all\")"
      ],
      "metadata": {
        "colab": {
          "base_uri": "https://localhost:8080/"
        },
        "id": "ma6X4tc0C2CG",
        "outputId": "1b4cb163-451b-4939-fe52-5b01083bcdc3"
      },
      "execution_count": 19,
      "outputs": [
        {
          "output_type": "stream",
          "name": "stderr",
          "text": [
            "[nltk_data] Downloading collection 'all'\n",
            "[nltk_data]    | \n",
            "[nltk_data]    | Downloading package abc to /root/nltk_data...\n",
            "[nltk_data]    |   Unzipping corpora/abc.zip.\n",
            "[nltk_data]    | Downloading package alpino to /root/nltk_data...\n",
            "[nltk_data]    |   Unzipping corpora/alpino.zip.\n",
            "[nltk_data]    | Downloading package averaged_perceptron_tagger to\n",
            "[nltk_data]    |     /root/nltk_data...\n",
            "[nltk_data]    |   Unzipping taggers/averaged_perceptron_tagger.zip.\n",
            "[nltk_data]    | Downloading package averaged_perceptron_tagger_ru to\n",
            "[nltk_data]    |     /root/nltk_data...\n",
            "[nltk_data]    |   Unzipping\n",
            "[nltk_data]    |       taggers/averaged_perceptron_tagger_ru.zip.\n",
            "[nltk_data]    | Downloading package basque_grammars to\n",
            "[nltk_data]    |     /root/nltk_data...\n",
            "[nltk_data]    |   Unzipping grammars/basque_grammars.zip.\n",
            "[nltk_data]    | Downloading package bcp47 to /root/nltk_data...\n",
            "[nltk_data]    | Downloading package biocreative_ppi to\n",
            "[nltk_data]    |     /root/nltk_data...\n",
            "[nltk_data]    |   Unzipping corpora/biocreative_ppi.zip.\n",
            "[nltk_data]    | Downloading package bllip_wsj_no_aux to\n",
            "[nltk_data]    |     /root/nltk_data...\n",
            "[nltk_data]    |   Unzipping models/bllip_wsj_no_aux.zip.\n",
            "[nltk_data]    | Downloading package book_grammars to\n",
            "[nltk_data]    |     /root/nltk_data...\n",
            "[nltk_data]    |   Unzipping grammars/book_grammars.zip.\n",
            "[nltk_data]    | Downloading package brown to /root/nltk_data...\n",
            "[nltk_data]    |   Unzipping corpora/brown.zip.\n",
            "[nltk_data]    | Downloading package brown_tei to /root/nltk_data...\n",
            "[nltk_data]    |   Unzipping corpora/brown_tei.zip.\n",
            "[nltk_data]    | Downloading package cess_cat to /root/nltk_data...\n",
            "[nltk_data]    |   Unzipping corpora/cess_cat.zip.\n",
            "[nltk_data]    | Downloading package cess_esp to /root/nltk_data...\n",
            "[nltk_data]    |   Unzipping corpora/cess_esp.zip.\n",
            "[nltk_data]    | Downloading package chat80 to /root/nltk_data...\n",
            "[nltk_data]    |   Unzipping corpora/chat80.zip.\n",
            "[nltk_data]    | Downloading package city_database to\n",
            "[nltk_data]    |     /root/nltk_data...\n",
            "[nltk_data]    |   Unzipping corpora/city_database.zip.\n",
            "[nltk_data]    | Downloading package cmudict to /root/nltk_data...\n",
            "[nltk_data]    |   Unzipping corpora/cmudict.zip.\n",
            "[nltk_data]    | Downloading package comparative_sentences to\n",
            "[nltk_data]    |     /root/nltk_data...\n",
            "[nltk_data]    |   Unzipping corpora/comparative_sentences.zip.\n",
            "[nltk_data]    | Downloading package comtrans to /root/nltk_data...\n",
            "[nltk_data]    | Downloading package conll2000 to /root/nltk_data...\n",
            "[nltk_data]    |   Unzipping corpora/conll2000.zip.\n",
            "[nltk_data]    | Downloading package conll2002 to /root/nltk_data...\n",
            "[nltk_data]    |   Unzipping corpora/conll2002.zip.\n",
            "[nltk_data]    | Downloading package conll2007 to /root/nltk_data...\n",
            "[nltk_data]    | Downloading package crubadan to /root/nltk_data...\n",
            "[nltk_data]    |   Unzipping corpora/crubadan.zip.\n",
            "[nltk_data]    | Downloading package dependency_treebank to\n",
            "[nltk_data]    |     /root/nltk_data...\n",
            "[nltk_data]    |   Unzipping corpora/dependency_treebank.zip.\n",
            "[nltk_data]    | Downloading package dolch to /root/nltk_data...\n",
            "[nltk_data]    |   Unzipping corpora/dolch.zip.\n",
            "[nltk_data]    | Downloading package europarl_raw to\n",
            "[nltk_data]    |     /root/nltk_data...\n",
            "[nltk_data]    |   Unzipping corpora/europarl_raw.zip.\n",
            "[nltk_data]    | Downloading package extended_omw to\n",
            "[nltk_data]    |     /root/nltk_data...\n",
            "[nltk_data]    | Downloading package floresta to /root/nltk_data...\n",
            "[nltk_data]    |   Unzipping corpora/floresta.zip.\n",
            "[nltk_data]    | Downloading package framenet_v15 to\n",
            "[nltk_data]    |     /root/nltk_data...\n",
            "[nltk_data]    |   Unzipping corpora/framenet_v15.zip.\n",
            "[nltk_data]    | Downloading package framenet_v17 to\n",
            "[nltk_data]    |     /root/nltk_data...\n",
            "[nltk_data]    |   Unzipping corpora/framenet_v17.zip.\n",
            "[nltk_data]    | Downloading package gazetteers to /root/nltk_data...\n",
            "[nltk_data]    |   Unzipping corpora/gazetteers.zip.\n",
            "[nltk_data]    | Downloading package genesis to /root/nltk_data...\n",
            "[nltk_data]    |   Unzipping corpora/genesis.zip.\n",
            "[nltk_data]    | Downloading package gutenberg to /root/nltk_data...\n",
            "[nltk_data]    |   Unzipping corpora/gutenberg.zip.\n",
            "[nltk_data]    | Downloading package ieer to /root/nltk_data...\n",
            "[nltk_data]    |   Unzipping corpora/ieer.zip.\n",
            "[nltk_data]    | Downloading package inaugural to /root/nltk_data...\n",
            "[nltk_data]    |   Unzipping corpora/inaugural.zip.\n",
            "[nltk_data]    | Downloading package indian to /root/nltk_data...\n",
            "[nltk_data]    |   Unzipping corpora/indian.zip.\n",
            "[nltk_data]    | Downloading package jeita to /root/nltk_data...\n",
            "[nltk_data]    | Downloading package kimmo to /root/nltk_data...\n",
            "[nltk_data]    |   Unzipping corpora/kimmo.zip.\n",
            "[nltk_data]    | Downloading package knbc to /root/nltk_data...\n",
            "[nltk_data]    | Downloading package large_grammars to\n",
            "[nltk_data]    |     /root/nltk_data...\n",
            "[nltk_data]    |   Unzipping grammars/large_grammars.zip.\n",
            "[nltk_data]    | Downloading package lin_thesaurus to\n",
            "[nltk_data]    |     /root/nltk_data...\n",
            "[nltk_data]    |   Unzipping corpora/lin_thesaurus.zip.\n",
            "[nltk_data]    | Downloading package mac_morpho to /root/nltk_data...\n",
            "[nltk_data]    |   Unzipping corpora/mac_morpho.zip.\n",
            "[nltk_data]    | Downloading package machado to /root/nltk_data...\n",
            "[nltk_data]    | Downloading package masc_tagged to /root/nltk_data...\n",
            "[nltk_data]    | Downloading package maxent_ne_chunker to\n",
            "[nltk_data]    |     /root/nltk_data...\n",
            "[nltk_data]    |   Unzipping chunkers/maxent_ne_chunker.zip.\n",
            "[nltk_data]    | Downloading package maxent_treebank_pos_tagger to\n",
            "[nltk_data]    |     /root/nltk_data...\n",
            "[nltk_data]    |   Unzipping taggers/maxent_treebank_pos_tagger.zip.\n",
            "[nltk_data]    | Downloading package moses_sample to\n",
            "[nltk_data]    |     /root/nltk_data...\n",
            "[nltk_data]    |   Unzipping models/moses_sample.zip.\n",
            "[nltk_data]    | Downloading package movie_reviews to\n",
            "[nltk_data]    |     /root/nltk_data...\n",
            "[nltk_data]    |   Unzipping corpora/movie_reviews.zip.\n",
            "[nltk_data]    | Downloading package mte_teip5 to /root/nltk_data...\n",
            "[nltk_data]    |   Unzipping corpora/mte_teip5.zip.\n",
            "[nltk_data]    | Downloading package mwa_ppdb to /root/nltk_data...\n",
            "[nltk_data]    |   Unzipping misc/mwa_ppdb.zip.\n",
            "[nltk_data]    | Downloading package names to /root/nltk_data...\n",
            "[nltk_data]    |   Unzipping corpora/names.zip.\n",
            "[nltk_data]    | Downloading package nombank.1.0 to /root/nltk_data...\n",
            "[nltk_data]    | Downloading package nonbreaking_prefixes to\n",
            "[nltk_data]    |     /root/nltk_data...\n",
            "[nltk_data]    |   Unzipping corpora/nonbreaking_prefixes.zip.\n",
            "[nltk_data]    | Downloading package nps_chat to /root/nltk_data...\n",
            "[nltk_data]    |   Unzipping corpora/nps_chat.zip.\n",
            "[nltk_data]    | Downloading package omw to /root/nltk_data...\n",
            "[nltk_data]    | Downloading package omw-1.4 to /root/nltk_data...\n",
            "[nltk_data]    | Downloading package opinion_lexicon to\n",
            "[nltk_data]    |     /root/nltk_data...\n",
            "[nltk_data]    |   Unzipping corpora/opinion_lexicon.zip.\n",
            "[nltk_data]    | Downloading package panlex_swadesh to\n",
            "[nltk_data]    |     /root/nltk_data...\n",
            "[nltk_data]    | Downloading package paradigms to /root/nltk_data...\n",
            "[nltk_data]    |   Unzipping corpora/paradigms.zip.\n",
            "[nltk_data]    | Downloading package pe08 to /root/nltk_data...\n",
            "[nltk_data]    |   Unzipping corpora/pe08.zip.\n",
            "[nltk_data]    | Downloading package perluniprops to\n",
            "[nltk_data]    |     /root/nltk_data...\n",
            "[nltk_data]    |   Unzipping misc/perluniprops.zip.\n",
            "[nltk_data]    | Downloading package pil to /root/nltk_data...\n",
            "[nltk_data]    |   Unzipping corpora/pil.zip.\n",
            "[nltk_data]    | Downloading package pl196x to /root/nltk_data...\n",
            "[nltk_data]    |   Unzipping corpora/pl196x.zip.\n",
            "[nltk_data]    | Downloading package porter_test to /root/nltk_data...\n",
            "[nltk_data]    |   Unzipping stemmers/porter_test.zip.\n",
            "[nltk_data]    | Downloading package ppattach to /root/nltk_data...\n",
            "[nltk_data]    |   Unzipping corpora/ppattach.zip.\n",
            "[nltk_data]    | Downloading package problem_reports to\n",
            "[nltk_data]    |     /root/nltk_data...\n",
            "[nltk_data]    |   Unzipping corpora/problem_reports.zip.\n",
            "[nltk_data]    | Downloading package product_reviews_1 to\n",
            "[nltk_data]    |     /root/nltk_data...\n",
            "[nltk_data]    |   Unzipping corpora/product_reviews_1.zip.\n",
            "[nltk_data]    | Downloading package product_reviews_2 to\n",
            "[nltk_data]    |     /root/nltk_data...\n",
            "[nltk_data]    |   Unzipping corpora/product_reviews_2.zip.\n",
            "[nltk_data]    | Downloading package propbank to /root/nltk_data...\n",
            "[nltk_data]    | Downloading package pros_cons to /root/nltk_data...\n",
            "[nltk_data]    |   Unzipping corpora/pros_cons.zip.\n",
            "[nltk_data]    | Downloading package ptb to /root/nltk_data...\n",
            "[nltk_data]    |   Unzipping corpora/ptb.zip.\n",
            "[nltk_data]    | Downloading package punkt to /root/nltk_data...\n",
            "[nltk_data]    |   Unzipping tokenizers/punkt.zip.\n",
            "[nltk_data]    | Downloading package qc to /root/nltk_data...\n",
            "[nltk_data]    |   Unzipping corpora/qc.zip.\n",
            "[nltk_data]    | Downloading package reuters to /root/nltk_data...\n",
            "[nltk_data]    | Downloading package rslp to /root/nltk_data...\n",
            "[nltk_data]    |   Unzipping stemmers/rslp.zip.\n",
            "[nltk_data]    | Downloading package rte to /root/nltk_data...\n",
            "[nltk_data]    |   Unzipping corpora/rte.zip.\n",
            "[nltk_data]    | Downloading package sample_grammars to\n",
            "[nltk_data]    |     /root/nltk_data...\n",
            "[nltk_data]    |   Unzipping grammars/sample_grammars.zip.\n",
            "[nltk_data]    | Downloading package semcor to /root/nltk_data...\n",
            "[nltk_data]    | Downloading package senseval to /root/nltk_data...\n",
            "[nltk_data]    |   Unzipping corpora/senseval.zip.\n",
            "[nltk_data]    | Downloading package sentence_polarity to\n",
            "[nltk_data]    |     /root/nltk_data...\n",
            "[nltk_data]    |   Unzipping corpora/sentence_polarity.zip.\n",
            "[nltk_data]    | Downloading package sentiwordnet to\n",
            "[nltk_data]    |     /root/nltk_data...\n",
            "[nltk_data]    |   Unzipping corpora/sentiwordnet.zip.\n",
            "[nltk_data]    | Downloading package shakespeare to /root/nltk_data...\n",
            "[nltk_data]    |   Unzipping corpora/shakespeare.zip.\n",
            "[nltk_data]    | Downloading package sinica_treebank to\n",
            "[nltk_data]    |     /root/nltk_data...\n",
            "[nltk_data]    |   Unzipping corpora/sinica_treebank.zip.\n",
            "[nltk_data]    | Downloading package smultron to /root/nltk_data...\n",
            "[nltk_data]    |   Unzipping corpora/smultron.zip.\n",
            "[nltk_data]    | Downloading package snowball_data to\n",
            "[nltk_data]    |     /root/nltk_data...\n",
            "[nltk_data]    | Downloading package spanish_grammars to\n",
            "[nltk_data]    |     /root/nltk_data...\n",
            "[nltk_data]    |   Unzipping grammars/spanish_grammars.zip.\n",
            "[nltk_data]    | Downloading package state_union to /root/nltk_data...\n",
            "[nltk_data]    |   Unzipping corpora/state_union.zip.\n",
            "[nltk_data]    | Downloading package stopwords to /root/nltk_data...\n",
            "[nltk_data]    |   Unzipping corpora/stopwords.zip.\n",
            "[nltk_data]    | Downloading package subjectivity to\n",
            "[nltk_data]    |     /root/nltk_data...\n",
            "[nltk_data]    |   Unzipping corpora/subjectivity.zip.\n",
            "[nltk_data]    | Downloading package swadesh to /root/nltk_data...\n",
            "[nltk_data]    |   Unzipping corpora/swadesh.zip.\n",
            "[nltk_data]    | Downloading package switchboard to /root/nltk_data...\n",
            "[nltk_data]    |   Unzipping corpora/switchboard.zip.\n",
            "[nltk_data]    | Downloading package tagsets to /root/nltk_data...\n",
            "[nltk_data]    |   Unzipping help/tagsets.zip.\n",
            "[nltk_data]    | Downloading package timit to /root/nltk_data...\n",
            "[nltk_data]    |   Unzipping corpora/timit.zip.\n",
            "[nltk_data]    | Downloading package toolbox to /root/nltk_data...\n",
            "[nltk_data]    |   Unzipping corpora/toolbox.zip.\n",
            "[nltk_data]    | Downloading package treebank to /root/nltk_data...\n",
            "[nltk_data]    |   Unzipping corpora/treebank.zip.\n",
            "[nltk_data]    | Downloading package twitter_samples to\n",
            "[nltk_data]    |     /root/nltk_data...\n",
            "[nltk_data]    |   Unzipping corpora/twitter_samples.zip.\n",
            "[nltk_data]    | Downloading package udhr to /root/nltk_data...\n",
            "[nltk_data]    |   Unzipping corpora/udhr.zip.\n",
            "[nltk_data]    | Downloading package udhr2 to /root/nltk_data...\n",
            "[nltk_data]    |   Unzipping corpora/udhr2.zip.\n",
            "[nltk_data]    | Downloading package unicode_samples to\n",
            "[nltk_data]    |     /root/nltk_data...\n",
            "[nltk_data]    |   Unzipping corpora/unicode_samples.zip.\n",
            "[nltk_data]    | Downloading package universal_tagset to\n",
            "[nltk_data]    |     /root/nltk_data...\n",
            "[nltk_data]    |   Unzipping taggers/universal_tagset.zip.\n",
            "[nltk_data]    | Downloading package universal_treebanks_v20 to\n",
            "[nltk_data]    |     /root/nltk_data...\n",
            "[nltk_data]    | Downloading package vader_lexicon to\n",
            "[nltk_data]    |     /root/nltk_data...\n",
            "[nltk_data]    | Downloading package verbnet to /root/nltk_data...\n",
            "[nltk_data]    |   Unzipping corpora/verbnet.zip.\n",
            "[nltk_data]    | Downloading package verbnet3 to /root/nltk_data...\n",
            "[nltk_data]    |   Unzipping corpora/verbnet3.zip.\n",
            "[nltk_data]    | Downloading package webtext to /root/nltk_data...\n",
            "[nltk_data]    |   Unzipping corpora/webtext.zip.\n",
            "[nltk_data]    | Downloading package wmt15_eval to /root/nltk_data...\n",
            "[nltk_data]    |   Unzipping models/wmt15_eval.zip.\n",
            "[nltk_data]    | Downloading package word2vec_sample to\n",
            "[nltk_data]    |     /root/nltk_data...\n",
            "[nltk_data]    |   Unzipping models/word2vec_sample.zip.\n",
            "[nltk_data]    | Downloading package wordnet to /root/nltk_data...\n",
            "[nltk_data]    | Downloading package wordnet2021 to /root/nltk_data...\n",
            "[nltk_data]    | Downloading package wordnet2022 to /root/nltk_data...\n",
            "[nltk_data]    |   Unzipping corpora/wordnet2022.zip.\n",
            "[nltk_data]    | Downloading package wordnet31 to /root/nltk_data...\n",
            "[nltk_data]    | Downloading package wordnet_ic to /root/nltk_data...\n",
            "[nltk_data]    |   Unzipping corpora/wordnet_ic.zip.\n",
            "[nltk_data]    | Downloading package words to /root/nltk_data...\n",
            "[nltk_data]    |   Unzipping corpora/words.zip.\n",
            "[nltk_data]    | Downloading package ycoe to /root/nltk_data...\n",
            "[nltk_data]    |   Unzipping corpora/ycoe.zip.\n",
            "[nltk_data]    | \n",
            "[nltk_data]  Done downloading collection all\n"
          ]
        },
        {
          "output_type": "execute_result",
          "data": {
            "text/plain": [
              "True"
            ]
          },
          "metadata": {},
          "execution_count": 19
        }
      ]
    },
    {
      "cell_type": "markdown",
      "source": [
        "Top 15 locations of the data"
      ],
      "metadata": {
        "id": "yGngJZ5YE8St"
      }
    },
    {
      "cell_type": "code",
      "source": [
        "data[\"location\"].nunique()"
      ],
      "metadata": {
        "colab": {
          "base_uri": "https://localhost:8080/"
        },
        "id": "bDOFdCM4Eqw4",
        "outputId": "7c2b4cd1-9185-486a-8de9-3ab6d49990e1"
      },
      "execution_count": null,
      "outputs": [
        {
          "output_type": "execute_result",
          "data": {
            "text/plain": [
              "3341"
            ]
          },
          "metadata": {},
          "execution_count": 22
        }
      ]
    },
    {
      "cell_type": "code",
      "source": [
        "data.location.value_counts()[:15].to_frame()"
      ],
      "metadata": {
        "colab": {
          "base_uri": "https://localhost:8080/",
          "height": 430
        },
        "id": "59itqBhdFDRY",
        "outputId": "8ba4a7af-63aa-4906-8fd8-ef4adce71002"
      },
      "execution_count": 20,
      "outputs": [
        {
          "output_type": "execute_result",
          "data": {
            "text/plain": [
              "                 location\n",
              "USA                   104\n",
              "New York               71\n",
              "United States          50\n",
              "London                 45\n",
              "Canada                 29\n",
              "Nigeria                28\n",
              "UK                     27\n",
              "Los Angeles, CA        26\n",
              "India                  24\n",
              "Mumbai                 22\n",
              "Washington, DC         21\n",
              "Kenya                  20\n",
              "Worldwide              19\n",
              "Australia              18\n",
              "Chicago, IL            18"
            ],
            "text/html": [
              "\n",
              "  <div id=\"df-1ee10017-310c-4001-9bf0-80e095525113\">\n",
              "    <div class=\"colab-df-container\">\n",
              "      <div>\n",
              "<style scoped>\n",
              "    .dataframe tbody tr th:only-of-type {\n",
              "        vertical-align: middle;\n",
              "    }\n",
              "\n",
              "    .dataframe tbody tr th {\n",
              "        vertical-align: top;\n",
              "    }\n",
              "\n",
              "    .dataframe thead th {\n",
              "        text-align: right;\n",
              "    }\n",
              "</style>\n",
              "<table border=\"1\" class=\"dataframe\">\n",
              "  <thead>\n",
              "    <tr style=\"text-align: right;\">\n",
              "      <th></th>\n",
              "      <th>location</th>\n",
              "    </tr>\n",
              "  </thead>\n",
              "  <tbody>\n",
              "    <tr>\n",
              "      <th>USA</th>\n",
              "      <td>104</td>\n",
              "    </tr>\n",
              "    <tr>\n",
              "      <th>New York</th>\n",
              "      <td>71</td>\n",
              "    </tr>\n",
              "    <tr>\n",
              "      <th>United States</th>\n",
              "      <td>50</td>\n",
              "    </tr>\n",
              "    <tr>\n",
              "      <th>London</th>\n",
              "      <td>45</td>\n",
              "    </tr>\n",
              "    <tr>\n",
              "      <th>Canada</th>\n",
              "      <td>29</td>\n",
              "    </tr>\n",
              "    <tr>\n",
              "      <th>Nigeria</th>\n",
              "      <td>28</td>\n",
              "    </tr>\n",
              "    <tr>\n",
              "      <th>UK</th>\n",
              "      <td>27</td>\n",
              "    </tr>\n",
              "    <tr>\n",
              "      <th>Los Angeles, CA</th>\n",
              "      <td>26</td>\n",
              "    </tr>\n",
              "    <tr>\n",
              "      <th>India</th>\n",
              "      <td>24</td>\n",
              "    </tr>\n",
              "    <tr>\n",
              "      <th>Mumbai</th>\n",
              "      <td>22</td>\n",
              "    </tr>\n",
              "    <tr>\n",
              "      <th>Washington, DC</th>\n",
              "      <td>21</td>\n",
              "    </tr>\n",
              "    <tr>\n",
              "      <th>Kenya</th>\n",
              "      <td>20</td>\n",
              "    </tr>\n",
              "    <tr>\n",
              "      <th>Worldwide</th>\n",
              "      <td>19</td>\n",
              "    </tr>\n",
              "    <tr>\n",
              "      <th>Australia</th>\n",
              "      <td>18</td>\n",
              "    </tr>\n",
              "    <tr>\n",
              "      <th>Chicago, IL</th>\n",
              "      <td>18</td>\n",
              "    </tr>\n",
              "  </tbody>\n",
              "</table>\n",
              "</div>\n",
              "      <button class=\"colab-df-convert\" onclick=\"convertToInteractive('df-1ee10017-310c-4001-9bf0-80e095525113')\"\n",
              "              title=\"Convert this dataframe to an interactive table.\"\n",
              "              style=\"display:none;\">\n",
              "        \n",
              "  <svg xmlns=\"http://www.w3.org/2000/svg\" height=\"24px\"viewBox=\"0 0 24 24\"\n",
              "       width=\"24px\">\n",
              "    <path d=\"M0 0h24v24H0V0z\" fill=\"none\"/>\n",
              "    <path d=\"M18.56 5.44l.94 2.06.94-2.06 2.06-.94-2.06-.94-.94-2.06-.94 2.06-2.06.94zm-11 1L8.5 8.5l.94-2.06 2.06-.94-2.06-.94L8.5 2.5l-.94 2.06-2.06.94zm10 10l.94 2.06.94-2.06 2.06-.94-2.06-.94-.94-2.06-.94 2.06-2.06.94z\"/><path d=\"M17.41 7.96l-1.37-1.37c-.4-.4-.92-.59-1.43-.59-.52 0-1.04.2-1.43.59L10.3 9.45l-7.72 7.72c-.78.78-.78 2.05 0 2.83L4 21.41c.39.39.9.59 1.41.59.51 0 1.02-.2 1.41-.59l7.78-7.78 2.81-2.81c.8-.78.8-2.07 0-2.86zM5.41 20L4 18.59l7.72-7.72 1.47 1.35L5.41 20z\"/>\n",
              "  </svg>\n",
              "      </button>\n",
              "      \n",
              "  <style>\n",
              "    .colab-df-container {\n",
              "      display:flex;\n",
              "      flex-wrap:wrap;\n",
              "      gap: 12px;\n",
              "    }\n",
              "\n",
              "    .colab-df-convert {\n",
              "      background-color: #E8F0FE;\n",
              "      border: none;\n",
              "      border-radius: 50%;\n",
              "      cursor: pointer;\n",
              "      display: none;\n",
              "      fill: #1967D2;\n",
              "      height: 32px;\n",
              "      padding: 0 0 0 0;\n",
              "      width: 32px;\n",
              "    }\n",
              "\n",
              "    .colab-df-convert:hover {\n",
              "      background-color: #E2EBFA;\n",
              "      box-shadow: 0px 1px 2px rgba(60, 64, 67, 0.3), 0px 1px 3px 1px rgba(60, 64, 67, 0.15);\n",
              "      fill: #174EA6;\n",
              "    }\n",
              "\n",
              "    [theme=dark] .colab-df-convert {\n",
              "      background-color: #3B4455;\n",
              "      fill: #D2E3FC;\n",
              "    }\n",
              "\n",
              "    [theme=dark] .colab-df-convert:hover {\n",
              "      background-color: #434B5C;\n",
              "      box-shadow: 0px 1px 3px 1px rgba(0, 0, 0, 0.15);\n",
              "      filter: drop-shadow(0px 1px 2px rgba(0, 0, 0, 0.3));\n",
              "      fill: #FFFFFF;\n",
              "    }\n",
              "  </style>\n",
              "\n",
              "      <script>\n",
              "        const buttonEl =\n",
              "          document.querySelector('#df-1ee10017-310c-4001-9bf0-80e095525113 button.colab-df-convert');\n",
              "        buttonEl.style.display =\n",
              "          google.colab.kernel.accessAllowed ? 'block' : 'none';\n",
              "\n",
              "        async function convertToInteractive(key) {\n",
              "          const element = document.querySelector('#df-1ee10017-310c-4001-9bf0-80e095525113');\n",
              "          const dataTable =\n",
              "            await google.colab.kernel.invokeFunction('convertToInteractive',\n",
              "                                                     [key], {});\n",
              "          if (!dataTable) return;\n",
              "\n",
              "          const docLinkHtml = 'Like what you see? Visit the ' +\n",
              "            '<a target=\"_blank\" href=https://colab.research.google.com/notebooks/data_table.ipynb>data table notebook</a>'\n",
              "            + ' to learn more about interactive tables.';\n",
              "          element.innerHTML = '';\n",
              "          dataTable['output_type'] = 'display_data';\n",
              "          await google.colab.output.renderOutput(dataTable, element);\n",
              "          const docLink = document.createElement('div');\n",
              "          docLink.innerHTML = docLinkHtml;\n",
              "          element.appendChild(docLink);\n",
              "        }\n",
              "      </script>\n",
              "    </div>\n",
              "  </div>\n",
              "  "
            ]
          },
          "metadata": {},
          "execution_count": 20
        }
      ]
    },
    {
      "cell_type": "code",
      "source": [
        "word_plot=data['location'].value_counts()[:15]\n",
        "sns.barplot(x=word_plot,y=word_plot.index,palette='Dark2')\n",
        "plt.title(\"Top 15 locations\")\n",
        "plt.xlabel(\"Count of locations\")"
      ],
      "metadata": {
        "colab": {
          "base_uri": "https://localhost:8080/",
          "height": 489
        },
        "id": "6MgdzKc4Fj4w",
        "outputId": "c3cce64b-dc88-4d92-fe6f-25f9f9114193"
      },
      "execution_count": 21,
      "outputs": [
        {
          "output_type": "execute_result",
          "data": {
            "text/plain": [
              "<Axes: xlabel='location'>"
            ]
          },
          "metadata": {},
          "execution_count": 21
        },
        {
          "output_type": "execute_result",
          "data": {
            "text/plain": [
              "Text(0.5, 1.0, 'Top 15 locations')"
            ]
          },
          "metadata": {},
          "execution_count": 21
        },
        {
          "output_type": "execute_result",
          "data": {
            "text/plain": [
              "Text(0.5, 0, 'Count of locations')"
            ]
          },
          "metadata": {},
          "execution_count": 21
        },
        {
          "output_type": "display_data",
          "data": {
            "text/plain": [
              "<Figure size 640x480 with 1 Axes>"
            ],
            "image/png": "[encoded data removed]"
          },
          "metadata": {}
        }
      ]
    },
    {
      "cell_type": "markdown",
      "source": [
        "Top 15 keyword in the data"
      ],
      "metadata": {
        "id": "DzKX9sKUFsxJ"
      }
    },
    {
      "cell_type": "code",
      "source": [
        "data[\"keyword\"].nunique()"
      ],
      "metadata": {
        "colab": {
          "base_uri": "https://localhost:8080/"
        },
        "id": "sxFiTGTCFvSz",
        "outputId": "ea93bbf0-2946-49a5-ff74-7c84dab23f83"
      },
      "execution_count": null,
      "outputs": [
        {
          "output_type": "execute_result",
          "data": {
            "text/plain": [
              "221"
            ]
          },
          "metadata": {},
          "execution_count": 25
        }
      ]
    },
    {
      "cell_type": "code",
      "source": [
        "data.keyword.value_counts()[:15].to_frame()\n"
      ],
      "metadata": {
        "colab": {
          "base_uri": "https://localhost:8080/",
          "height": 430
        },
        "id": "GhsdoFrMFyfG",
        "outputId": "5e927293-1dc9-49fb-9a17-4285c22f2b16"
      },
      "execution_count": 22,
      "outputs": [
        {
          "output_type": "execute_result",
          "data": {
            "text/plain": [
              "             keyword\n",
              "fatalities        45\n",
              "deluge            42\n",
              "armageddon        42\n",
              "sinking           41\n",
              "damage            41\n",
              "harm              41\n",
              "body%20bags       41\n",
              "outbreak          40\n",
              "evacuate          40\n",
              "fear              40\n",
              "collided          40\n",
              "siren             40\n",
              "twister           40\n",
              "windstorm         40\n",
              "sinkhole          39"
            ],
            "text/html": [
              "\n",
              "  <div id=\"df-bc257ac5-e622-438a-b4ae-8c27e8d56ed2\">\n",
              "    <div class=\"colab-df-container\">\n",
              "      <div>\n",
              "<style scoped>\n",
              "    .dataframe tbody tr th:only-of-type {\n",
              "        vertical-align: middle;\n",
              "    }\n",
              "\n",
              "    .dataframe tbody tr th {\n",
              "        vertical-align: top;\n",
              "    }\n",
              "\n",
              "    .dataframe thead th {\n",
              "        text-align: right;\n",
              "    }\n",
              "</style>\n",
              "<table border=\"1\" class=\"dataframe\">\n",
              "  <thead>\n",
              "    <tr style=\"text-align: right;\">\n",
              "      <th></th>\n",
              "      <th>keyword</th>\n",
              "    </tr>\n",
              "  </thead>\n",
              "  <tbody>\n",
              "    <tr>\n",
              "      <th>fatalities</th>\n",
              "      <td>45</td>\n",
              "    </tr>\n",
              "    <tr>\n",
              "      <th>deluge</th>\n",
              "      <td>42</td>\n",
              "    </tr>\n",
              "    <tr>\n",
              "      <th>armageddon</th>\n",
              "      <td>42</td>\n",
              "    </tr>\n",
              "    <tr>\n",
              "      <th>sinking</th>\n",
              "      <td>41</td>\n",
              "    </tr>\n",
              "    <tr>\n",
              "      <th>damage</th>\n",
              "      <td>41</td>\n",
              "    </tr>\n",
              "    <tr>\n",
              "      <th>harm</th>\n",
              "      <td>41</td>\n",
              "    </tr>\n",
              "    <tr>\n",
              "      <th>body%20bags</th>\n",
              "      <td>41</td>\n",
              "    </tr>\n",
              "    <tr>\n",
              "      <th>outbreak</th>\n",
              "      <td>40</td>\n",
              "    </tr>\n",
              "    <tr>\n",
              "      <th>evacuate</th>\n",
              "      <td>40</td>\n",
              "    </tr>\n",
              "    <tr>\n",
              "      <th>fear</th>\n",
              "      <td>40</td>\n",
              "    </tr>\n",
              "    <tr>\n",
              "      <th>collided</th>\n",
              "      <td>40</td>\n",
              "    </tr>\n",
              "    <tr>\n",
              "      <th>siren</th>\n",
              "      <td>40</td>\n",
              "    </tr>\n",
              "    <tr>\n",
              "      <th>twister</th>\n",
              "      <td>40</td>\n",
              "    </tr>\n",
              "    <tr>\n",
              "      <th>windstorm</th>\n",
              "      <td>40</td>\n",
              "    </tr>\n",
              "    <tr>\n",
              "      <th>sinkhole</th>\n",
              "      <td>39</td>\n",
              "    </tr>\n",
              "  </tbody>\n",
              "</table>\n",
              "</div>\n",
              "      <button class=\"colab-df-convert\" onclick=\"convertToInteractive('df-bc257ac5-e622-438a-b4ae-8c27e8d56ed2')\"\n",
              "              title=\"Convert this dataframe to an interactive table.\"\n",
              "              style=\"display:none;\">\n",
              "        \n",
              "  <svg xmlns=\"http://www.w3.org/2000/svg\" height=\"24px\"viewBox=\"0 0 24 24\"\n",
              "       width=\"24px\">\n",
              "    <path d=\"M0 0h24v24H0V0z\" fill=\"none\"/>\n",
              "    <path d=\"M18.56 5.44l.94 2.06.94-2.06 2.06-.94-2.06-.94-.94-2.06-.94 2.06-2.06.94zm-11 1L8.5 8.5l.94-2.06 2.06-.94-2.06-.94L8.5 2.5l-.94 2.06-2.06.94zm10 10l.94 2.06.94-2.06 2.06-.94-2.06-.94-.94-2.06-.94 2.06-2.06.94z\"/><path d=\"M17.41 7.96l-1.37-1.37c-.4-.4-.92-.59-1.43-.59-.52 0-1.04.2-1.43.59L10.3 9.45l-7.72 7.72c-.78.78-.78 2.05 0 2.83L4 21.41c.39.39.9.59 1.41.59.51 0 1.02-.2 1.41-.59l7.78-7.78 2.81-2.81c.8-.78.8-2.07 0-2.86zM5.41 20L4 18.59l7.72-7.72 1.47 1.35L5.41 20z\"/>\n",
              "  </svg>\n",
              "      </button>\n",
              "      \n",
              "  <style>\n",
              "    .colab-df-container {\n",
              "      display:flex;\n",
              "      flex-wrap:wrap;\n",
              "      gap: 12px;\n",
              "    }\n",
              "\n",
              "    .colab-df-convert {\n",
              "      background-color: #E8F0FE;\n",
              "      border: none;\n",
              "      border-radius: 50%;\n",
              "      cursor: pointer;\n",
              "      display: none;\n",
              "      fill: #1967D2;\n",
              "      height: 32px;\n",
              "      padding: 0 0 0 0;\n",
              "      width: 32px;\n",
              "    }\n",
              "\n",
              "    .colab-df-convert:hover {\n",
              "      background-color: #E2EBFA;\n",
              "      box-shadow: 0px 1px 2px rgba(60, 64, 67, 0.3), 0px 1px 3px 1px rgba(60, 64, 67, 0.15);\n",
              "      fill: #174EA6;\n",
              "    }\n",
              "\n",
              "    [theme=dark] .colab-df-convert {\n",
              "      background-color: #3B4455;\n",
              "      fill: #D2E3FC;\n",
              "    }\n",
              "\n",
              "    [theme=dark] .colab-df-convert:hover {\n",
              "      background-color: #434B5C;\n",
              "      box-shadow: 0px 1px 3px 1px rgba(0, 0, 0, 0.15);\n",
              "      filter: drop-shadow(0px 1px 2px rgba(0, 0, 0, 0.3));\n",
              "      fill: #FFFFFF;\n",
              "    }\n",
              "  </style>\n",
              "\n",
              "      <script>\n",
              "        const buttonEl =\n",
              "          document.querySelector('#df-bc257ac5-e622-438a-b4ae-8c27e8d56ed2 button.colab-df-convert');\n",
              "        buttonEl.style.display =\n",
              "          google.colab.kernel.accessAllowed ? 'block' : 'none';\n",
              "\n",
              "        async function convertToInteractive(key) {\n",
              "          const element = document.querySelector('#df-bc257ac5-e622-438a-b4ae-8c27e8d56ed2');\n",
              "          const dataTable =\n",
              "            await google.colab.kernel.invokeFunction('convertToInteractive',\n",
              "                                                     [key], {});\n",
              "          if (!dataTable) return;\n",
              "\n",
              "          const docLinkHtml = 'Like what you see? Visit the ' +\n",
              "            '<a target=\"_blank\" href=https://colab.research.google.com/notebooks/data_table.ipynb>data table notebook</a>'\n",
              "            + ' to learn more about interactive tables.';\n",
              "          element.innerHTML = '';\n",
              "          dataTable['output_type'] = 'display_data';\n",
              "          await google.colab.output.renderOutput(dataTable, element);\n",
              "          const docLink = document.createElement('div');\n",
              "          docLink.innerHTML = docLinkHtml;\n",
              "          element.appendChild(docLink);\n",
              "        }\n",
              "      </script>\n",
              "    </div>\n",
              "  </div>\n",
              "  "
            ]
          },
          "metadata": {},
          "execution_count": 22
        }
      ]
    },
    {
      "cell_type": "code",
      "source": [
        "word_plot=data['keyword'].value_counts()[:15]\n",
        "sns.barplot(x=word_plot,y=word_plot.index,palette='Dark2')\n",
        "plt.title(\"Top 15 Keywords\")\n",
        "plt.xlabel(\"Count of Keywords\")"
      ],
      "metadata": {
        "colab": {
          "base_uri": "https://localhost:8080/",
          "height": 489
        },
        "id": "92kzuw3LGEnS",
        "outputId": "328c0ee9-fc4d-4965-b15d-365f64a1eb68"
      },
      "execution_count": 23,
      "outputs": [
        {
          "output_type": "execute_result",
          "data": {
            "text/plain": [
              "<Axes: xlabel='keyword'>"
            ]
          },
          "metadata": {},
          "execution_count": 23
        },
        {
          "output_type": "execute_result",
          "data": {
            "text/plain": [
              "Text(0.5, 1.0, 'Top 15 Keywords')"
            ]
          },
          "metadata": {},
          "execution_count": 23
        },
        {
          "output_type": "execute_result",
          "data": {
            "text/plain": [
              "Text(0.5, 0, 'Count of Keywords')"
            ]
          },
          "metadata": {},
          "execution_count": 23
        },
        {
          "output_type": "display_data",
          "data": {
            "text/plain": [
              "<Figure size 640x480 with 1 Axes>"
            ],
            "image/png": "[encoded data removed]"
          },
          "metadata": {}
        }
      ]
    },
    {
      "cell_type": "markdown",
      "source": [
        "Unique Words"
      ],
      "metadata": {
        "id": "Ztzqd-eBGayo"
      }
    },
    {
      "cell_type": "code",
      "source": [
        "X = data[\"text\"] # indpendent feature\n",
        "def uniq_words(sentence):\n",
        "  uniq_words_list = []\n",
        "  for sent in tqdm(sentence):\n",
        "    for word in sent.split():\n",
        "      if word.lower() not in uniq_words_list:\n",
        "        uniq_words_list.append(word.lower())\n",
        "      else:\n",
        "        pass\n",
        "  return uniq_words_list\n",
        "unique_words = uniq_words(X)\n",
        "print(\"Total unique words present :\",len(unique_words))\n"
      ],
      "metadata": {
        "colab": {
          "base_uri": "https://localhost:8080/"
        },
        "id": "5nkDqA4dGlhI",
        "outputId": "567e1946-bf8f-4ca7-a2ca-b0292d908672"
      },
      "execution_count": 24,
      "outputs": [
        {
          "output_type": "stream",
          "name": "stderr",
          "text": [
            "100%|██████████| 7613/7613 [00:05<00:00, 1433.12it/s]"
          ]
        },
        {
          "output_type": "stream",
          "name": "stdout",
          "text": [
            "Total unique words present : 27983\n"
          ]
        },
        {
          "output_type": "stream",
          "name": "stderr",
          "text": [
            "\n"
          ]
        }
      ]
    },
    {
      "cell_type": "code",
      "source": [
        "unique_words[:15]"
      ],
      "metadata": {
        "colab": {
          "base_uri": "https://localhost:8080/"
        },
        "id": "Y1aH0QotGuIy",
        "outputId": "a7b69a52-ef87-4fb0-dd68-e7c68c558df2"
      },
      "execution_count": 25,
      "outputs": [
        {
          "output_type": "execute_result",
          "data": {
            "text/plain": [
              "['our',\n",
              " 'deeds',\n",
              " 'are',\n",
              " 'the',\n",
              " 'reason',\n",
              " 'of',\n",
              " 'this',\n",
              " '#earthquake',\n",
              " 'may',\n",
              " 'allah',\n",
              " 'forgive',\n",
              " 'us',\n",
              " 'all',\n",
              " 'forest',\n",
              " 'fire']"
            ]
          },
          "metadata": {},
          "execution_count": 25
        }
      ]
    },
    {
      "cell_type": "markdown",
      "source": [
        "removed un necessary symbols stopwords"
      ],
      "metadata": {
        "id": "Kbm9tQSOI1O3"
      }
    },
    {
      "cell_type": "code",
      "source": [
        "from nltk.stem import WordNetLemmatizer\n",
        "wl = WordNetLemmatizer()\n",
        "def preprocessing(text):\n",
        "  tweets = []\n",
        "  for sentence in tqdm(text):\n",
        "    sentence = sentence.lower() # converting the words to lower case\n",
        "    sentence =  url_remover(sentence) # removing the url from the sentence\n",
        "    sentence = re.sub(r'@w+',  '', sentence).strip() # removing the words starts with \"@\"\n",
        "    sentence = re.sub(\"[^a-zA-Z0-9 ']\", \"\", sentence) # removing symbols\n",
        "    sentence = sentence.split()\n",
        "    sentence1 = [wl.lemmatize(word) for word in sentence if word not in set(stopwords.words(\"english\"))] #lemmatization and stopwrds removal from tweets\n",
        "    sentence1 = \" \".join(sentence1)\n",
        "    tweets.append(sentence1)\n",
        "  return tweets\n",
        "tweets = preprocessing(X)"
      ],
      "metadata": {
        "colab": {
          "base_uri": "https://localhost:8080/"
        },
        "id": "-dW9yRo7IVMG",
        "outputId": "0106c94b-f6d7-4bdb-fbe3-c2658f0884f4"
      },
      "execution_count": 26,
      "outputs": [
        {
          "output_type": "stream",
          "name": "stderr",
          "text": [
            "100%|██████████| 7613/7613 [00:11<00:00, 654.39it/s]\n"
          ]
        }
      ]
    },
    {
      "cell_type": "code",
      "source": [
        "from tensorflow.keras.layers import (Embedding,\n",
        "                                     LSTM,\n",
        "                                     Dense,\n",
        "                                     Dropout,\n",
        "                                     GlobalMaxPool1D,\n",
        "                                     BatchNormalization)\n",
        "from tensorflow.keras.models import Sequential\n",
        "from tensorflow.keras.preprocessing.sequence import pad_sequences\n",
        "from tensorflow.keras.preprocessing.text import one_hot"
      ],
      "metadata": {
        "id": "vqIYAtrtI4D9"
      },
      "execution_count": 27,
      "outputs": []
    },
    {
      "cell_type": "markdown",
      "source": [
        "performing onehot encoding"
      ],
      "metadata": {
        "id": "YCERHMiuJFlL"
      }
    },
    {
      "cell_type": "code",
      "source": [
        "VOC_SIZE = 30000\n",
        "onehot_vector= [one_hot(words, VOC_SIZE) for words in tweets]\n",
        "onehot_vector[110:120]"
      ],
      "metadata": {
        "colab": {
          "base_uri": "https://localhost:8080/"
        },
        "id": "2sMfBeoUJGWj",
        "outputId": "7ca0c1d3-52bc-46d5-cdc5-a0679dfc5287"
      },
      "execution_count": 29,
      "outputs": [
        {
          "output_type": "execute_result",
          "data": {
            "text/plain": [
              "[[23740, 8802, 27099, 26783, 2270, 12697, 5429],\n",
              " [29692, 12979, 11886, 18013, 8741, 19312, 3308],\n",
              " [19312, 17387, 7574, 12246, 24721, 6802, 10839, 7778, 6802],\n",
              " [19312, 26766],\n",
              " [19947,\n",
              "  28143,\n",
              "  15846,\n",
              "  19312,\n",
              "  29334,\n",
              "  22032,\n",
              "  5808,\n",
              "  26052,\n",
              "  16566,\n",
              "  24183,\n",
              "  965,\n",
              "  11575,\n",
              "  20997],\n",
              " [19947,\n",
              "  28143,\n",
              "  15846,\n",
              "  19312,\n",
              "  8698,\n",
              "  22032,\n",
              "  5808,\n",
              "  26052,\n",
              "  16566,\n",
              "  24183,\n",
              "  965,\n",
              "  11575,\n",
              "  25497],\n",
              " [19947,\n",
              "  28143,\n",
              "  15846,\n",
              "  19312,\n",
              "  13201,\n",
              "  22032,\n",
              "  5808,\n",
              "  26052,\n",
              "  16566,\n",
              "  24183,\n",
              "  965,\n",
              "  11575,\n",
              "  1836],\n",
              " [27098, 14250, 13107, 29212, 19312],\n",
              " [19947,\n",
              "  28143,\n",
              "  15846,\n",
              "  19312,\n",
              "  18834,\n",
              "  22032,\n",
              "  5808,\n",
              "  26052,\n",
              "  16566,\n",
              "  24183,\n",
              "  965,\n",
              "  11575,\n",
              "  29933],\n",
              " [19947,\n",
              "  28143,\n",
              "  15846,\n",
              "  19312,\n",
              "  18834,\n",
              "  22032,\n",
              "  5808,\n",
              "  26052,\n",
              "  16566,\n",
              "  24183,\n",
              "  965,\n",
              "  11575,\n",
              "  29933]]"
            ]
          },
          "metadata": {},
          "execution_count": 29
        }
      ]
    },
    {
      "cell_type": "markdown",
      "source": [
        "the word length each for each tweets."
      ],
      "metadata": {
        "id": "IwZezs6yJRF2"
      }
    },
    {
      "cell_type": "code",
      "source": [
        "word_length = []\n",
        "for i in onehot_vector:\n",
        "  word_length.append(len(i))"
      ],
      "metadata": {
        "id": "nyEmIkI-JVPu"
      },
      "execution_count": 30,
      "outputs": []
    },
    {
      "cell_type": "code",
      "source": [
        "len(word_length)"
      ],
      "metadata": {
        "colab": {
          "base_uri": "https://localhost:8080/"
        },
        "id": "kiH-v_niJzD6",
        "outputId": "c95ae19e-84c3-43fc-efa2-ef3450e9d002"
      },
      "execution_count": 31,
      "outputs": [
        {
          "output_type": "execute_result",
          "data": {
            "text/plain": [
              "7613"
            ]
          },
          "metadata": {},
          "execution_count": 31
        }
      ]
    },
    {
      "cell_type": "markdown",
      "source": [
        " maximum word length"
      ],
      "metadata": {
        "id": "B_VfOG0NJ37Y"
      }
    },
    {
      "cell_type": "code",
      "source": [
        "max(word_length)"
      ],
      "metadata": {
        "colab": {
          "base_uri": "https://localhost:8080/"
        },
        "id": "CQ5L7zgyJ0nn",
        "outputId": "58f47806-ce21-48ff-c2a6-2c249ee27763"
      },
      "execution_count": 32,
      "outputs": [
        {
          "output_type": "execute_result",
          "data": {
            "text/plain": [
              "25"
            ]
          },
          "metadata": {},
          "execution_count": 32
        }
      ]
    },
    {
      "cell_type": "markdown",
      "source": [
        " make equal length sequences."
      ],
      "metadata": {
        "id": "w_cUu4NIKE8z"
      }
    },
    {
      "cell_type": "code",
      "source": [
        "SENTENCE_LENGTH = 15\n",
        "embedded_docs = pad_sequences(onehot_vector, padding=\"post\", maxlen=SENTENCE_LENGTH)\n",
        "embedded_docs"
      ],
      "metadata": {
        "colab": {
          "base_uri": "https://localhost:8080/"
        },
        "id": "vsfiM-ujKF5r",
        "outputId": "0df6aa07-b6da-4390-f0a5-2349acd9e1e2"
      },
      "execution_count": 33,
      "outputs": [
        {
          "output_type": "execute_result",
          "data": {
            "text/plain": [
              "array([[  216,  1688,  7576, ...,     0,     0,     0],\n",
              "       [15863, 26858, 14653, ...,     0,     0,     0],\n",
              "       [20335, 11890, 18625, ...,     0,     0,     0],\n",
              "       ...,\n",
              "       [29557,  6538, 25115, ...,     0,     0,     0],\n",
              "       [ 3300, 14567,  3589, ..., 10408, 20153,     0],\n",
              "       [  546,  3605,  8004, ...,     0,     0,     0]], dtype=int32)"
            ]
          },
          "metadata": {},
          "execution_count": 33
        }
      ]
    },
    {
      "cell_type": "markdown",
      "source": [
        "model creation step. The first layer is a word embedding layer followed LSTM model"
      ],
      "metadata": {
        "id": "ZXDu6QfaKZrN"
      }
    },
    {
      "cell_type": "code",
      "source": [
        "def model():\n",
        "  VECTOR_FEATURES = 32\n",
        "  lstm_model = Sequential()\n",
        "  lstm_model.add(Embedding(VOC_SIZE,\n",
        "                      VECTOR_FEATURES,\n",
        "                      input_length=SENTENCE_LENGTH))\n",
        "  lstm_model.add(LSTM(100, return_sequences = True))\n",
        "  lstm_model.add(GlobalMaxPool1D())\n",
        "  lstm_model.add(BatchNormalization())\n",
        "  lstm_model.add(Dropout(0.5))\n",
        "  lstm_model.add(Dense(10, activation=\"relu\"))\n",
        "  lstm_model.add(Dropout(0.25))\n",
        "  lstm_model.add(Dense(1, activation = \"sigmoid\"))\n",
        "  return lstm_model"
      ],
      "metadata": {
        "id": "TaUgZ9WBKbnz"
      },
      "execution_count": 34,
      "outputs": []
    },
    {
      "cell_type": "markdown",
      "source": [
        "Creating the model and getting the model summary"
      ],
      "metadata": {
        "id": "raQ3jNduKogy"
      }
    },
    {
      "cell_type": "code",
      "source": [
        "lstm_model = model()\n",
        "lstm_model.compile(optimizer = \"adam\", loss = \"binary_crossentropy\", metrics = [\"accuracy\"])\n",
        "lstm_model.summary()"
      ],
      "metadata": {
        "colab": {
          "base_uri": "https://localhost:8080/"
        },
        "id": "QUuDgdqtKpc1",
        "outputId": "e3ad117d-baac-4baa-c3a9-ab8f369f20a4"
      },
      "execution_count": 35,
      "outputs": [
        {
          "output_type": "stream",
          "name": "stdout",
          "text": [
            "Model: \"sequential\"\n",
            "_________________________________________________________________\n",
            " Layer (type)                Output Shape              Param #   \n",
            "=================================================================\n",
            " embedding (Embedding)       (None, 15, 32)            960000    \n",
            "                                                                 \n",
            " lstm (LSTM)                 (None, 15, 100)           53200     \n",
            "                                                                 \n",
            " global_max_pooling1d (Globa  (None, 100)              0         \n",
            " lMaxPooling1D)                                                  \n",
            "                                                                 \n",
            " batch_normalization (BatchN  (None, 100)              400       \n",
            " ormalization)                                                   \n",
            "                                                                 \n",
            " dropout (Dropout)           (None, 100)               0         \n",
            "                                                                 \n",
            " dense (Dense)               (None, 10)                1010      \n",
            "                                                                 \n",
            " dropout_1 (Dropout)         (None, 10)                0         \n",
            "                                                                 \n",
            " dense_1 (Dense)             (None, 1)                 11        \n",
            "                                                                 \n",
            "=================================================================\n",
            "Total params: 1,014,621\n",
            "Trainable params: 1,014,421\n",
            "Non-trainable params: 200\n",
            "_________________________________________________________________\n"
          ]
        }
      ]
    },
    {
      "cell_type": "markdown",
      "source": [
        "Training the model"
      ],
      "metadata": {
        "id": "YkgSyhI9K0X3"
      }
    },
    {
      "cell_type": "code",
      "source": [
        "history = lstm_model.fit(embedded_docs, y, epochs=10, batch_size=32)"
      ],
      "metadata": {
        "colab": {
          "base_uri": "https://localhost:8080/"
        },
        "id": "g-hT2lknK1mx",
        "outputId": "25097c33-ab00-4379-844e-fbe8ecb46bf3"
      },
      "execution_count": 37,
      "outputs": [
        {
          "output_type": "stream",
          "name": "stdout",
          "text": [
            "Epoch 1/10\n",
            "238/238 [==============================] - 5s 20ms/step - loss: 0.0601 - accuracy: 0.9808\n",
            "Epoch 2/10\n",
            "238/238 [==============================] - 4s 18ms/step - loss: 0.0429 - accuracy: 0.9871\n",
            "Epoch 3/10\n",
            "238/238 [==============================] - 4s 17ms/step - loss: 0.0518 - accuracy: 0.9840\n",
            "Epoch 4/10\n",
            "238/238 [==============================] - 4s 19ms/step - loss: 0.0433 - accuracy: 0.9858\n",
            "Epoch 5/10\n",
            "238/238 [==============================] - 4s 18ms/step - loss: 0.0477 - accuracy: 0.9865\n",
            "Epoch 6/10\n",
            "238/238 [==============================] - 4s 16ms/step - loss: 0.0408 - accuracy: 0.9884\n",
            "Epoch 7/10\n",
            "238/238 [==============================] - 5s 20ms/step - loss: 0.0343 - accuracy: 0.9884\n",
            "Epoch 8/10\n",
            "238/238 [==============================] - 4s 18ms/step - loss: 0.0303 - accuracy: 0.9900\n",
            "Epoch 9/10\n",
            "238/238 [==============================] - 4s 17ms/step - loss: 0.0345 - accuracy: 0.9899\n",
            "Epoch 10/10\n",
            "238/238 [==============================] - 5s 21ms/step - loss: 0.0259 - accuracy: 0.9908\n"
          ]
        }
      ]
    },
    {
      "cell_type": "markdown",
      "source": [
        "analyze our model by plotting the graph of model accuracy and loss"
      ],
      "metadata": {
        "id": "MBzl2rueL21L"
      }
    },
    {
      "cell_type": "markdown",
      "source": [
        "**for accuracy**"
      ],
      "metadata": {
        "id": "EEcQ5dudMgyf"
      }
    },
    {
      "cell_type": "code",
      "source": [
        "plt.plot(history.history[\"accuracy\"])\n",
        "plt.xlabel(\"Epochs\")\n",
        "plt.ylabel(\"Accuracy\")\n",
        "plt.title(\"Accuracy\")"
      ],
      "metadata": {
        "colab": {
          "base_uri": "https://localhost:8080/",
          "height": 489
        },
        "id": "YabI9mW_L6jU",
        "outputId": "88d15ffb-d06a-4f71-f4ca-9432c2a13e52"
      },
      "execution_count": 38,
      "outputs": [
        {
          "output_type": "execute_result",
          "data": {
            "text/plain": [
              "[<matplotlib.lines.Line2D at 0x7fa117c86a70>]"
            ]
          },
          "metadata": {},
          "execution_count": 38
        },
        {
          "output_type": "execute_result",
          "data": {
            "text/plain": [
              "Text(0.5, 0, 'Epochs')"
            ]
          },
          "metadata": {},
          "execution_count": 38
        },
        {
          "output_type": "execute_result",
          "data": {
            "text/plain": [
              "Text(0, 0.5, 'Accuracy')"
            ]
          },
          "metadata": {},
          "execution_count": 38
        },
        {
          "output_type": "execute_result",
          "data": {
            "text/plain": [
              "Text(0.5, 1.0, 'Accuracy')"
            ]
          },
          "metadata": {},
          "execution_count": 38
        },
        {
          "output_type": "display_data",
          "data": {
            "text/plain": [
              "<Figure size 640x480 with 1 Axes>"
            ],
            "image/png": "[encoded data removed]"
          },
          "metadata": {}
        }
      ]
    },
    {
      "cell_type": "markdown",
      "source": [
        "for loss"
      ],
      "metadata": {
        "id": "DbzWI6jMMr8C"
      }
    },
    {
      "cell_type": "code",
      "source": [
        "plt.plot(history.history[\"loss\"])\n",
        "plt.xlabel(\"Epochs\")\n",
        "plt.ylabel(\"Loss\")\n",
        "plt.title(\"Loss\")"
      ],
      "metadata": {
        "colab": {
          "base_uri": "https://localhost:8080/",
          "height": 489
        },
        "id": "_vD1vBJMM1Bn",
        "outputId": "c520bc58-4cdc-47cd-a152-865916ffff46"
      },
      "execution_count": 39,
      "outputs": [
        {
          "output_type": "execute_result",
          "data": {
            "text/plain": [
              "[<matplotlib.lines.Line2D at 0x7fa117cf10f0>]"
            ]
          },
          "metadata": {},
          "execution_count": 39
        },
        {
          "output_type": "execute_result",
          "data": {
            "text/plain": [
              "Text(0.5, 0, 'Epochs')"
            ]
          },
          "metadata": {},
          "execution_count": 39
        },
        {
          "output_type": "execute_result",
          "data": {
            "text/plain": [
              "Text(0, 0.5, 'Loss')"
            ]
          },
          "metadata": {},
          "execution_count": 39
        },
        {
          "output_type": "execute_result",
          "data": {
            "text/plain": [
              "Text(0.5, 1.0, 'Loss')"
            ]
          },
          "metadata": {},
          "execution_count": 39
        },
        {
          "output_type": "display_data",
          "data": {
            "text/plain": [
              "<Figure size 640x480 with 1 Axes>"
            ],
            "image/png": "[encoded data removed]"
          },
          "metadata": {}
        }
      ]
    },
    {
      "cell_type": "code",
      "source": [
        "label_encoder_keyword = LabelEncoder()\n",
        "label_encoder_location = LabelEncoder()\n",
        "label_encoder_text = LabelEncoder()\n",
        "data['keyword'] = label_encoder_keyword.fit_transform(data['keyword'])\n",
        "data['location'] = label_encoder_location.fit_transform(data['location'])\n",
        "data['text'] = label_encoder_text.fit_transform(data['text'])\n",
        "data.head()"
      ],
      "metadata": {
        "colab": {
          "base_uri": "https://localhost:8080/",
          "height": 215
        },
        "id": "sMxwdqdyAKQS",
        "outputId": "53cb1174-8439-4152-bf3f-4932752f6fcc"
      },
      "execution_count": 49,
      "outputs": [
        {
          "output_type": "execute_result",
          "data": {
            "text/plain": [
              "   id  keyword  location  text  target\n",
              "0   1      221      3341  5102       1\n",
              "1   4      221      3341  3391       1\n",
              "2   5      221      3341  2322       1\n",
              "3   6      221      3341   658       1\n",
              "4   7      221      3341  4373       1"
            ],
            "text/html": [
              "\n",
              "  <div id=\"df-b335e9f2-ab87-45e6-a9a4-e7fe2b269711\">\n",
              "    <div class=\"colab-df-container\">\n",
              "      <div>\n",
              "<style scoped>\n",
              "    .dataframe tbody tr th:only-of-type {\n",
              "        vertical-align: middle;\n",
              "    }\n",
              "\n",
              "    .dataframe tbody tr th {\n",
              "        vertical-align: top;\n",
              "    }\n",
              "\n",
              "    .dataframe thead th {\n",
              "        text-align: right;\n",
              "    }\n",
              "</style>\n",
              "<table border=\"1\" class=\"dataframe\">\n",
              "  <thead>\n",
              "    <tr style=\"text-align: right;\">\n",
              "      <th></th>\n",
              "      <th>id</th>\n",
              "      <th>keyword</th>\n",
              "      <th>location</th>\n",
              "      <th>text</th>\n",
              "      <th>target</th>\n",
              "    </tr>\n",
              "  </thead>\n",
              "  <tbody>\n",
              "    <tr>\n",
              "      <th>0</th>\n",
              "      <td>1</td>\n",
              "      <td>221</td>\n",
              "      <td>3341</td>\n",
              "      <td>5102</td>\n",
              "      <td>1</td>\n",
              "    </tr>\n",
              "    <tr>\n",
              "      <th>1</th>\n",
              "      <td>4</td>\n",
              "      <td>221</td>\n",
              "      <td>3341</td>\n",
              "      <td>3391</td>\n",
              "      <td>1</td>\n",
              "    </tr>\n",
              "    <tr>\n",
              "      <th>2</th>\n",
              "      <td>5</td>\n",
              "      <td>221</td>\n",
              "      <td>3341</td>\n",
              "      <td>2322</td>\n",
              "      <td>1</td>\n",
              "    </tr>\n",
              "    <tr>\n",
              "      <th>3</th>\n",
              "      <td>6</td>\n",
              "      <td>221</td>\n",
              "      <td>3341</td>\n",
              "      <td>658</td>\n",
              "      <td>1</td>\n",
              "    </tr>\n",
              "    <tr>\n",
              "      <th>4</th>\n",
              "      <td>7</td>\n",
              "      <td>221</td>\n",
              "      <td>3341</td>\n",
              "      <td>4373</td>\n",
              "      <td>1</td>\n",
              "    </tr>\n",
              "  </tbody>\n",
              "</table>\n",
              "</div>\n",
              "      <button class=\"colab-df-convert\" onclick=\"convertToInteractive('df-b335e9f2-ab87-45e6-a9a4-e7fe2b269711')\"\n",
              "              title=\"Convert this dataframe to an interactive table.\"\n",
              "              style=\"display:none;\">\n",
              "        \n",
              "  <svg xmlns=\"http://www.w3.org/2000/svg\" height=\"24px\"viewBox=\"0 0 24 24\"\n",
              "       width=\"24px\">\n",
              "    <path d=\"M0 0h24v24H0V0z\" fill=\"none\"/>\n",
              "    <path d=\"M18.56 5.44l.94 2.06.94-2.06 2.06-.94-2.06-.94-.94-2.06-.94 2.06-2.06.94zm-11 1L8.5 8.5l.94-2.06 2.06-.94-2.06-.94L8.5 2.5l-.94 2.06-2.06.94zm10 10l.94 2.06.94-2.06 2.06-.94-2.06-.94-.94-2.06-.94 2.06-2.06.94z\"/><path d=\"M17.41 7.96l-1.37-1.37c-.4-.4-.92-.59-1.43-.59-.52 0-1.04.2-1.43.59L10.3 9.45l-7.72 7.72c-.78.78-.78 2.05 0 2.83L4 21.41c.39.39.9.59 1.41.59.51 0 1.02-.2 1.41-.59l7.78-7.78 2.81-2.81c.8-.78.8-2.07 0-2.86zM5.41 20L4 18.59l7.72-7.72 1.47 1.35L5.41 20z\"/>\n",
              "  </svg>\n",
              "      </button>\n",
              "      \n",
              "  <style>\n",
              "    .colab-df-container {\n",
              "      display:flex;\n",
              "      flex-wrap:wrap;\n",
              "      gap: 12px;\n",
              "    }\n",
              "\n",
              "    .colab-df-convert {\n",
              "      background-color: #E8F0FE;\n",
              "      border: none;\n",
              "      border-radius: 50%;\n",
              "      cursor: pointer;\n",
              "      display: none;\n",
              "      fill: #1967D2;\n",
              "      height: 32px;\n",
              "      padding: 0 0 0 0;\n",
              "      width: 32px;\n",
              "    }\n",
              "\n",
              "    .colab-df-convert:hover {\n",
              "      background-color: #E2EBFA;\n",
              "      box-shadow: 0px 1px 2px rgba(60, 64, 67, 0.3), 0px 1px 3px 1px rgba(60, 64, 67, 0.15);\n",
              "      fill: #174EA6;\n",
              "    }\n",
              "\n",
              "    [theme=dark] .colab-df-convert {\n",
              "      background-color: #3B4455;\n",
              "      fill: #D2E3FC;\n",
              "    }\n",
              "\n",
              "    [theme=dark] .colab-df-convert:hover {\n",
              "      background-color: #434B5C;\n",
              "      box-shadow: 0px 1px 3px 1px rgba(0, 0, 0, 0.15);\n",
              "      filter: drop-shadow(0px 1px 2px rgba(0, 0, 0, 0.3));\n",
              "      fill: #FFFFFF;\n",
              "    }\n",
              "  </style>\n",
              "\n",
              "      <script>\n",
              "        const buttonEl =\n",
              "          document.querySelector('#df-b335e9f2-ab87-45e6-a9a4-e7fe2b269711 button.colab-df-convert');\n",
              "        buttonEl.style.display =\n",
              "          google.colab.kernel.accessAllowed ? 'block' : 'none';\n",
              "\n",
              "        async function convertToInteractive(key) {\n",
              "          const element = document.querySelector('#df-b335e9f2-ab87-45e6-a9a4-e7fe2b269711');\n",
              "          const dataTable =\n",
              "            await google.colab.kernel.invokeFunction('convertToInteractive',\n",
              "                                                     [key], {});\n",
              "          if (!dataTable) return;\n",
              "\n",
              "          const docLinkHtml = 'Like what you see? Visit the ' +\n",
              "            '<a target=\"_blank\" href=https://colab.research.google.com/notebooks/data_table.ipynb>data table notebook</a>'\n",
              "            + ' to learn more about interactive tables.';\n",
              "          element.innerHTML = '';\n",
              "          dataTable['output_type'] = 'display_data';\n",
              "          await google.colab.output.renderOutput(dataTable, element);\n",
              "          const docLink = document.createElement('div');\n",
              "          docLink.innerHTML = docLinkHtml;\n",
              "          element.appendChild(docLink);\n",
              "        }\n",
              "      </script>\n",
              "    </div>\n",
              "  </div>\n",
              "  "
            ]
          },
          "metadata": {},
          "execution_count": 49
        }
      ]
    },
    {
      "cell_type": "code",
      "source": [
        "X = data.drop('id', axis = 1)\n",
        "X = X.values\n",
        "y = data['target']"
      ],
      "metadata": {
        "id": "Damn5FeEBnIF"
      },
      "execution_count": 50,
      "outputs": []
    },
    {
      "cell_type": "code",
      "source": [
        "scaler = StandardScaler()\n",
        "X_standard = scaler.fit_transform(X)"
      ],
      "metadata": {
        "id": "sEhgPblnD_NM"
      },
      "execution_count": 51,
      "outputs": []
    },
    {
      "cell_type": "code",
      "source": [
        "X_train,X_test, y_train, y_test = train_test_split(X, y, test_size = 0.2, random_state = 42)"
      ],
      "metadata": {
        "id": "_N3WTQHrCYo7"
      },
      "execution_count": 52,
      "outputs": []
    },
    {
      "cell_type": "code",
      "source": [
        "print(\"X_train.shape: \", X_train.shape[0])\n",
        "print(\"y_train.shape: \", y_train.shape[0])\n",
        "print(\"X_test.shape: \", X_test.shape[0])\n",
        "print(\"y_test.shape: \", y_test.shape[0])"
      ],
      "metadata": {
        "colab": {
          "base_uri": "https://localhost:8080/"
        },
        "id": "YKb5mTkhDajq",
        "outputId": "a7236601-2d49-4c6b-cd62-3bbf69892a9e"
      },
      "execution_count": 53,
      "outputs": [
        {
          "output_type": "stream",
          "name": "stdout",
          "text": [
            "X_train.shape:  6090\n",
            "y_train.shape:  6090\n",
            "X_test.shape:  1523\n",
            "y_test.shape:  1523\n"
          ]
        }
      ]
    },
    {
      "cell_type": "code",
      "source": [
        "knn_classifier = KNeighborsClassifier(n_neighbors = 5, metric = 'minkowski', p = 2)\n",
        "knn_classifier.fit(X_train, y_train)\n",
        "predictions = knn_classifier.predict(X_test)"
      ],
      "metadata": {
        "colab": {
          "base_uri": "https://localhost:8080/",
          "height": 75
        },
        "id": "3-sjo7oIDdZM",
        "outputId": "f6ac19d4-cea7-4e73-f8af-586aa1467cc3"
      },
      "execution_count": 54,
      "outputs": [
        {
          "output_type": "execute_result",
          "data": {
            "text/plain": [
              "KNeighborsClassifier()"
            ],
            "text/html": [
              "<style>#sk-container-id-1 {color: black;background-color: white;}#sk-container-id-1 pre{padding: 0;}#sk-container-id-1 div.sk-toggleable {background-color: white;}#sk-container-id-1 label.sk-toggleable__label {cursor: pointer;display: block;width: 100%;margin-bottom: 0;padding: 0.3em;box-sizing: border-box;text-align: center;}#sk-container-id-1 label.sk-toggleable__label-arrow:before {content: \"▸\";float: left;margin-right: 0.25em;color: #696969;}#sk-container-id-1 label.sk-toggleable__label-arrow:hover:before {color: black;}#sk-container-id-1 div.sk-estimator:hover label.sk-toggleable__label-arrow:before {color: black;}#sk-container-id-1 div.sk-toggleable__content {max-height: 0;max-width: 0;overflow: hidden;text-align: left;background-color: #f0f8ff;}#sk-container-id-1 div.sk-toggleable__content pre {margin: 0.2em;color: black;border-radius: 0.25em;background-color: #f0f8ff;}#sk-container-id-1 input.sk-toggleable__control:checked~div.sk-toggleable__content {max-height: 200px;max-width: 100%;overflow: auto;}#sk-container-id-1 input.sk-toggleable__control:checked~label.sk-toggleable__label-arrow:before {content: \"▾\";}#sk-container-id-1 div.sk-estimator input.sk-toggleable__control:checked~label.sk-toggleable__label {background-color: #d4ebff;}#sk-container-id-1 div.sk-label input.sk-toggleable__control:checked~label.sk-toggleable__label {background-color: #d4ebff;}#sk-container-id-1 input.sk-hidden--visually {border: 0;clip: rect(1px 1px 1px 1px);clip: rect(1px, 1px, 1px, 1px);height: 1px;margin: -1px;overflow: hidden;padding: 0;position: absolute;width: 1px;}#sk-container-id-1 div.sk-estimator {font-family: monospace;background-color: #f0f8ff;border: 1px dotted black;border-radius: 0.25em;box-sizing: border-box;margin-bottom: 0.5em;}#sk-container-id-1 div.sk-estimator:hover {background-color: #d4ebff;}#sk-container-id-1 div.sk-parallel-item::after {content: \"\";width: 100%;border-bottom: 1px solid gray;flex-grow: 1;}#sk-container-id-1 div.sk-label:hover label.sk-toggleable__label {background-color: #d4ebff;}#sk-container-id-1 div.sk-serial::before {content: \"\";position: absolute;border-left: 1px solid gray;box-sizing: border-box;top: 0;bottom: 0;left: 50%;z-index: 0;}#sk-container-id-1 div.sk-serial {display: flex;flex-direction: column;align-items: center;background-color: white;padding-right: 0.2em;padding-left: 0.2em;position: relative;}#sk-container-id-1 div.sk-item {position: relative;z-index: 1;}#sk-container-id-1 div.sk-parallel {display: flex;align-items: stretch;justify-content: center;background-color: white;position: relative;}#sk-container-id-1 div.sk-item::before, #sk-container-id-1 div.sk-parallel-item::before {content: \"\";position: absolute;border-left: 1px solid gray;box-sizing: border-box;top: 0;bottom: 0;left: 50%;z-index: -1;}#sk-container-id-1 div.sk-parallel-item {display: flex;flex-direction: column;z-index: 1;position: relative;background-color: white;}#sk-container-id-1 div.sk-parallel-item:first-child::after {align-self: flex-end;width: 50%;}#sk-container-id-1 div.sk-parallel-item:last-child::after {align-self: flex-start;width: 50%;}#sk-container-id-1 div.sk-parallel-item:only-child::after {width: 0;}#sk-container-id-1 div.sk-dashed-wrapped {border: 1px dashed gray;margin: 0 0.4em 0.5em 0.4em;box-sizing: border-box;padding-bottom: 0.4em;background-color: white;}#sk-container-id-1 div.sk-label label {font-family: monospace;font-weight: bold;display: inline-block;line-height: 1.2em;}#sk-container-id-1 div.sk-label-container {text-align: center;}#sk-container-id-1 div.sk-container {/* jupyter's `normalize.less` sets `[hidden] { display: none; }` but bootstrap.min.css set `[hidden] { display: none !important; }` so we also need the `!important` here to be able to override the default hidden behavior on the sphinx rendered scikit-learn.org. See: https://github.com/scikit-learn/scikit-learn/issues/21755 */display: inline-block !important;position: relative;}#sk-container-id-1 div.sk-text-repr-fallback {display: none;}</style><div id=\"sk-container-id-1\" class=\"sk-top-container\"><div class=\"sk-text-repr-fallback\"><pre>KNeighborsClassifier()</pre><b>In a Jupyter environment, please rerun this cell to show the HTML representation or trust the notebook. <br />On GitHub, the HTML representation is unable to render, please try loading this page with nbviewer.org.</b></div><div class=\"sk-container\" hidden><div class=\"sk-item\"><div class=\"sk-estimator sk-toggleable\"><input class=\"sk-toggleable__control sk-hidden--visually\" id=\"sk-estimator-id-1\" type=\"checkbox\" checked><label for=\"sk-estimator-id-1\" class=\"sk-toggleable__label sk-toggleable__label-arrow\">KNeighborsClassifier</label><div class=\"sk-toggleable__content\"><pre>KNeighborsClassifier()</pre></div></div></div></div></div>"
            ]
          },
          "metadata": {},
          "execution_count": 54
        }
      ]
    },
    {
      "cell_type": "code",
      "source": [
        "classification_knn = (classification_report(y_test, predictions))\n",
        "print(classification_knn)"
      ],
      "metadata": {
        "colab": {
          "base_uri": "https://localhost:8080/"
        },
        "id": "vohjtH4mDgr7",
        "outputId": "9f6c5600-1b35-4574-c489-24404a9056df"
      },
      "execution_count": 55,
      "outputs": [
        {
          "output_type": "stream",
          "name": "stdout",
          "text": [
            "              precision    recall  f1-score   support\n",
            "\n",
            "           0       0.64      0.67      0.65       874\n",
            "           1       0.52      0.49      0.50       649\n",
            "\n",
            "    accuracy                           0.59      1523\n",
            "   macro avg       0.58      0.58      0.58      1523\n",
            "weighted avg       0.59      0.59      0.59      1523\n",
            "\n"
          ]
        }
      ]
    },
    {
      "cell_type": "code",
      "source": [
        "cm = ConfusionMatrix(knn_classifier)\n",
        "cm.fit(X_train, y_train)\n",
        "cm.score(X_test, y_test)"
      ],
      "metadata": {
        "colab": {
          "base_uri": "https://localhost:8080/",
          "height": 701
        },
        "id": "Hj4-IMsdEXiU",
        "outputId": "31c14087-7330-483a-f3f8-001e34b5541e"
      },
      "execution_count": 56,
      "outputs": [
        {
          "output_type": "execute_result",
          "data": {
            "text/plain": [
              "ConfusionMatrix(ax=<Axes: >,\n",
              "                cmap=<matplotlib.colors.ListedColormap object at 0x7fa117b175b0>,\n",
              "                estimator=KNeighborsClassifier())"
            ],
            "text/html": [
              "<style>#sk-container-id-2 {color: black;background-color: white;}#sk-container-id-2 pre{padding: 0;}#sk-container-id-2 div.sk-toggleable {background-color: white;}#sk-container-id-2 label.sk-toggleable__label {cursor: pointer;display: block;width: 100%;margin-bottom: 0;padding: 0.3em;box-sizing: border-box;text-align: center;}#sk-container-id-2 label.sk-toggleable__label-arrow:before {content: \"▸\";float: left;margin-right: 0.25em;color: #696969;}#sk-container-id-2 label.sk-toggleable__label-arrow:hover:before {color: black;}#sk-container-id-2 div.sk-estimator:hover label.sk-toggleable__label-arrow:before {color: black;}#sk-container-id-2 div.sk-toggleable__content {max-height: 0;max-width: 0;overflow: hidden;text-align: left;background-color: #f0f8ff;}#sk-container-id-2 div.sk-toggleable__content pre {margin: 0.2em;color: black;border-radius: 0.25em;background-color: #f0f8ff;}#sk-container-id-2 input.sk-toggleable__control:checked~div.sk-toggleable__content {max-height: 200px;max-width: 100%;overflow: auto;}#sk-container-id-2 input.sk-toggleable__control:checked~label.sk-toggleable__label-arrow:before {content: \"▾\";}#sk-container-id-2 div.sk-estimator input.sk-toggleable__control:checked~label.sk-toggleable__label {background-color: #d4ebff;}#sk-container-id-2 div.sk-label input.sk-toggleable__control:checked~label.sk-toggleable__label {background-color: #d4ebff;}#sk-container-id-2 input.sk-hidden--visually {border: 0;clip: rect(1px 1px 1px 1px);clip: rect(1px, 1px, 1px, 1px);height: 1px;margin: -1px;overflow: hidden;padding: 0;position: absolute;width: 1px;}#sk-container-id-2 div.sk-estimator {font-family: monospace;background-color: #f0f8ff;border: 1px dotted black;border-radius: 0.25em;box-sizing: border-box;margin-bottom: 0.5em;}#sk-container-id-2 div.sk-estimator:hover {background-color: #d4ebff;}#sk-container-id-2 div.sk-parallel-item::after {content: \"\";width: 100%;border-bottom: 1px solid gray;flex-grow: 1;}#sk-container-id-2 div.sk-label:hover label.sk-toggleable__label {background-color: #d4ebff;}#sk-container-id-2 div.sk-serial::before {content: \"\";position: absolute;border-left: 1px solid gray;box-sizing: border-box;top: 0;bottom: 0;left: 50%;z-index: 0;}#sk-container-id-2 div.sk-serial {display: flex;flex-direction: column;align-items: center;background-color: white;padding-right: 0.2em;padding-left: 0.2em;position: relative;}#sk-container-id-2 div.sk-item {position: relative;z-index: 1;}#sk-container-id-2 div.sk-parallel {display: flex;align-items: stretch;justify-content: center;background-color: white;position: relative;}#sk-container-id-2 div.sk-item::before, #sk-container-id-2 div.sk-parallel-item::before {content: \"\";position: absolute;border-left: 1px solid gray;box-sizing: border-box;top: 0;bottom: 0;left: 50%;z-index: -1;}#sk-container-id-2 div.sk-parallel-item {display: flex;flex-direction: column;z-index: 1;position: relative;background-color: white;}#sk-container-id-2 div.sk-parallel-item:first-child::after {align-self: flex-end;width: 50%;}#sk-container-id-2 div.sk-parallel-item:last-child::after {align-self: flex-start;width: 50%;}#sk-container-id-2 div.sk-parallel-item:only-child::after {width: 0;}#sk-container-id-2 div.sk-dashed-wrapped {border: 1px dashed gray;margin: 0 0.4em 0.5em 0.4em;box-sizing: border-box;padding-bottom: 0.4em;background-color: white;}#sk-container-id-2 div.sk-label label {font-family: monospace;font-weight: bold;display: inline-block;line-height: 1.2em;}#sk-container-id-2 div.sk-label-container {text-align: center;}#sk-container-id-2 div.sk-container {/* jupyter's `normalize.less` sets `[hidden] { display: none; }` but bootstrap.min.css set `[hidden] { display: none !important; }` so we also need the `!important` here to be able to override the default hidden behavior on the sphinx rendered scikit-learn.org. See: https://github.com/scikit-learn/scikit-learn/issues/21755 */display: inline-block !important;position: relative;}#sk-container-id-2 div.sk-text-repr-fallback {display: none;}</style><div id=\"sk-container-id-2\" class=\"sk-top-container\"><div class=\"sk-text-repr-fallback\"><pre>ConfusionMatrix(ax=&lt;Axes: &gt;,\n",
              "                cmap=&lt;matplotlib.colors.ListedColormap object at 0x7fa117b175b0&gt;,\n",
              "                estimator=KNeighborsClassifier())</pre><b>In a Jupyter environment, please rerun this cell to show the HTML representation or trust the notebook. <br />On GitHub, the HTML representation is unable to render, please try loading this page with nbviewer.org.</b></div><div class=\"sk-container\" hidden><div class=\"sk-item sk-dashed-wrapped\"><div class=\"sk-label-container\"><div class=\"sk-label sk-toggleable\"><input class=\"sk-toggleable__control sk-hidden--visually\" id=\"sk-estimator-id-2\" type=\"checkbox\" ><label for=\"sk-estimator-id-2\" class=\"sk-toggleable__label sk-toggleable__label-arrow\">ConfusionMatrix</label><div class=\"sk-toggleable__content\"><pre>ConfusionMatrix(ax=&lt;Axes: &gt;,\n",
              "                cmap=&lt;matplotlib.colors.ListedColormap object at 0x7fa117b175b0&gt;,\n",
              "                estimator=KNeighborsClassifier())</pre></div></div></div><div class=\"sk-parallel\"><div class=\"sk-parallel-item\"><div class=\"sk-item\"><div class=\"sk-label-container\"><div class=\"sk-label sk-toggleable\"><input class=\"sk-toggleable__control sk-hidden--visually\" id=\"sk-estimator-id-3\" type=\"checkbox\" ><label for=\"sk-estimator-id-3\" class=\"sk-toggleable__label sk-toggleable__label-arrow\">estimator: KNeighborsClassifier</label><div class=\"sk-toggleable__content\"><pre>KNeighborsClassifier()</pre></div></div></div><div class=\"sk-serial\"><div class=\"sk-item\"><div class=\"sk-estimator sk-toggleable\"><input class=\"sk-toggleable__control sk-hidden--visually\" id=\"sk-estimator-id-4\" type=\"checkbox\" ><label for=\"sk-estimator-id-4\" class=\"sk-toggleable__label sk-toggleable__label-arrow\">KNeighborsClassifier</label><div class=\"sk-toggleable__content\"><pre>KNeighborsClassifier()</pre></div></div></div></div></div></div></div></div></div></div>"
            ]
          },
          "metadata": {},
          "execution_count": 56
        },
        {
          "output_type": "execute_result",
          "data": {
            "text/plain": [
              "0.5915955351280368"
            ]
          },
          "metadata": {},
          "execution_count": 56
        },
        {
          "output_type": "display_data",
          "data": {
            "text/plain": [
              "<Figure size 800x550 with 1 Axes>"
            ],
            "image/png": "[encoded data removed]"
          },
          "metadata": {}
        }
      ]
    },
    {
      "cell_type": "code",
      "source": [
        "logreg_classifier = LogisticRegression()\n",
        "logreg_classifier.fit(X_train, y_train)\n",
        "predictions = logreg_classifier.predict(X_test)"
      ],
      "metadata": {
        "colab": {
          "base_uri": "https://localhost:8080/",
          "height": 75
        },
        "id": "UkLEhLQuEbWT",
        "outputId": "3380f70d-9f8d-4ec0-8634-69d8d327fd82"
      },
      "execution_count": 57,
      "outputs": [
        {
          "output_type": "execute_result",
          "data": {
            "text/plain": [
              "LogisticRegression()"
            ],
            "text/html": [
              "<style>#sk-container-id-3 {color: black;background-color: white;}#sk-container-id-3 pre{padding: 0;}#sk-container-id-3 div.sk-toggleable {background-color: white;}#sk-container-id-3 label.sk-toggleable__label {cursor: pointer;display: block;width: 100%;margin-bottom: 0;padding: 0.3em;box-sizing: border-box;text-align: center;}#sk-container-id-3 label.sk-toggleable__label-arrow:before {content: \"▸\";float: left;margin-right: 0.25em;color: #696969;}#sk-container-id-3 label.sk-toggleable__label-arrow:hover:before {color: black;}#sk-container-id-3 div.sk-estimator:hover label.sk-toggleable__label-arrow:before {color: black;}#sk-container-id-3 div.sk-toggleable__content {max-height: 0;max-width: 0;overflow: hidden;text-align: left;background-color: #f0f8ff;}#sk-container-id-3 div.sk-toggleable__content pre {margin: 0.2em;color: black;border-radius: 0.25em;background-color: #f0f8ff;}#sk-container-id-3 input.sk-toggleable__control:checked~div.sk-toggleable__content {max-height: 200px;max-width: 100%;overflow: auto;}#sk-container-id-3 input.sk-toggleable__control:checked~label.sk-toggleable__label-arrow:before {content: \"▾\";}#sk-container-id-3 div.sk-estimator input.sk-toggleable__control:checked~label.sk-toggleable__label {background-color: #d4ebff;}#sk-container-id-3 div.sk-label input.sk-toggleable__control:checked~label.sk-toggleable__label {background-color: #d4ebff;}#sk-container-id-3 input.sk-hidden--visually {border: 0;clip: rect(1px 1px 1px 1px);clip: rect(1px, 1px, 1px, 1px);height: 1px;margin: -1px;overflow: hidden;padding: 0;position: absolute;width: 1px;}#sk-container-id-3 div.sk-estimator {font-family: monospace;background-color: #f0f8ff;border: 1px dotted black;border-radius: 0.25em;box-sizing: border-box;margin-bottom: 0.5em;}#sk-container-id-3 div.sk-estimator:hover {background-color: #d4ebff;}#sk-container-id-3 div.sk-parallel-item::after {content: \"\";width: 100%;border-bottom: 1px solid gray;flex-grow: 1;}#sk-container-id-3 div.sk-label:hover label.sk-toggleable__label {background-color: #d4ebff;}#sk-container-id-3 div.sk-serial::before {content: \"\";position: absolute;border-left: 1px solid gray;box-sizing: border-box;top: 0;bottom: 0;left: 50%;z-index: 0;}#sk-container-id-3 div.sk-serial {display: flex;flex-direction: column;align-items: center;background-color: white;padding-right: 0.2em;padding-left: 0.2em;position: relative;}#sk-container-id-3 div.sk-item {position: relative;z-index: 1;}#sk-container-id-3 div.sk-parallel {display: flex;align-items: stretch;justify-content: center;background-color: white;position: relative;}#sk-container-id-3 div.sk-item::before, #sk-container-id-3 div.sk-parallel-item::before {content: \"\";position: absolute;border-left: 1px solid gray;box-sizing: border-box;top: 0;bottom: 0;left: 50%;z-index: -1;}#sk-container-id-3 div.sk-parallel-item {display: flex;flex-direction: column;z-index: 1;position: relative;background-color: white;}#sk-container-id-3 div.sk-parallel-item:first-child::after {align-self: flex-end;width: 50%;}#sk-container-id-3 div.sk-parallel-item:last-child::after {align-self: flex-start;width: 50%;}#sk-container-id-3 div.sk-parallel-item:only-child::after {width: 0;}#sk-container-id-3 div.sk-dashed-wrapped {border: 1px dashed gray;margin: 0 0.4em 0.5em 0.4em;box-sizing: border-box;padding-bottom: 0.4em;background-color: white;}#sk-container-id-3 div.sk-label label {font-family: monospace;font-weight: bold;display: inline-block;line-height: 1.2em;}#sk-container-id-3 div.sk-label-container {text-align: center;}#sk-container-id-3 div.sk-container {/* jupyter's `normalize.less` sets `[hidden] { display: none; }` but bootstrap.min.css set `[hidden] { display: none !important; }` so we also need the `!important` here to be able to override the default hidden behavior on the sphinx rendered scikit-learn.org. See: https://github.com/scikit-learn/scikit-learn/issues/21755 */display: inline-block !important;position: relative;}#sk-container-id-3 div.sk-text-repr-fallback {display: none;}</style><div id=\"sk-container-id-3\" class=\"sk-top-container\"><div class=\"sk-text-repr-fallback\"><pre>LogisticRegression()</pre><b>In a Jupyter environment, please rerun this cell to show the HTML representation or trust the notebook. <br />On GitHub, the HTML representation is unable to render, please try loading this page with nbviewer.org.</b></div><div class=\"sk-container\" hidden><div class=\"sk-item\"><div class=\"sk-estimator sk-toggleable\"><input class=\"sk-toggleable__control sk-hidden--visually\" id=\"sk-estimator-id-5\" type=\"checkbox\" checked><label for=\"sk-estimator-id-5\" class=\"sk-toggleable__label sk-toggleable__label-arrow\">LogisticRegression</label><div class=\"sk-toggleable__content\"><pre>LogisticRegression()</pre></div></div></div></div></div>"
            ]
          },
          "metadata": {},
          "execution_count": 57
        }
      ]
    },
    {
      "cell_type": "code",
      "source": [
        "cm = ConfusionMatrix(logreg_classifier)\n",
        "cm.fit(X_train, y_train)\n",
        "cm.score(X_test, y_test)"
      ],
      "metadata": {
        "colab": {
          "base_uri": "https://localhost:8080/",
          "height": 701
        },
        "id": "9MwCmOohEgpj",
        "outputId": "4a028581-2d9e-4997-be28-d759e1d869b7"
      },
      "execution_count": 58,
      "outputs": [
        {
          "output_type": "execute_result",
          "data": {
            "text/plain": [
              "ConfusionMatrix(ax=<Axes: >,\n",
              "                cmap=<matplotlib.colors.ListedColormap object at 0x7fa1cf2e3a30>,\n",
              "                estimator=LogisticRegression())"
            ],
            "text/html": [
              "<style>#sk-container-id-4 {color: black;background-color: white;}#sk-container-id-4 pre{padding: 0;}#sk-container-id-4 div.sk-toggleable {background-color: white;}#sk-container-id-4 label.sk-toggleable__label {cursor: pointer;display: block;width: 100%;margin-bottom: 0;padding: 0.3em;box-sizing: border-box;text-align: center;}#sk-container-id-4 label.sk-toggleable__label-arrow:before {content: \"▸\";float: left;margin-right: 0.25em;color: #696969;}#sk-container-id-4 label.sk-toggleable__label-arrow:hover:before {color: black;}#sk-container-id-4 div.sk-estimator:hover label.sk-toggleable__label-arrow:before {color: black;}#sk-container-id-4 div.sk-toggleable__content {max-height: 0;max-width: 0;overflow: hidden;text-align: left;background-color: #f0f8ff;}#sk-container-id-4 div.sk-toggleable__content pre {margin: 0.2em;color: black;border-radius: 0.25em;background-color: #f0f8ff;}#sk-container-id-4 input.sk-toggleable__control:checked~div.sk-toggleable__content {max-height: 200px;max-width: 100%;overflow: auto;}#sk-container-id-4 input.sk-toggleable__control:checked~label.sk-toggleable__label-arrow:before {content: \"▾\";}#sk-container-id-4 div.sk-estimator input.sk-toggleable__control:checked~label.sk-toggleable__label {background-color: #d4ebff;}#sk-container-id-4 div.sk-label input.sk-toggleable__control:checked~label.sk-toggleable__label {background-color: #d4ebff;}#sk-container-id-4 input.sk-hidden--visually {border: 0;clip: rect(1px 1px 1px 1px);clip: rect(1px, 1px, 1px, 1px);height: 1px;margin: -1px;overflow: hidden;padding: 0;position: absolute;width: 1px;}#sk-container-id-4 div.sk-estimator {font-family: monospace;background-color: #f0f8ff;border: 1px dotted black;border-radius: 0.25em;box-sizing: border-box;margin-bottom: 0.5em;}#sk-container-id-4 div.sk-estimator:hover {background-color: #d4ebff;}#sk-container-id-4 div.sk-parallel-item::after {content: \"\";width: 100%;border-bottom: 1px solid gray;flex-grow: 1;}#sk-container-id-4 div.sk-label:hover label.sk-toggleable__label {background-color: #d4ebff;}#sk-container-id-4 div.sk-serial::before {content: \"\";position: absolute;border-left: 1px solid gray;box-sizing: border-box;top: 0;bottom: 0;left: 50%;z-index: 0;}#sk-container-id-4 div.sk-serial {display: flex;flex-direction: column;align-items: center;background-color: white;padding-right: 0.2em;padding-left: 0.2em;position: relative;}#sk-container-id-4 div.sk-item {position: relative;z-index: 1;}#sk-container-id-4 div.sk-parallel {display: flex;align-items: stretch;justify-content: center;background-color: white;position: relative;}#sk-container-id-4 div.sk-item::before, #sk-container-id-4 div.sk-parallel-item::before {content: \"\";position: absolute;border-left: 1px solid gray;box-sizing: border-box;top: 0;bottom: 0;left: 50%;z-index: -1;}#sk-container-id-4 div.sk-parallel-item {display: flex;flex-direction: column;z-index: 1;position: relative;background-color: white;}#sk-container-id-4 div.sk-parallel-item:first-child::after {align-self: flex-end;width: 50%;}#sk-container-id-4 div.sk-parallel-item:last-child::after {align-self: flex-start;width: 50%;}#sk-container-id-4 div.sk-parallel-item:only-child::after {width: 0;}#sk-container-id-4 div.sk-dashed-wrapped {border: 1px dashed gray;margin: 0 0.4em 0.5em 0.4em;box-sizing: border-box;padding-bottom: 0.4em;background-color: white;}#sk-container-id-4 div.sk-label label {font-family: monospace;font-weight: bold;display: inline-block;line-height: 1.2em;}#sk-container-id-4 div.sk-label-container {text-align: center;}#sk-container-id-4 div.sk-container {/* jupyter's `normalize.less` sets `[hidden] { display: none; }` but bootstrap.min.css set `[hidden] { display: none !important; }` so we also need the `!important` here to be able to override the default hidden behavior on the sphinx rendered scikit-learn.org. See: https://github.com/scikit-learn/scikit-learn/issues/21755 */display: inline-block !important;position: relative;}#sk-container-id-4 div.sk-text-repr-fallback {display: none;}</style><div id=\"sk-container-id-4\" class=\"sk-top-container\"><div class=\"sk-text-repr-fallback\"><pre>ConfusionMatrix(ax=&lt;Axes: &gt;,\n",
              "                cmap=&lt;matplotlib.colors.ListedColormap object at 0x7fa1cf2e3a30&gt;,\n",
              "                estimator=LogisticRegression())</pre><b>In a Jupyter environment, please rerun this cell to show the HTML representation or trust the notebook. <br />On GitHub, the HTML representation is unable to render, please try loading this page with nbviewer.org.</b></div><div class=\"sk-container\" hidden><div class=\"sk-item sk-dashed-wrapped\"><div class=\"sk-label-container\"><div class=\"sk-label sk-toggleable\"><input class=\"sk-toggleable__control sk-hidden--visually\" id=\"sk-estimator-id-6\" type=\"checkbox\" ><label for=\"sk-estimator-id-6\" class=\"sk-toggleable__label sk-toggleable__label-arrow\">ConfusionMatrix</label><div class=\"sk-toggleable__content\"><pre>ConfusionMatrix(ax=&lt;Axes: &gt;,\n",
              "                cmap=&lt;matplotlib.colors.ListedColormap object at 0x7fa1cf2e3a30&gt;,\n",
              "                estimator=LogisticRegression())</pre></div></div></div><div class=\"sk-parallel\"><div class=\"sk-parallel-item\"><div class=\"sk-item\"><div class=\"sk-label-container\"><div class=\"sk-label sk-toggleable\"><input class=\"sk-toggleable__control sk-hidden--visually\" id=\"sk-estimator-id-7\" type=\"checkbox\" ><label for=\"sk-estimator-id-7\" class=\"sk-toggleable__label sk-toggleable__label-arrow\">estimator: LogisticRegression</label><div class=\"sk-toggleable__content\"><pre>LogisticRegression()</pre></div></div></div><div class=\"sk-serial\"><div class=\"sk-item\"><div class=\"sk-estimator sk-toggleable\"><input class=\"sk-toggleable__control sk-hidden--visually\" id=\"sk-estimator-id-8\" type=\"checkbox\" ><label for=\"sk-estimator-id-8\" class=\"sk-toggleable__label sk-toggleable__label-arrow\">LogisticRegression</label><div class=\"sk-toggleable__content\"><pre>LogisticRegression()</pre></div></div></div></div></div></div></div></div></div></div>"
            ]
          },
          "metadata": {},
          "execution_count": 58
        },
        {
          "output_type": "execute_result",
          "data": {
            "text/plain": [
              "1.0"
            ]
          },
          "metadata": {},
          "execution_count": 58
        },
        {
          "output_type": "display_data",
          "data": {
            "text/plain": [
              "<Figure size 800x550 with 1 Axes>"
            ],
            "image/png": "[encoded data removed]"
          },
          "metadata": {}
        }
      ]
    },
    {
      "cell_type": "code",
      "source": [
        "classification_logistic_regression = (classification_report(y_test, predictions))\n",
        "print(classification_logistic_regression)"
      ],
      "metadata": {
        "colab": {
          "base_uri": "https://localhost:8080/"
        },
        "id": "RJsVJIUKEj0z",
        "outputId": "4b8ace03-9df5-4d18-ed82-16290b1c6539"
      },
      "execution_count": 59,
      "outputs": [
        {
          "output_type": "stream",
          "name": "stdout",
          "text": [
            "              precision    recall  f1-score   support\n",
            "\n",
            "           0       1.00      1.00      1.00       874\n",
            "           1       1.00      1.00      1.00       649\n",
            "\n",
            "    accuracy                           1.00      1523\n",
            "   macro avg       1.00      1.00      1.00      1523\n",
            "weighted avg       1.00      1.00      1.00      1523\n",
            "\n"
          ]
        }
      ]
    },
    {
      "cell_type": "code",
      "source": [
        "min_split = np.array([2, 3, 4, 5, 6, 7])\n",
        "max_nvl = np.array([3, 4, 5, 6, 7, 9, 11])\n",
        "alg = ['entropy', 'gini']\n",
        "values_grid = {'min_samples_split': min_split, 'max_depth': max_nvl, 'criterion': alg}\n",
        "\n",
        "decision_tree = DecisionTreeClassifier()\n",
        "gridDecisionTree = GridSearchCV(estimator = decision_tree, param_grid = values_grid, cv = 5)\n",
        "gridDecisionTree.fit(X_train, y_train)"
      ],
      "metadata": {
        "colab": {
          "base_uri": "https://localhost:8080/",
          "height": 239
        },
        "id": "2OYcJMDXEnYL",
        "outputId": "dc04b07c-af28-4c15-d7b2-6263698e7ce3"
      },
      "execution_count": 60,
      "outputs": [
        {
          "output_type": "execute_result",
          "data": {
            "text/plain": [
              "GridSearchCV(cv=5, estimator=DecisionTreeClassifier(),\n",
              "             param_grid={'criterion': ['entropy', 'gini'],\n",
              "                         'max_depth': array([ 3,  4,  5,  6,  7,  9, 11]),\n",
              "                         'min_samples_split': array([2, 3, 4, 5, 6, 7])})"
            ],
            "text/html": [
              "<style>#sk-container-id-5 {color: black;background-color: white;}#sk-container-id-5 pre{padding: 0;}#sk-container-id-5 div.sk-toggleable {background-color: white;}#sk-container-id-5 label.sk-toggleable__label {cursor: pointer;display: block;width: 100%;margin-bottom: 0;padding: 0.3em;box-sizing: border-box;text-align: center;}#sk-container-id-5 label.sk-toggleable__label-arrow:before {content: \"▸\";float: left;margin-right: 0.25em;color: #696969;}#sk-container-id-5 label.sk-toggleable__label-arrow:hover:before {color: black;}#sk-container-id-5 div.sk-estimator:hover label.sk-toggleable__label-arrow:before {color: black;}#sk-container-id-5 div.sk-toggleable__content {max-height: 0;max-width: 0;overflow: hidden;text-align: left;background-color: #f0f8ff;}#sk-container-id-5 div.sk-toggleable__content pre {margin: 0.2em;color: black;border-radius: 0.25em;background-color: #f0f8ff;}#sk-container-id-5 input.sk-toggleable__control:checked~div.sk-toggleable__content {max-height: 200px;max-width: 100%;overflow: auto;}#sk-container-id-5 input.sk-toggleable__control:checked~label.sk-toggleable__label-arrow:before {content: \"▾\";}#sk-container-id-5 div.sk-estimator input.sk-toggleable__control:checked~label.sk-toggleable__label {background-color: #d4ebff;}#sk-container-id-5 div.sk-label input.sk-toggleable__control:checked~label.sk-toggleable__label {background-color: #d4ebff;}#sk-container-id-5 input.sk-hidden--visually {border: 0;clip: rect(1px 1px 1px 1px);clip: rect(1px, 1px, 1px, 1px);height: 1px;margin: -1px;overflow: hidden;padding: 0;position: absolute;width: 1px;}#sk-container-id-5 div.sk-estimator {font-family: monospace;background-color: #f0f8ff;border: 1px dotted black;border-radius: 0.25em;box-sizing: border-box;margin-bottom: 0.5em;}#sk-container-id-5 div.sk-estimator:hover {background-color: #d4ebff;}#sk-container-id-5 div.sk-parallel-item::after {content: \"\";width: 100%;border-bottom: 1px solid gray;flex-grow: 1;}#sk-container-id-5 div.sk-label:hover label.sk-toggleable__label {background-color: #d4ebff;}#sk-container-id-5 div.sk-serial::before {content: \"\";position: absolute;border-left: 1px solid gray;box-sizing: border-box;top: 0;bottom: 0;left: 50%;z-index: 0;}#sk-container-id-5 div.sk-serial {display: flex;flex-direction: column;align-items: center;background-color: white;padding-right: 0.2em;padding-left: 0.2em;position: relative;}#sk-container-id-5 div.sk-item {position: relative;z-index: 1;}#sk-container-id-5 div.sk-parallel {display: flex;align-items: stretch;justify-content: center;background-color: white;position: relative;}#sk-container-id-5 div.sk-item::before, #sk-container-id-5 div.sk-parallel-item::before {content: \"\";position: absolute;border-left: 1px solid gray;box-sizing: border-box;top: 0;bottom: 0;left: 50%;z-index: -1;}#sk-container-id-5 div.sk-parallel-item {display: flex;flex-direction: column;z-index: 1;position: relative;background-color: white;}#sk-container-id-5 div.sk-parallel-item:first-child::after {align-self: flex-end;width: 50%;}#sk-container-id-5 div.sk-parallel-item:last-child::after {align-self: flex-start;width: 50%;}#sk-container-id-5 div.sk-parallel-item:only-child::after {width: 0;}#sk-container-id-5 div.sk-dashed-wrapped {border: 1px dashed gray;margin: 0 0.4em 0.5em 0.4em;box-sizing: border-box;padding-bottom: 0.4em;background-color: white;}#sk-container-id-5 div.sk-label label {font-family: monospace;font-weight: bold;display: inline-block;line-height: 1.2em;}#sk-container-id-5 div.sk-label-container {text-align: center;}#sk-container-id-5 div.sk-container {/* jupyter's `normalize.less` sets `[hidden] { display: none; }` but bootstrap.min.css set `[hidden] { display: none !important; }` so we also need the `!important` here to be able to override the default hidden behavior on the sphinx rendered scikit-learn.org. See: https://github.com/scikit-learn/scikit-learn/issues/21755 */display: inline-block !important;position: relative;}#sk-container-id-5 div.sk-text-repr-fallback {display: none;}</style><div id=\"sk-container-id-5\" class=\"sk-top-container\"><div class=\"sk-text-repr-fallback\"><pre>GridSearchCV(cv=5, estimator=DecisionTreeClassifier(),\n",
              "             param_grid={&#x27;criterion&#x27;: [&#x27;entropy&#x27;, &#x27;gini&#x27;],\n",
              "                         &#x27;max_depth&#x27;: array([ 3,  4,  5,  6,  7,  9, 11]),\n",
              "                         &#x27;min_samples_split&#x27;: array([2, 3, 4, 5, 6, 7])})</pre><b>In a Jupyter environment, please rerun this cell to show the HTML representation or trust the notebook. <br />On GitHub, the HTML representation is unable to render, please try loading this page with nbviewer.org.</b></div><div class=\"sk-container\" hidden><div class=\"sk-item sk-dashed-wrapped\"><div class=\"sk-label-container\"><div class=\"sk-label sk-toggleable\"><input class=\"sk-toggleable__control sk-hidden--visually\" id=\"sk-estimator-id-9\" type=\"checkbox\" ><label for=\"sk-estimator-id-9\" class=\"sk-toggleable__label sk-toggleable__label-arrow\">GridSearchCV</label><div class=\"sk-toggleable__content\"><pre>GridSearchCV(cv=5, estimator=DecisionTreeClassifier(),\n",
              "             param_grid={&#x27;criterion&#x27;: [&#x27;entropy&#x27;, &#x27;gini&#x27;],\n",
              "                         &#x27;max_depth&#x27;: array([ 3,  4,  5,  6,  7,  9, 11]),\n",
              "                         &#x27;min_samples_split&#x27;: array([2, 3, 4, 5, 6, 7])})</pre></div></div></div><div class=\"sk-parallel\"><div class=\"sk-parallel-item\"><div class=\"sk-item\"><div class=\"sk-label-container\"><div class=\"sk-label sk-toggleable\"><input class=\"sk-toggleable__control sk-hidden--visually\" id=\"sk-estimator-id-10\" type=\"checkbox\" ><label for=\"sk-estimator-id-10\" class=\"sk-toggleable__label sk-toggleable__label-arrow\">estimator: DecisionTreeClassifier</label><div class=\"sk-toggleable__content\"><pre>DecisionTreeClassifier()</pre></div></div></div><div class=\"sk-serial\"><div class=\"sk-item\"><div class=\"sk-estimator sk-toggleable\"><input class=\"sk-toggleable__control sk-hidden--visually\" id=\"sk-estimator-id-11\" type=\"checkbox\" ><label for=\"sk-estimator-id-11\" class=\"sk-toggleable__label sk-toggleable__label-arrow\">DecisionTreeClassifier</label><div class=\"sk-toggleable__content\"><pre>DecisionTreeClassifier()</pre></div></div></div></div></div></div></div></div></div></div>"
            ]
          },
          "metadata": {},
          "execution_count": 60
        }
      ]
    },
    {
      "cell_type": "code",
      "source": [
        "print('Mín Split: ', gridDecisionTree.best_estimator_.min_samples_split)\n",
        "print('Max Nvl: ', gridDecisionTree.best_estimator_.max_depth)\n",
        "print('Algorithm: ', gridDecisionTree.best_estimator_.criterion)\n",
        "print('Score: ', gridDecisionTree.best_score_)"
      ],
      "metadata": {
        "colab": {
          "base_uri": "https://localhost:8080/"
        },
        "id": "ayI79cEkEwKl",
        "outputId": "ba95109c-58a2-4060-94d0-b62718e7eef9"
      },
      "execution_count": 61,
      "outputs": [
        {
          "output_type": "stream",
          "name": "stdout",
          "text": [
            "Mín Split:  2\n",
            "Max Nvl:  3\n",
            "Algorithm:  entropy\n",
            "Score:  1.0\n"
          ]
        }
      ]
    },
    {
      "cell_type": "code",
      "source": [
        "def print_score(clf, X_train, y_train, X_test, y_test, train=True):\n",
        "    if train:\n",
        "        pred = clf.predict(X_train)\n",
        "        clf_report = pd.DataFrame(classification_report(y_train, pred, output_dict=True))\n",
        "        print(\"Train Result:\\n================================================\")\n",
        "        print(f\"Accuracy Score: {accuracy_score(y_train, pred) * 100:.2f}%\")\n",
        "        print(\"_______________________________________________\")\n",
        "        print(f\"CLASSIFICATION REPORT:\\n{clf_report}\")\n",
        "        print(\"_______________________________________________\")\n",
        "        print(f\"Confusion Matrix: \\n {confusion_matrix(y_train, pred)}\\n\")\n",
        "\n",
        "    elif train==False:\n",
        "        pred = clf.predict(X_test)\n",
        "        clf_report = pd.DataFrame(classification_report(y_test, pred, output_dict=True))\n",
        "        print(\"Test Result:\\n================================================\")\n",
        "        print(f\"Accuracy Score: {accuracy_score(y_test, pred) * 100:.2f}%\")\n",
        "        print(\"_______________________________________________\")\n",
        "        print(f\"CLASSIFICATION REPORT:\\n{clf_report}\")\n",
        "        print(\"_______________________________________________\")\n",
        "        print(f\"Confusion Matrix: \\n {confusion_matrix(y_test, pred)}\\n\")"
      ],
      "metadata": {
        "id": "8F892RF6E19E"
      },
      "execution_count": 62,
      "outputs": []
    },
    {
      "cell_type": "code",
      "source": [
        "tree_clf = DecisionTreeClassifier(random_state=0)\n",
        "tree_clf.fit(X_train, y_train)\n",
        "\n",
        "print_score(tree_clf, X_train, y_train, X_test, y_test, train=True)\n",
        "print_score(tree_clf, X_train, y_train, X_test, y_test, train=False)"
      ],
      "metadata": {
        "colab": {
          "base_uri": "https://localhost:8080/",
          "height": 595
        },
        "id": "9aP8iGFyE9b8",
        "outputId": "9d56138c-edf8-4bc3-c958-0c0376fe9fc1"
      },
      "execution_count": 63,
      "outputs": [
        {
          "output_type": "execute_result",
          "data": {
            "text/plain": [
              "DecisionTreeClassifier(random_state=0)"
            ],
            "text/html": [
              "<style>#sk-container-id-6 {color: black;background-color: white;}#sk-container-id-6 pre{padding: 0;}#sk-container-id-6 div.sk-toggleable {background-color: white;}#sk-container-id-6 label.sk-toggleable__label {cursor: pointer;display: block;width: 100%;margin-bottom: 0;padding: 0.3em;box-sizing: border-box;text-align: center;}#sk-container-id-6 label.sk-toggleable__label-arrow:before {content: \"▸\";float: left;margin-right: 0.25em;color: #696969;}#sk-container-id-6 label.sk-toggleable__label-arrow:hover:before {color: black;}#sk-container-id-6 div.sk-estimator:hover label.sk-toggleable__label-arrow:before {color: black;}#sk-container-id-6 div.sk-toggleable__content {max-height: 0;max-width: 0;overflow: hidden;text-align: left;background-color: #f0f8ff;}#sk-container-id-6 div.sk-toggleable__content pre {margin: 0.2em;color: black;border-radius: 0.25em;background-color: #f0f8ff;}#sk-container-id-6 input.sk-toggleable__control:checked~div.sk-toggleable__content {max-height: 200px;max-width: 100%;overflow: auto;}#sk-container-id-6 input.sk-toggleable__control:checked~label.sk-toggleable__label-arrow:before {content: \"▾\";}#sk-container-id-6 div.sk-estimator input.sk-toggleable__control:checked~label.sk-toggleable__label {background-color: #d4ebff;}#sk-container-id-6 div.sk-label input.sk-toggleable__control:checked~label.sk-toggleable__label {background-color: #d4ebff;}#sk-container-id-6 input.sk-hidden--visually {border: 0;clip: rect(1px 1px 1px 1px);clip: rect(1px, 1px, 1px, 1px);height: 1px;margin: -1px;overflow: hidden;padding: 0;position: absolute;width: 1px;}#sk-container-id-6 div.sk-estimator {font-family: monospace;background-color: #f0f8ff;border: 1px dotted black;border-radius: 0.25em;box-sizing: border-box;margin-bottom: 0.5em;}#sk-container-id-6 div.sk-estimator:hover {background-color: #d4ebff;}#sk-container-id-6 div.sk-parallel-item::after {content: \"\";width: 100%;border-bottom: 1px solid gray;flex-grow: 1;}#sk-container-id-6 div.sk-label:hover label.sk-toggleable__label {background-color: #d4ebff;}#sk-container-id-6 div.sk-serial::before {content: \"\";position: absolute;border-left: 1px solid gray;box-sizing: border-box;top: 0;bottom: 0;left: 50%;z-index: 0;}#sk-container-id-6 div.sk-serial {display: flex;flex-direction: column;align-items: center;background-color: white;padding-right: 0.2em;padding-left: 0.2em;position: relative;}#sk-container-id-6 div.sk-item {position: relative;z-index: 1;}#sk-container-id-6 div.sk-parallel {display: flex;align-items: stretch;justify-content: center;background-color: white;position: relative;}#sk-container-id-6 div.sk-item::before, #sk-container-id-6 div.sk-parallel-item::before {content: \"\";position: absolute;border-left: 1px solid gray;box-sizing: border-box;top: 0;bottom: 0;left: 50%;z-index: -1;}#sk-container-id-6 div.sk-parallel-item {display: flex;flex-direction: column;z-index: 1;position: relative;background-color: white;}#sk-container-id-6 div.sk-parallel-item:first-child::after {align-self: flex-end;width: 50%;}#sk-container-id-6 div.sk-parallel-item:last-child::after {align-self: flex-start;width: 50%;}#sk-container-id-6 div.sk-parallel-item:only-child::after {width: 0;}#sk-container-id-6 div.sk-dashed-wrapped {border: 1px dashed gray;margin: 0 0.4em 0.5em 0.4em;box-sizing: border-box;padding-bottom: 0.4em;background-color: white;}#sk-container-id-6 div.sk-label label {font-family: monospace;font-weight: bold;display: inline-block;line-height: 1.2em;}#sk-container-id-6 div.sk-label-container {text-align: center;}#sk-container-id-6 div.sk-container {/* jupyter's `normalize.less` sets `[hidden] { display: none; }` but bootstrap.min.css set `[hidden] { display: none !important; }` so we also need the `!important` here to be able to override the default hidden behavior on the sphinx rendered scikit-learn.org. See: https://github.com/scikit-learn/scikit-learn/issues/21755 */display: inline-block !important;position: relative;}#sk-container-id-6 div.sk-text-repr-fallback {display: none;}</style><div id=\"sk-container-id-6\" class=\"sk-top-container\"><div class=\"sk-text-repr-fallback\"><pre>DecisionTreeClassifier(random_state=0)</pre><b>In a Jupyter environment, please rerun this cell to show the HTML representation or trust the notebook. <br />On GitHub, the HTML representation is unable to render, please try loading this page with nbviewer.org.</b></div><div class=\"sk-container\" hidden><div class=\"sk-item\"><div class=\"sk-estimator sk-toggleable\"><input class=\"sk-toggleable__control sk-hidden--visually\" id=\"sk-estimator-id-12\" type=\"checkbox\" checked><label for=\"sk-estimator-id-12\" class=\"sk-toggleable__label sk-toggleable__label-arrow\">DecisionTreeClassifier</label><div class=\"sk-toggleable__content\"><pre>DecisionTreeClassifier(random_state=0)</pre></div></div></div></div></div>"
            ]
          },
          "metadata": {},
          "execution_count": 63
        },
        {
          "output_type": "stream",
          "name": "stdout",
          "text": [
            "Train Result:\n",
            "================================================\n",
            "Accuracy Score: 100.00%\n",
            "_______________________________________________\n",
            "CLASSIFICATION REPORT:\n",
            "                0       1  accuracy  macro avg  weighted avg\n",
            "precision     1.0     1.0       1.0        1.0           1.0\n",
            "recall        1.0     1.0       1.0        1.0           1.0\n",
            "f1-score      1.0     1.0       1.0        1.0           1.0\n",
            "support    3468.0  2622.0       1.0     6090.0        6090.0\n",
            "_______________________________________________\n",
            "Confusion Matrix: \n",
            " [[3468    0]\n",
            " [   0 2622]]\n",
            "\n",
            "Test Result:\n",
            "================================================\n",
            "Accuracy Score: 100.00%\n",
            "_______________________________________________\n",
            "CLASSIFICATION REPORT:\n",
            "               0      1  accuracy  macro avg  weighted avg\n",
            "precision    1.0    1.0       1.0        1.0           1.0\n",
            "recall       1.0    1.0       1.0        1.0           1.0\n",
            "f1-score     1.0    1.0       1.0        1.0           1.0\n",
            "support    874.0  649.0       1.0     1523.0        1523.0\n",
            "_______________________________________________\n",
            "Confusion Matrix: \n",
            " [[874   0]\n",
            " [  0 649]]\n",
            "\n"
          ]
        }
      ]
    },
    {
      "cell_type": "code",
      "source": [
        "params = {\n",
        "    \"criterion\":(\"gini\", \"entropy\"),\n",
        "    \"splitter\":(\"best\", \"random\"),\n",
        "    \"max_depth\":(list(range(1, 20))),\n",
        "    \"min_samples_split\":[2, 3, 4],\n",
        "    \"min_samples_leaf\":list(range(1, 20)),\n",
        "}\n",
        "\n",
        "\n",
        "tree_clf = DecisionTreeClassifier(random_state=0)\n",
        "tree_cv = GridSearchCV(tree_clf, params, scoring=\"accuracy\", n_jobs=-1, verbose=1, cv=3)\n",
        "tree_cv.fit(X_train, y_train)\n",
        "best_params = tree_cv.best_params_\n",
        "print(f\"Best paramters: {best_params})\")\n",
        "\n",
        "tree_clf = DecisionTreeClassifier(**best_params)\n",
        "tree_clf.fit(X_train, y_train)\n",
        "print_score(tree_clf, X_train, y_train, X_test, y_test, train=True)\n",
        "print_score(tree_clf, X_train, y_train, X_test, y_test, train=False)"
      ],
      "metadata": {
        "colab": {
          "base_uri": "https://localhost:8080/",
          "height": 939
        },
        "id": "EjUbZuXkFCa8",
        "outputId": "be36596b-4913-49ef-de82-706fb9157b28"
      },
      "execution_count": 64,
      "outputs": [
        {
          "output_type": "stream",
          "name": "stdout",
          "text": [
            "Fitting 3 folds for each of 4332 candidates, totalling 12996 fits\n"
          ]
        },
        {
          "output_type": "execute_result",
          "data": {
            "text/plain": [
              "GridSearchCV(cv=3, estimator=DecisionTreeClassifier(random_state=0), n_jobs=-1,\n",
              "             param_grid={'criterion': ('gini', 'entropy'),\n",
              "                         'max_depth': [1, 2, 3, 4, 5, 6, 7, 8, 9, 10, 11, 12,\n",
              "                                       13, 14, 15, 16, 17, 18, 19],\n",
              "                         'min_samples_leaf': [1, 2, 3, 4, 5, 6, 7, 8, 9, 10, 11,\n",
              "                                              12, 13, 14, 15, 16, 17, 18, 19],\n",
              "                         'min_samples_split': [2, 3, 4],\n",
              "                         'splitter': ('best', 'random')},\n",
              "             scoring='accuracy', verbose=1)"
            ],
            "text/html": [
              "<style>#sk-container-id-7 {color: black;background-color: white;}#sk-container-id-7 pre{padding: 0;}#sk-container-id-7 div.sk-toggleable {background-color: white;}#sk-container-id-7 label.sk-toggleable__label {cursor: pointer;display: block;width: 100%;margin-bottom: 0;padding: 0.3em;box-sizing: border-box;text-align: center;}#sk-container-id-7 label.sk-toggleable__label-arrow:before {content: \"▸\";float: left;margin-right: 0.25em;color: #696969;}#sk-container-id-7 label.sk-toggleable__label-arrow:hover:before {color: black;}#sk-container-id-7 div.sk-estimator:hover label.sk-toggleable__label-arrow:before {color: black;}#sk-container-id-7 div.sk-toggleable__content {max-height: 0;max-width: 0;overflow: hidden;text-align: left;background-color: #f0f8ff;}#sk-container-id-7 div.sk-toggleable__content pre {margin: 0.2em;color: black;border-radius: 0.25em;background-color: #f0f8ff;}#sk-container-id-7 input.sk-toggleable__control:checked~div.sk-toggleable__content {max-height: 200px;max-width: 100%;overflow: auto;}#sk-container-id-7 input.sk-toggleable__control:checked~label.sk-toggleable__label-arrow:before {content: \"▾\";}#sk-container-id-7 div.sk-estimator input.sk-toggleable__control:checked~label.sk-toggleable__label {background-color: #d4ebff;}#sk-container-id-7 div.sk-label input.sk-toggleable__control:checked~label.sk-toggleable__label {background-color: #d4ebff;}#sk-container-id-7 input.sk-hidden--visually {border: 0;clip: rect(1px 1px 1px 1px);clip: rect(1px, 1px, 1px, 1px);height: 1px;margin: -1px;overflow: hidden;padding: 0;position: absolute;width: 1px;}#sk-container-id-7 div.sk-estimator {font-family: monospace;background-color: #f0f8ff;border: 1px dotted black;border-radius: 0.25em;box-sizing: border-box;margin-bottom: 0.5em;}#sk-container-id-7 div.sk-estimator:hover {background-color: #d4ebff;}#sk-container-id-7 div.sk-parallel-item::after {content: \"\";width: 100%;border-bottom: 1px solid gray;flex-grow: 1;}#sk-container-id-7 div.sk-label:hover label.sk-toggleable__label {background-color: #d4ebff;}#sk-container-id-7 div.sk-serial::before {content: \"\";position: absolute;border-left: 1px solid gray;box-sizing: border-box;top: 0;bottom: 0;left: 50%;z-index: 0;}#sk-container-id-7 div.sk-serial {display: flex;flex-direction: column;align-items: center;background-color: white;padding-right: 0.2em;padding-left: 0.2em;position: relative;}#sk-container-id-7 div.sk-item {position: relative;z-index: 1;}#sk-container-id-7 div.sk-parallel {display: flex;align-items: stretch;justify-content: center;background-color: white;position: relative;}#sk-container-id-7 div.sk-item::before, #sk-container-id-7 div.sk-parallel-item::before {content: \"\";position: absolute;border-left: 1px solid gray;box-sizing: border-box;top: 0;bottom: 0;left: 50%;z-index: -1;}#sk-container-id-7 div.sk-parallel-item {display: flex;flex-direction: column;z-index: 1;position: relative;background-color: white;}#sk-container-id-7 div.sk-parallel-item:first-child::after {align-self: flex-end;width: 50%;}#sk-container-id-7 div.sk-parallel-item:last-child::after {align-self: flex-start;width: 50%;}#sk-container-id-7 div.sk-parallel-item:only-child::after {width: 0;}#sk-container-id-7 div.sk-dashed-wrapped {border: 1px dashed gray;margin: 0 0.4em 0.5em 0.4em;box-sizing: border-box;padding-bottom: 0.4em;background-color: white;}#sk-container-id-7 div.sk-label label {font-family: monospace;font-weight: bold;display: inline-block;line-height: 1.2em;}#sk-container-id-7 div.sk-label-container {text-align: center;}#sk-container-id-7 div.sk-container {/* jupyter's `normalize.less` sets `[hidden] { display: none; }` but bootstrap.min.css set `[hidden] { display: none !important; }` so we also need the `!important` here to be able to override the default hidden behavior on the sphinx rendered scikit-learn.org. See: https://github.com/scikit-learn/scikit-learn/issues/21755 */display: inline-block !important;position: relative;}#sk-container-id-7 div.sk-text-repr-fallback {display: none;}</style><div id=\"sk-container-id-7\" class=\"sk-top-container\"><div class=\"sk-text-repr-fallback\"><pre>GridSearchCV(cv=3, estimator=DecisionTreeClassifier(random_state=0), n_jobs=-1,\n",
              "             param_grid={&#x27;criterion&#x27;: (&#x27;gini&#x27;, &#x27;entropy&#x27;),\n",
              "                         &#x27;max_depth&#x27;: [1, 2, 3, 4, 5, 6, 7, 8, 9, 10, 11, 12,\n",
              "                                       13, 14, 15, 16, 17, 18, 19],\n",
              "                         &#x27;min_samples_leaf&#x27;: [1, 2, 3, 4, 5, 6, 7, 8, 9, 10, 11,\n",
              "                                              12, 13, 14, 15, 16, 17, 18, 19],\n",
              "                         &#x27;min_samples_split&#x27;: [2, 3, 4],\n",
              "                         &#x27;splitter&#x27;: (&#x27;best&#x27;, &#x27;random&#x27;)},\n",
              "             scoring=&#x27;accuracy&#x27;, verbose=1)</pre><b>In a Jupyter environment, please rerun this cell to show the HTML representation or trust the notebook. <br />On GitHub, the HTML representation is unable to render, please try loading this page with nbviewer.org.</b></div><div class=\"sk-container\" hidden><div class=\"sk-item sk-dashed-wrapped\"><div class=\"sk-label-container\"><div class=\"sk-label sk-toggleable\"><input class=\"sk-toggleable__control sk-hidden--visually\" id=\"sk-estimator-id-13\" type=\"checkbox\" ><label for=\"sk-estimator-id-13\" class=\"sk-toggleable__label sk-toggleable__label-arrow\">GridSearchCV</label><div class=\"sk-toggleable__content\"><pre>GridSearchCV(cv=3, estimator=DecisionTreeClassifier(random_state=0), n_jobs=-1,\n",
              "             param_grid={&#x27;criterion&#x27;: (&#x27;gini&#x27;, &#x27;entropy&#x27;),\n",
              "                         &#x27;max_depth&#x27;: [1, 2, 3, 4, 5, 6, 7, 8, 9, 10, 11, 12,\n",
              "                                       13, 14, 15, 16, 17, 18, 19],\n",
              "                         &#x27;min_samples_leaf&#x27;: [1, 2, 3, 4, 5, 6, 7, 8, 9, 10, 11,\n",
              "                                              12, 13, 14, 15, 16, 17, 18, 19],\n",
              "                         &#x27;min_samples_split&#x27;: [2, 3, 4],\n",
              "                         &#x27;splitter&#x27;: (&#x27;best&#x27;, &#x27;random&#x27;)},\n",
              "             scoring=&#x27;accuracy&#x27;, verbose=1)</pre></div></div></div><div class=\"sk-parallel\"><div class=\"sk-parallel-item\"><div class=\"sk-item\"><div class=\"sk-label-container\"><div class=\"sk-label sk-toggleable\"><input class=\"sk-toggleable__control sk-hidden--visually\" id=\"sk-estimator-id-14\" type=\"checkbox\" ><label for=\"sk-estimator-id-14\" class=\"sk-toggleable__label sk-toggleable__label-arrow\">estimator: DecisionTreeClassifier</label><div class=\"sk-toggleable__content\"><pre>DecisionTreeClassifier(random_state=0)</pre></div></div></div><div class=\"sk-serial\"><div class=\"sk-item\"><div class=\"sk-estimator sk-toggleable\"><input class=\"sk-toggleable__control sk-hidden--visually\" id=\"sk-estimator-id-15\" type=\"checkbox\" ><label for=\"sk-estimator-id-15\" class=\"sk-toggleable__label sk-toggleable__label-arrow\">DecisionTreeClassifier</label><div class=\"sk-toggleable__content\"><pre>DecisionTreeClassifier(random_state=0)</pre></div></div></div></div></div></div></div></div></div></div>"
            ]
          },
          "metadata": {},
          "execution_count": 64
        },
        {
          "output_type": "stream",
          "name": "stdout",
          "text": [
            "Best paramters: {'criterion': 'gini', 'max_depth': 1, 'min_samples_leaf': 1, 'min_samples_split': 2, 'splitter': 'best'})\n"
          ]
        },
        {
          "output_type": "execute_result",
          "data": {
            "text/plain": [
              "DecisionTreeClassifier(max_depth=1)"
            ],
            "text/html": [
              "<style>#sk-container-id-8 {color: black;background-color: white;}#sk-container-id-8 pre{padding: 0;}#sk-container-id-8 div.sk-toggleable {background-color: white;}#sk-container-id-8 label.sk-toggleable__label {cursor: pointer;display: block;width: 100%;margin-bottom: 0;padding: 0.3em;box-sizing: border-box;text-align: center;}#sk-container-id-8 label.sk-toggleable__label-arrow:before {content: \"▸\";float: left;margin-right: 0.25em;color: #696969;}#sk-container-id-8 label.sk-toggleable__label-arrow:hover:before {color: black;}#sk-container-id-8 div.sk-estimator:hover label.sk-toggleable__label-arrow:before {color: black;}#sk-container-id-8 div.sk-toggleable__content {max-height: 0;max-width: 0;overflow: hidden;text-align: left;background-color: #f0f8ff;}#sk-container-id-8 div.sk-toggleable__content pre {margin: 0.2em;color: black;border-radius: 0.25em;background-color: #f0f8ff;}#sk-container-id-8 input.sk-toggleable__control:checked~div.sk-toggleable__content {max-height: 200px;max-width: 100%;overflow: auto;}#sk-container-id-8 input.sk-toggleable__control:checked~label.sk-toggleable__label-arrow:before {content: \"▾\";}#sk-container-id-8 div.sk-estimator input.sk-toggleable__control:checked~label.sk-toggleable__label {background-color: #d4ebff;}#sk-container-id-8 div.sk-label input.sk-toggleable__control:checked~label.sk-toggleable__label {background-color: #d4ebff;}#sk-container-id-8 input.sk-hidden--visually {border: 0;clip: rect(1px 1px 1px 1px);clip: rect(1px, 1px, 1px, 1px);height: 1px;margin: -1px;overflow: hidden;padding: 0;position: absolute;width: 1px;}#sk-container-id-8 div.sk-estimator {font-family: monospace;background-color: #f0f8ff;border: 1px dotted black;border-radius: 0.25em;box-sizing: border-box;margin-bottom: 0.5em;}#sk-container-id-8 div.sk-estimator:hover {background-color: #d4ebff;}#sk-container-id-8 div.sk-parallel-item::after {content: \"\";width: 100%;border-bottom: 1px solid gray;flex-grow: 1;}#sk-container-id-8 div.sk-label:hover label.sk-toggleable__label {background-color: #d4ebff;}#sk-container-id-8 div.sk-serial::before {content: \"\";position: absolute;border-left: 1px solid gray;box-sizing: border-box;top: 0;bottom: 0;left: 50%;z-index: 0;}#sk-container-id-8 div.sk-serial {display: flex;flex-direction: column;align-items: center;background-color: white;padding-right: 0.2em;padding-left: 0.2em;position: relative;}#sk-container-id-8 div.sk-item {position: relative;z-index: 1;}#sk-container-id-8 div.sk-parallel {display: flex;align-items: stretch;justify-content: center;background-color: white;position: relative;}#sk-container-id-8 div.sk-item::before, #sk-container-id-8 div.sk-parallel-item::before {content: \"\";position: absolute;border-left: 1px solid gray;box-sizing: border-box;top: 0;bottom: 0;left: 50%;z-index: -1;}#sk-container-id-8 div.sk-parallel-item {display: flex;flex-direction: column;z-index: 1;position: relative;background-color: white;}#sk-container-id-8 div.sk-parallel-item:first-child::after {align-self: flex-end;width: 50%;}#sk-container-id-8 div.sk-parallel-item:last-child::after {align-self: flex-start;width: 50%;}#sk-container-id-8 div.sk-parallel-item:only-child::after {width: 0;}#sk-container-id-8 div.sk-dashed-wrapped {border: 1px dashed gray;margin: 0 0.4em 0.5em 0.4em;box-sizing: border-box;padding-bottom: 0.4em;background-color: white;}#sk-container-id-8 div.sk-label label {font-family: monospace;font-weight: bold;display: inline-block;line-height: 1.2em;}#sk-container-id-8 div.sk-label-container {text-align: center;}#sk-container-id-8 div.sk-container {/* jupyter's `normalize.less` sets `[hidden] { display: none; }` but bootstrap.min.css set `[hidden] { display: none !important; }` so we also need the `!important` here to be able to override the default hidden behavior on the sphinx rendered scikit-learn.org. See: https://github.com/scikit-learn/scikit-learn/issues/21755 */display: inline-block !important;position: relative;}#sk-container-id-8 div.sk-text-repr-fallback {display: none;}</style><div id=\"sk-container-id-8\" class=\"sk-top-container\"><div class=\"sk-text-repr-fallback\"><pre>DecisionTreeClassifier(max_depth=1)</pre><b>In a Jupyter environment, please rerun this cell to show the HTML representation or trust the notebook. <br />On GitHub, the HTML representation is unable to render, please try loading this page with nbviewer.org.</b></div><div class=\"sk-container\" hidden><div class=\"sk-item\"><div class=\"sk-estimator sk-toggleable\"><input class=\"sk-toggleable__control sk-hidden--visually\" id=\"sk-estimator-id-16\" type=\"checkbox\" checked><label for=\"sk-estimator-id-16\" class=\"sk-toggleable__label sk-toggleable__label-arrow\">DecisionTreeClassifier</label><div class=\"sk-toggleable__content\"><pre>DecisionTreeClassifier(max_depth=1)</pre></div></div></div></div></div>"
            ]
          },
          "metadata": {},
          "execution_count": 64
        },
        {
          "output_type": "stream",
          "name": "stdout",
          "text": [
            "Train Result:\n",
            "================================================\n",
            "Accuracy Score: 100.00%\n",
            "_______________________________________________\n",
            "CLASSIFICATION REPORT:\n",
            "                0       1  accuracy  macro avg  weighted avg\n",
            "precision     1.0     1.0       1.0        1.0           1.0\n",
            "recall        1.0     1.0       1.0        1.0           1.0\n",
            "f1-score      1.0     1.0       1.0        1.0           1.0\n",
            "support    3468.0  2622.0       1.0     6090.0        6090.0\n",
            "_______________________________________________\n",
            "Confusion Matrix: \n",
            " [[3468    0]\n",
            " [   0 2622]]\n",
            "\n",
            "Test Result:\n",
            "================================================\n",
            "Accuracy Score: 100.00%\n",
            "_______________________________________________\n",
            "CLASSIFICATION REPORT:\n",
            "               0      1  accuracy  macro avg  weighted avg\n",
            "precision    1.0    1.0       1.0        1.0           1.0\n",
            "recall       1.0    1.0       1.0        1.0           1.0\n",
            "f1-score     1.0    1.0       1.0        1.0           1.0\n",
            "support    874.0  649.0       1.0     1523.0        1523.0\n",
            "_______________________________________________\n",
            "Confusion Matrix: \n",
            " [[874   0]\n",
            " [  0 649]]\n",
            "\n"
          ]
        }
      ]
    },
    {
      "cell_type": "code",
      "source": [
        "decision_tree_classifier = DecisionTreeClassifier(criterion = 'gini', min_samples_split = 2, max_depth= 11, random_state=0)\n",
        "decision_tree_classifier.fit(X_train, y_train)\n",
        "predictions = decision_tree_classifier.predict(X_test)"
      ],
      "metadata": {
        "colab": {
          "base_uri": "https://localhost:8080/",
          "height": 75
        },
        "id": "-1BYDxsSFHV9",
        "outputId": "94aac8de-3fc7-407b-b8fd-c6f69e767403"
      },
      "execution_count": 65,
      "outputs": [
        {
          "output_type": "execute_result",
          "data": {
            "text/plain": [
              "DecisionTreeClassifier(max_depth=11, random_state=0)"
            ],
            "text/html": [
              "<style>#sk-container-id-9 {color: black;background-color: white;}#sk-container-id-9 pre{padding: 0;}#sk-container-id-9 div.sk-toggleable {background-color: white;}#sk-container-id-9 label.sk-toggleable__label {cursor: pointer;display: block;width: 100%;margin-bottom: 0;padding: 0.3em;box-sizing: border-box;text-align: center;}#sk-container-id-9 label.sk-toggleable__label-arrow:before {content: \"▸\";float: left;margin-right: 0.25em;color: #696969;}#sk-container-id-9 label.sk-toggleable__label-arrow:hover:before {color: black;}#sk-container-id-9 div.sk-estimator:hover label.sk-toggleable__label-arrow:before {color: black;}#sk-container-id-9 div.sk-toggleable__content {max-height: 0;max-width: 0;overflow: hidden;text-align: left;background-color: #f0f8ff;}#sk-container-id-9 div.sk-toggleable__content pre {margin: 0.2em;color: black;border-radius: 0.25em;background-color: #f0f8ff;}#sk-container-id-9 input.sk-toggleable__control:checked~div.sk-toggleable__content {max-height: 200px;max-width: 100%;overflow: auto;}#sk-container-id-9 input.sk-toggleable__control:checked~label.sk-toggleable__label-arrow:before {content: \"▾\";}#sk-container-id-9 div.sk-estimator input.sk-toggleable__control:checked~label.sk-toggleable__label {background-color: #d4ebff;}#sk-container-id-9 div.sk-label input.sk-toggleable__control:checked~label.sk-toggleable__label {background-color: #d4ebff;}#sk-container-id-9 input.sk-hidden--visually {border: 0;clip: rect(1px 1px 1px 1px);clip: rect(1px, 1px, 1px, 1px);height: 1px;margin: -1px;overflow: hidden;padding: 0;position: absolute;width: 1px;}#sk-container-id-9 div.sk-estimator {font-family: monospace;background-color: #f0f8ff;border: 1px dotted black;border-radius: 0.25em;box-sizing: border-box;margin-bottom: 0.5em;}#sk-container-id-9 div.sk-estimator:hover {background-color: #d4ebff;}#sk-container-id-9 div.sk-parallel-item::after {content: \"\";width: 100%;border-bottom: 1px solid gray;flex-grow: 1;}#sk-container-id-9 div.sk-label:hover label.sk-toggleable__label {background-color: #d4ebff;}#sk-container-id-9 div.sk-serial::before {content: \"\";position: absolute;border-left: 1px solid gray;box-sizing: border-box;top: 0;bottom: 0;left: 50%;z-index: 0;}#sk-container-id-9 div.sk-serial {display: flex;flex-direction: column;align-items: center;background-color: white;padding-right: 0.2em;padding-left: 0.2em;position: relative;}#sk-container-id-9 div.sk-item {position: relative;z-index: 1;}#sk-container-id-9 div.sk-parallel {display: flex;align-items: stretch;justify-content: center;background-color: white;position: relative;}#sk-container-id-9 div.sk-item::before, #sk-container-id-9 div.sk-parallel-item::before {content: \"\";position: absolute;border-left: 1px solid gray;box-sizing: border-box;top: 0;bottom: 0;left: 50%;z-index: -1;}#sk-container-id-9 div.sk-parallel-item {display: flex;flex-direction: column;z-index: 1;position: relative;background-color: white;}#sk-container-id-9 div.sk-parallel-item:first-child::after {align-self: flex-end;width: 50%;}#sk-container-id-9 div.sk-parallel-item:last-child::after {align-self: flex-start;width: 50%;}#sk-container-id-9 div.sk-parallel-item:only-child::after {width: 0;}#sk-container-id-9 div.sk-dashed-wrapped {border: 1px dashed gray;margin: 0 0.4em 0.5em 0.4em;box-sizing: border-box;padding-bottom: 0.4em;background-color: white;}#sk-container-id-9 div.sk-label label {font-family: monospace;font-weight: bold;display: inline-block;line-height: 1.2em;}#sk-container-id-9 div.sk-label-container {text-align: center;}#sk-container-id-9 div.sk-container {/* jupyter's `normalize.less` sets `[hidden] { display: none; }` but bootstrap.min.css set `[hidden] { display: none !important; }` so we also need the `!important` here to be able to override the default hidden behavior on the sphinx rendered scikit-learn.org. See: https://github.com/scikit-learn/scikit-learn/issues/21755 */display: inline-block !important;position: relative;}#sk-container-id-9 div.sk-text-repr-fallback {display: none;}</style><div id=\"sk-container-id-9\" class=\"sk-top-container\"><div class=\"sk-text-repr-fallback\"><pre>DecisionTreeClassifier(max_depth=11, random_state=0)</pre><b>In a Jupyter environment, please rerun this cell to show the HTML representation or trust the notebook. <br />On GitHub, the HTML representation is unable to render, please try loading this page with nbviewer.org.</b></div><div class=\"sk-container\" hidden><div class=\"sk-item\"><div class=\"sk-estimator sk-toggleable\"><input class=\"sk-toggleable__control sk-hidden--visually\" id=\"sk-estimator-id-17\" type=\"checkbox\" checked><label for=\"sk-estimator-id-17\" class=\"sk-toggleable__label sk-toggleable__label-arrow\">DecisionTreeClassifier</label><div class=\"sk-toggleable__content\"><pre>DecisionTreeClassifier(max_depth=11, random_state=0)</pre></div></div></div></div></div>"
            ]
          },
          "metadata": {},
          "execution_count": 65
        }
      ]
    },
    {
      "cell_type": "code",
      "source": [
        "cm = ConfusionMatrix(decision_tree_classifier)\n",
        "cm.fit(X_train, y_train)\n",
        "cm.score(X_test, y_test)"
      ],
      "metadata": {
        "colab": {
          "base_uri": "https://localhost:8080/",
          "height": 597
        },
        "id": "ASDmYgRyFc2T",
        "outputId": "a9cb303d-6693-4e52-dbaa-4d8ebe40325b"
      },
      "execution_count": 66,
      "outputs": [
        {
          "output_type": "execute_result",
          "data": {
            "text/plain": [
              "ConfusionMatrix(ax=<Axes: >,\n",
              "                cmap=<matplotlib.colors.ListedColormap object at 0x7fa114d92830>,\n",
              "                estimator=DecisionTreeClassifier(max_depth=11, random_state=0))"
            ],
            "text/html": [
              "<style>#sk-container-id-10 {color: black;background-color: white;}#sk-container-id-10 pre{padding: 0;}#sk-container-id-10 div.sk-toggleable {background-color: white;}#sk-container-id-10 label.sk-toggleable__label {cursor: pointer;display: block;width: 100%;margin-bottom: 0;padding: 0.3em;box-sizing: border-box;text-align: center;}#sk-container-id-10 label.sk-toggleable__label-arrow:before {content: \"▸\";float: left;margin-right: 0.25em;color: #696969;}#sk-container-id-10 label.sk-toggleable__label-arrow:hover:before {color: black;}#sk-container-id-10 div.sk-estimator:hover label.sk-toggleable__label-arrow:before {color: black;}#sk-container-id-10 div.sk-toggleable__content {max-height: 0;max-width: 0;overflow: hidden;text-align: left;background-color: #f0f8ff;}#sk-container-id-10 div.sk-toggleable__content pre {margin: 0.2em;color: black;border-radius: 0.25em;background-color: #f0f8ff;}#sk-container-id-10 input.sk-toggleable__control:checked~div.sk-toggleable__content {max-height: 200px;max-width: 100%;overflow: auto;}#sk-container-id-10 input.sk-toggleable__control:checked~label.sk-toggleable__label-arrow:before {content: \"▾\";}#sk-container-id-10 div.sk-estimator input.sk-toggleable__control:checked~label.sk-toggleable__label {background-color: #d4ebff;}#sk-container-id-10 div.sk-label input.sk-toggleable__control:checked~label.sk-toggleable__label {background-color: #d4ebff;}#sk-container-id-10 input.sk-hidden--visually {border: 0;clip: rect(1px 1px 1px 1px);clip: rect(1px, 1px, 1px, 1px);height: 1px;margin: -1px;overflow: hidden;padding: 0;position: absolute;width: 1px;}#sk-container-id-10 div.sk-estimator {font-family: monospace;background-color: #f0f8ff;border: 1px dotted black;border-radius: 0.25em;box-sizing: border-box;margin-bottom: 0.5em;}#sk-container-id-10 div.sk-estimator:hover {background-color: #d4ebff;}#sk-container-id-10 div.sk-parallel-item::after {content: \"\";width: 100%;border-bottom: 1px solid gray;flex-grow: 1;}#sk-container-id-10 div.sk-label:hover label.sk-toggleable__label {background-color: #d4ebff;}#sk-container-id-10 div.sk-serial::before {content: \"\";position: absolute;border-left: 1px solid gray;box-sizing: border-box;top: 0;bottom: 0;left: 50%;z-index: 0;}#sk-container-id-10 div.sk-serial {display: flex;flex-direction: column;align-items: center;background-color: white;padding-right: 0.2em;padding-left: 0.2em;position: relative;}#sk-container-id-10 div.sk-item {position: relative;z-index: 1;}#sk-container-id-10 div.sk-parallel {display: flex;align-items: stretch;justify-content: center;background-color: white;position: relative;}#sk-container-id-10 div.sk-item::before, #sk-container-id-10 div.sk-parallel-item::before {content: \"\";position: absolute;border-left: 1px solid gray;box-sizing: border-box;top: 0;bottom: 0;left: 50%;z-index: -1;}#sk-container-id-10 div.sk-parallel-item {display: flex;flex-direction: column;z-index: 1;position: relative;background-color: white;}#sk-container-id-10 div.sk-parallel-item:first-child::after {align-self: flex-end;width: 50%;}#sk-container-id-10 div.sk-parallel-item:last-child::after {align-self: flex-start;width: 50%;}#sk-container-id-10 div.sk-parallel-item:only-child::after {width: 0;}#sk-container-id-10 div.sk-dashed-wrapped {border: 1px dashed gray;margin: 0 0.4em 0.5em 0.4em;box-sizing: border-box;padding-bottom: 0.4em;background-color: white;}#sk-container-id-10 div.sk-label label {font-family: monospace;font-weight: bold;display: inline-block;line-height: 1.2em;}#sk-container-id-10 div.sk-label-container {text-align: center;}#sk-container-id-10 div.sk-container {/* jupyter's `normalize.less` sets `[hidden] { display: none; }` but bootstrap.min.css set `[hidden] { display: none !important; }` so we also need the `!important` here to be able to override the default hidden behavior on the sphinx rendered scikit-learn.org. See: https://github.com/scikit-learn/scikit-learn/issues/21755 */display: inline-block !important;position: relative;}#sk-container-id-10 div.sk-text-repr-fallback {display: none;}</style><div id=\"sk-container-id-10\" class=\"sk-top-container\"><div class=\"sk-text-repr-fallback\"><pre>ConfusionMatrix(ax=&lt;Axes: &gt;,\n",
              "                cmap=&lt;matplotlib.colors.ListedColormap object at 0x7fa114d92830&gt;,\n",
              "                estimator=DecisionTreeClassifier(max_depth=11, random_state=0))</pre><b>In a Jupyter environment, please rerun this cell to show the HTML representation or trust the notebook. <br />On GitHub, the HTML representation is unable to render, please try loading this page with nbviewer.org.</b></div><div class=\"sk-container\" hidden><div class=\"sk-item sk-dashed-wrapped\"><div class=\"sk-label-container\"><div class=\"sk-label sk-toggleable\"><input class=\"sk-toggleable__control sk-hidden--visually\" id=\"sk-estimator-id-18\" type=\"checkbox\" ><label for=\"sk-estimator-id-18\" class=\"sk-toggleable__label sk-toggleable__label-arrow\">ConfusionMatrix</label><div class=\"sk-toggleable__content\"><pre>ConfusionMatrix(ax=&lt;Axes: &gt;,\n",
              "                cmap=&lt;matplotlib.colors.ListedColormap object at 0x7fa114d92830&gt;,\n",
              "                estimator=DecisionTreeClassifier(max_depth=11, random_state=0))</pre></div></div></div><div class=\"sk-parallel\"><div class=\"sk-parallel-item\"><div class=\"sk-item\"><div class=\"sk-label-container\"><div class=\"sk-label sk-toggleable\"><input class=\"sk-toggleable__control sk-hidden--visually\" id=\"sk-estimator-id-19\" type=\"checkbox\" ><label for=\"sk-estimator-id-19\" class=\"sk-toggleable__label sk-toggleable__label-arrow\">estimator: DecisionTreeClassifier</label><div class=\"sk-toggleable__content\"><pre>DecisionTreeClassifier(max_depth=11, random_state=0)</pre></div></div></div><div class=\"sk-serial\"><div class=\"sk-item\"><div class=\"sk-estimator sk-toggleable\"><input class=\"sk-toggleable__control sk-hidden--visually\" id=\"sk-estimator-id-20\" type=\"checkbox\" ><label for=\"sk-estimator-id-20\" class=\"sk-toggleable__label sk-toggleable__label-arrow\">DecisionTreeClassifier</label><div class=\"sk-toggleable__content\"><pre>DecisionTreeClassifier(max_depth=11, random_state=0)</pre></div></div></div></div></div></div></div></div></div></div>"
            ]
          },
          "metadata": {},
          "execution_count": 66
        },
        {
          "output_type": "execute_result",
          "data": {
            "text/plain": [
              "1.0"
            ]
          },
          "metadata": {},
          "execution_count": 66
        },
        {
          "output_type": "display_data",
          "data": {
            "text/plain": [
              "<Figure size 800x550 with 1 Axes>"
            ],
            "image/png": "[encoded data removed]"
          },
          "metadata": {}
        }
      ]
    },
    {
      "cell_type": "code",
      "source": [
        "classification_decision_tree = (classification_report(y_test, predictions))\n",
        "print(classification_decision_tree)"
      ],
      "metadata": {
        "colab": {
          "base_uri": "https://localhost:8080/"
        },
        "id": "xmBpKt8lFf08",
        "outputId": "ff2c3c79-71b1-4d74-86c2-37e7973fbcd1"
      },
      "execution_count": 67,
      "outputs": [
        {
          "output_type": "stream",
          "name": "stdout",
          "text": [
            "              precision    recall  f1-score   support\n",
            "\n",
            "           0       1.00      1.00      1.00       874\n",
            "           1       1.00      1.00      1.00       649\n",
            "\n",
            "    accuracy                           1.00      1523\n",
            "   macro avg       1.00      1.00      1.00      1523\n",
            "weighted avg       1.00      1.00      1.00      1523\n",
            "\n"
          ]
        }
      ]
    },
    {
      "cell_type": "code",
      "source": [
        "rf_clf = RandomForestClassifier(n_estimators=100)\n",
        "rf_clf.fit(X_train, y_train)\n",
        "\n",
        "print_score(rf_clf, X_train, y_train, X_test, y_test, train=True)\n",
        "print_score(rf_clf, X_train, y_train, X_test, y_test, train=False)"
      ],
      "metadata": {
        "colab": {
          "base_uri": "https://localhost:8080/",
          "height": 595
        },
        "id": "epIBPCKmFjIN",
        "outputId": "1cabde5f-27e6-48a6-f8c5-b3997275b954"
      },
      "execution_count": 68,
      "outputs": [
        {
          "output_type": "execute_result",
          "data": {
            "text/plain": [
              "RandomForestClassifier()"
            ],
            "text/html": [
              "<style>#sk-container-id-11 {color: black;background-color: white;}#sk-container-id-11 pre{padding: 0;}#sk-container-id-11 div.sk-toggleable {background-color: white;}#sk-container-id-11 label.sk-toggleable__label {cursor: pointer;display: block;width: 100%;margin-bottom: 0;padding: 0.3em;box-sizing: border-box;text-align: center;}#sk-container-id-11 label.sk-toggleable__label-arrow:before {content: \"▸\";float: left;margin-right: 0.25em;color: #696969;}#sk-container-id-11 label.sk-toggleable__label-arrow:hover:before {color: black;}#sk-container-id-11 div.sk-estimator:hover label.sk-toggleable__label-arrow:before {color: black;}#sk-container-id-11 div.sk-toggleable__content {max-height: 0;max-width: 0;overflow: hidden;text-align: left;background-color: #f0f8ff;}#sk-container-id-11 div.sk-toggleable__content pre {margin: 0.2em;color: black;border-radius: 0.25em;background-color: #f0f8ff;}#sk-container-id-11 input.sk-toggleable__control:checked~div.sk-toggleable__content {max-height: 200px;max-width: 100%;overflow: auto;}#sk-container-id-11 input.sk-toggleable__control:checked~label.sk-toggleable__label-arrow:before {content: \"▾\";}#sk-container-id-11 div.sk-estimator input.sk-toggleable__control:checked~label.sk-toggleable__label {background-color: #d4ebff;}#sk-container-id-11 div.sk-label input.sk-toggleable__control:checked~label.sk-toggleable__label {background-color: #d4ebff;}#sk-container-id-11 input.sk-hidden--visually {border: 0;clip: rect(1px 1px 1px 1px);clip: rect(1px, 1px, 1px, 1px);height: 1px;margin: -1px;overflow: hidden;padding: 0;position: absolute;width: 1px;}#sk-container-id-11 div.sk-estimator {font-family: monospace;background-color: #f0f8ff;border: 1px dotted black;border-radius: 0.25em;box-sizing: border-box;margin-bottom: 0.5em;}#sk-container-id-11 div.sk-estimator:hover {background-color: #d4ebff;}#sk-container-id-11 div.sk-parallel-item::after {content: \"\";width: 100%;border-bottom: 1px solid gray;flex-grow: 1;}#sk-container-id-11 div.sk-label:hover label.sk-toggleable__label {background-color: #d4ebff;}#sk-container-id-11 div.sk-serial::before {content: \"\";position: absolute;border-left: 1px solid gray;box-sizing: border-box;top: 0;bottom: 0;left: 50%;z-index: 0;}#sk-container-id-11 div.sk-serial {display: flex;flex-direction: column;align-items: center;background-color: white;padding-right: 0.2em;padding-left: 0.2em;position: relative;}#sk-container-id-11 div.sk-item {position: relative;z-index: 1;}#sk-container-id-11 div.sk-parallel {display: flex;align-items: stretch;justify-content: center;background-color: white;position: relative;}#sk-container-id-11 div.sk-item::before, #sk-container-id-11 div.sk-parallel-item::before {content: \"\";position: absolute;border-left: 1px solid gray;box-sizing: border-box;top: 0;bottom: 0;left: 50%;z-index: -1;}#sk-container-id-11 div.sk-parallel-item {display: flex;flex-direction: column;z-index: 1;position: relative;background-color: white;}#sk-container-id-11 div.sk-parallel-item:first-child::after {align-self: flex-end;width: 50%;}#sk-container-id-11 div.sk-parallel-item:last-child::after {align-self: flex-start;width: 50%;}#sk-container-id-11 div.sk-parallel-item:only-child::after {width: 0;}#sk-container-id-11 div.sk-dashed-wrapped {border: 1px dashed gray;margin: 0 0.4em 0.5em 0.4em;box-sizing: border-box;padding-bottom: 0.4em;background-color: white;}#sk-container-id-11 div.sk-label label {font-family: monospace;font-weight: bold;display: inline-block;line-height: 1.2em;}#sk-container-id-11 div.sk-label-container {text-align: center;}#sk-container-id-11 div.sk-container {/* jupyter's `normalize.less` sets `[hidden] { display: none; }` but bootstrap.min.css set `[hidden] { display: none !important; }` so we also need the `!important` here to be able to override the default hidden behavior on the sphinx rendered scikit-learn.org. See: https://github.com/scikit-learn/scikit-learn/issues/21755 */display: inline-block !important;position: relative;}#sk-container-id-11 div.sk-text-repr-fallback {display: none;}</style><div id=\"sk-container-id-11\" class=\"sk-top-container\"><div class=\"sk-text-repr-fallback\"><pre>RandomForestClassifier()</pre><b>In a Jupyter environment, please rerun this cell to show the HTML representation or trust the notebook. <br />On GitHub, the HTML representation is unable to render, please try loading this page with nbviewer.org.</b></div><div class=\"sk-container\" hidden><div class=\"sk-item\"><div class=\"sk-estimator sk-toggleable\"><input class=\"sk-toggleable__control sk-hidden--visually\" id=\"sk-estimator-id-21\" type=\"checkbox\" checked><label for=\"sk-estimator-id-21\" class=\"sk-toggleable__label sk-toggleable__label-arrow\">RandomForestClassifier</label><div class=\"sk-toggleable__content\"><pre>RandomForestClassifier()</pre></div></div></div></div></div>"
            ]
          },
          "metadata": {},
          "execution_count": 68
        },
        {
          "output_type": "stream",
          "name": "stdout",
          "text": [
            "Train Result:\n",
            "================================================\n",
            "Accuracy Score: 100.00%\n",
            "_______________________________________________\n",
            "CLASSIFICATION REPORT:\n",
            "                0       1  accuracy  macro avg  weighted avg\n",
            "precision     1.0     1.0       1.0        1.0           1.0\n",
            "recall        1.0     1.0       1.0        1.0           1.0\n",
            "f1-score      1.0     1.0       1.0        1.0           1.0\n",
            "support    3468.0  2622.0       1.0     6090.0        6090.0\n",
            "_______________________________________________\n",
            "Confusion Matrix: \n",
            " [[3468    0]\n",
            " [   0 2622]]\n",
            "\n",
            "Test Result:\n",
            "================================================\n",
            "Accuracy Score: 100.00%\n",
            "_______________________________________________\n",
            "CLASSIFICATION REPORT:\n",
            "               0      1  accuracy  macro avg  weighted avg\n",
            "precision    1.0    1.0       1.0        1.0           1.0\n",
            "recall       1.0    1.0       1.0        1.0           1.0\n",
            "f1-score     1.0    1.0       1.0        1.0           1.0\n",
            "support    874.0  649.0       1.0     1523.0        1523.0\n",
            "_______________________________________________\n",
            "Confusion Matrix: \n",
            " [[874   0]\n",
            " [  0 649]]\n",
            "\n"
          ]
        }
      ]
    },
    {
      "cell_type": "code",
      "source": [
        "n_estimators = [int(x) for x in np.linspace(start=200, stop=2000, num=10)]\n",
        "max_features = ['auto', 'sqrt']\n",
        "max_depth = [int(x) for x in np.linspace(10, 110, num=11)]\n",
        "max_depth.append(None)\n",
        "min_samples_split = [2, 5, 10]\n",
        "min_samples_leaf = [1, 2, 4]\n",
        "bootstrap = [True, False]\n",
        "\n",
        "random_grid = {'n_estimators': n_estimators, 'max_features': max_features,\n",
        "               'max_depth': max_depth, 'min_samples_split': min_samples_split,\n",
        "               'min_samples_leaf': min_samples_leaf, 'bootstrap': bootstrap}\n",
        "\n",
        "rf_clf = RandomForestClassifier(random_state=0)\n",
        "\n",
        "rf_cv = RandomizedSearchCV(estimator=rf_clf, scoring='f1',param_distributions=random_grid, n_iter=100, cv=3,\n",
        "                               verbose=2, random_state=42, n_jobs=-1)\n",
        "\n",
        "rf_cv.fit(X_train, y_train)\n",
        "rf_best_params = rf_cv.best_params_\n",
        "print(f\"Best paramters: {rf_best_params})\")\n",
        "\n",
        "rf_clf = RandomForestClassifier(**rf_best_params)\n",
        "rf_clf.fit(X_train, y_train)\n",
        "\n",
        "print_score(rf_clf, X_train, y_train, X_test, y_test, train=True)\n",
        "print_score(rf_clf, X_train, y_train, X_test, y_test, train=False)"
      ],
      "metadata": {
        "colab": {
          "base_uri": "https://localhost:8080/",
          "height": 731
        },
        "id": "klTng8ynFm_Y",
        "outputId": "fd406b88-1719-4122-e204-1daab5728299"
      },
      "execution_count": 72,
      "outputs": [
        {
          "output_type": "stream",
          "name": "stdout",
          "text": [
            "Fitting 3 folds for each of 100 candidates, totalling 300 fits\n"
          ]
        },
        {
          "output_type": "execute_result",
          "data": {
            "text/plain": [
              "RandomizedSearchCV(cv=3, estimator=RandomForestClassifier(random_state=0),\n",
              "                   n_iter=100, n_jobs=-1,\n",
              "                   param_distributions={'bootstrap': [True, False],\n",
              "                                        'max_depth': [10, 20, 30, 40, 50, 60,\n",
              "                                                      70, 80, 90, 100, 110,\n",
              "                                                      None],\n",
              "                                        'max_features': ['auto', 'sqrt'],\n",
              "                                        'min_samples_leaf': [1, 2, 4],\n",
              "                                        'min_samples_split': [2, 5, 10],\n",
              "                                        'n_estimators': [200, 400, 600, 800,\n",
              "                                                         1000, 1200, 1400, 1600,\n",
              "                                                         1800, 2000]},\n",
              "                   random_state=42, scoring='f1', verbose=2)"
            ],
            "text/html": [
              "<style>#sk-container-id-12 {color: black;background-color: white;}#sk-container-id-12 pre{padding: 0;}#sk-container-id-12 div.sk-toggleable {background-color: white;}#sk-container-id-12 label.sk-toggleable__label {cursor: pointer;display: block;width: 100%;margin-bottom: 0;padding: 0.3em;box-sizing: border-box;text-align: center;}#sk-container-id-12 label.sk-toggleable__label-arrow:before {content: \"▸\";float: left;margin-right: 0.25em;color: #696969;}#sk-container-id-12 label.sk-toggleable__label-arrow:hover:before {color: black;}#sk-container-id-12 div.sk-estimator:hover label.sk-toggleable__label-arrow:before {color: black;}#sk-container-id-12 div.sk-toggleable__content {max-height: 0;max-width: 0;overflow: hidden;text-align: left;background-color: #f0f8ff;}#sk-container-id-12 div.sk-toggleable__content pre {margin: 0.2em;color: black;border-radius: 0.25em;background-color: #f0f8ff;}#sk-container-id-12 input.sk-toggleable__control:checked~div.sk-toggleable__content {max-height: 200px;max-width: 100%;overflow: auto;}#sk-container-id-12 input.sk-toggleable__control:checked~label.sk-toggleable__label-arrow:before {content: \"▾\";}#sk-container-id-12 div.sk-estimator input.sk-toggleable__control:checked~label.sk-toggleable__label {background-color: #d4ebff;}#sk-container-id-12 div.sk-label input.sk-toggleable__control:checked~label.sk-toggleable__label {background-color: #d4ebff;}#sk-container-id-12 input.sk-hidden--visually {border: 0;clip: rect(1px 1px 1px 1px);clip: rect(1px, 1px, 1px, 1px);height: 1px;margin: -1px;overflow: hidden;padding: 0;position: absolute;width: 1px;}#sk-container-id-12 div.sk-estimator {font-family: monospace;background-color: #f0f8ff;border: 1px dotted black;border-radius: 0.25em;box-sizing: border-box;margin-bottom: 0.5em;}#sk-container-id-12 div.sk-estimator:hover {background-color: #d4ebff;}#sk-container-id-12 div.sk-parallel-item::after {content: \"\";width: 100%;border-bottom: 1px solid gray;flex-grow: 1;}#sk-container-id-12 div.sk-label:hover label.sk-toggleable__label {background-color: #d4ebff;}#sk-container-id-12 div.sk-serial::before {content: \"\";position: absolute;border-left: 1px solid gray;box-sizing: border-box;top: 0;bottom: 0;left: 50%;z-index: 0;}#sk-container-id-12 div.sk-serial {display: flex;flex-direction: column;align-items: center;background-color: white;padding-right: 0.2em;padding-left: 0.2em;position: relative;}#sk-container-id-12 div.sk-item {position: relative;z-index: 1;}#sk-container-id-12 div.sk-parallel {display: flex;align-items: stretch;justify-content: center;background-color: white;position: relative;}#sk-container-id-12 div.sk-item::before, #sk-container-id-12 div.sk-parallel-item::before {content: \"\";position: absolute;border-left: 1px solid gray;box-sizing: border-box;top: 0;bottom: 0;left: 50%;z-index: -1;}#sk-container-id-12 div.sk-parallel-item {display: flex;flex-direction: column;z-index: 1;position: relative;background-color: white;}#sk-container-id-12 div.sk-parallel-item:first-child::after {align-self: flex-end;width: 50%;}#sk-container-id-12 div.sk-parallel-item:last-child::after {align-self: flex-start;width: 50%;}#sk-container-id-12 div.sk-parallel-item:only-child::after {width: 0;}#sk-container-id-12 div.sk-dashed-wrapped {border: 1px dashed gray;margin: 0 0.4em 0.5em 0.4em;box-sizing: border-box;padding-bottom: 0.4em;background-color: white;}#sk-container-id-12 div.sk-label label {font-family: monospace;font-weight: bold;display: inline-block;line-height: 1.2em;}#sk-container-id-12 div.sk-label-container {text-align: center;}#sk-container-id-12 div.sk-container {/* jupyter's `normalize.less` sets `[hidden] { display: none; }` but bootstrap.min.css set `[hidden] { display: none !important; }` so we also need the `!important` here to be able to override the default hidden behavior on the sphinx rendered scikit-learn.org. See: https://github.com/scikit-learn/scikit-learn/issues/21755 */display: inline-block !important;position: relative;}#sk-container-id-12 div.sk-text-repr-fallback {display: none;}</style><div id=\"sk-container-id-12\" class=\"sk-top-container\"><div class=\"sk-text-repr-fallback\"><pre>RandomizedSearchCV(cv=3, estimator=RandomForestClassifier(random_state=0),\n",
              "                   n_iter=100, n_jobs=-1,\n",
              "                   param_distributions={&#x27;bootstrap&#x27;: [True, False],\n",
              "                                        &#x27;max_depth&#x27;: [10, 20, 30, 40, 50, 60,\n",
              "                                                      70, 80, 90, 100, 110,\n",
              "                                                      None],\n",
              "                                        &#x27;max_features&#x27;: [&#x27;auto&#x27;, &#x27;sqrt&#x27;],\n",
              "                                        &#x27;min_samples_leaf&#x27;: [1, 2, 4],\n",
              "                                        &#x27;min_samples_split&#x27;: [2, 5, 10],\n",
              "                                        &#x27;n_estimators&#x27;: [200, 400, 600, 800,\n",
              "                                                         1000, 1200, 1400, 1600,\n",
              "                                                         1800, 2000]},\n",
              "                   random_state=42, scoring=&#x27;f1&#x27;, verbose=2)</pre><b>In a Jupyter environment, please rerun this cell to show the HTML representation or trust the notebook. <br />On GitHub, the HTML representation is unable to render, please try loading this page with nbviewer.org.</b></div><div class=\"sk-container\" hidden><div class=\"sk-item sk-dashed-wrapped\"><div class=\"sk-label-container\"><div class=\"sk-label sk-toggleable\"><input class=\"sk-toggleable__control sk-hidden--visually\" id=\"sk-estimator-id-22\" type=\"checkbox\" ><label for=\"sk-estimator-id-22\" class=\"sk-toggleable__label sk-toggleable__label-arrow\">RandomizedSearchCV</label><div class=\"sk-toggleable__content\"><pre>RandomizedSearchCV(cv=3, estimator=RandomForestClassifier(random_state=0),\n",
              "                   n_iter=100, n_jobs=-1,\n",
              "                   param_distributions={&#x27;bootstrap&#x27;: [True, False],\n",
              "                                        &#x27;max_depth&#x27;: [10, 20, 30, 40, 50, 60,\n",
              "                                                      70, 80, 90, 100, 110,\n",
              "                                                      None],\n",
              "                                        &#x27;max_features&#x27;: [&#x27;auto&#x27;, &#x27;sqrt&#x27;],\n",
              "                                        &#x27;min_samples_leaf&#x27;: [1, 2, 4],\n",
              "                                        &#x27;min_samples_split&#x27;: [2, 5, 10],\n",
              "                                        &#x27;n_estimators&#x27;: [200, 400, 600, 800,\n",
              "                                                         1000, 1200, 1400, 1600,\n",
              "                                                         1800, 2000]},\n",
              "                   random_state=42, scoring=&#x27;f1&#x27;, verbose=2)</pre></div></div></div><div class=\"sk-parallel\"><div class=\"sk-parallel-item\"><div class=\"sk-item\"><div class=\"sk-label-container\"><div class=\"sk-label sk-toggleable\"><input class=\"sk-toggleable__control sk-hidden--visually\" id=\"sk-estimator-id-23\" type=\"checkbox\" ><label for=\"sk-estimator-id-23\" class=\"sk-toggleable__label sk-toggleable__label-arrow\">estimator: RandomForestClassifier</label><div class=\"sk-toggleable__content\"><pre>RandomForestClassifier(random_state=0)</pre></div></div></div><div class=\"sk-serial\"><div class=\"sk-item\"><div class=\"sk-estimator sk-toggleable\"><input class=\"sk-toggleable__control sk-hidden--visually\" id=\"sk-estimator-id-24\" type=\"checkbox\" ><label for=\"sk-estimator-id-24\" class=\"sk-toggleable__label sk-toggleable__label-arrow\">RandomForestClassifier</label><div class=\"sk-toggleable__content\"><pre>RandomForestClassifier(random_state=0)</pre></div></div></div></div></div></div></div></div></div></div>"
            ]
          },
          "metadata": {},
          "execution_count": 72
        },
        {
          "output_type": "stream",
          "name": "stdout",
          "text": [
            "Best paramters: {'n_estimators': 400, 'min_samples_split': 5, 'min_samples_leaf': 1, 'max_features': 'sqrt', 'max_depth': 30, 'bootstrap': True})\n"
          ]
        },
        {
          "output_type": "execute_result",
          "data": {
            "text/plain": [
              "RandomForestClassifier(max_depth=30, min_samples_split=5, n_estimators=400)"
            ],
            "text/html": [
              "<style>#sk-container-id-13 {color: black;background-color: white;}#sk-container-id-13 pre{padding: 0;}#sk-container-id-13 div.sk-toggleable {background-color: white;}#sk-container-id-13 label.sk-toggleable__label {cursor: pointer;display: block;width: 100%;margin-bottom: 0;padding: 0.3em;box-sizing: border-box;text-align: center;}#sk-container-id-13 label.sk-toggleable__label-arrow:before {content: \"▸\";float: left;margin-right: 0.25em;color: #696969;}#sk-container-id-13 label.sk-toggleable__label-arrow:hover:before {color: black;}#sk-container-id-13 div.sk-estimator:hover label.sk-toggleable__label-arrow:before {color: black;}#sk-container-id-13 div.sk-toggleable__content {max-height: 0;max-width: 0;overflow: hidden;text-align: left;background-color: #f0f8ff;}#sk-container-id-13 div.sk-toggleable__content pre {margin: 0.2em;color: black;border-radius: 0.25em;background-color: #f0f8ff;}#sk-container-id-13 input.sk-toggleable__control:checked~div.sk-toggleable__content {max-height: 200px;max-width: 100%;overflow: auto;}#sk-container-id-13 input.sk-toggleable__control:checked~label.sk-toggleable__label-arrow:before {content: \"▾\";}#sk-container-id-13 div.sk-estimator input.sk-toggleable__control:checked~label.sk-toggleable__label {background-color: #d4ebff;}#sk-container-id-13 div.sk-label input.sk-toggleable__control:checked~label.sk-toggleable__label {background-color: #d4ebff;}#sk-container-id-13 input.sk-hidden--visually {border: 0;clip: rect(1px 1px 1px 1px);clip: rect(1px, 1px, 1px, 1px);height: 1px;margin: -1px;overflow: hidden;padding: 0;position: absolute;width: 1px;}#sk-container-id-13 div.sk-estimator {font-family: monospace;background-color: #f0f8ff;border: 1px dotted black;border-radius: 0.25em;box-sizing: border-box;margin-bottom: 0.5em;}#sk-container-id-13 div.sk-estimator:hover {background-color: #d4ebff;}#sk-container-id-13 div.sk-parallel-item::after {content: \"\";width: 100%;border-bottom: 1px solid gray;flex-grow: 1;}#sk-container-id-13 div.sk-label:hover label.sk-toggleable__label {background-color: #d4ebff;}#sk-container-id-13 div.sk-serial::before {content: \"\";position: absolute;border-left: 1px solid gray;box-sizing: border-box;top: 0;bottom: 0;left: 50%;z-index: 0;}#sk-container-id-13 div.sk-serial {display: flex;flex-direction: column;align-items: center;background-color: white;padding-right: 0.2em;padding-left: 0.2em;position: relative;}#sk-container-id-13 div.sk-item {position: relative;z-index: 1;}#sk-container-id-13 div.sk-parallel {display: flex;align-items: stretch;justify-content: center;background-color: white;position: relative;}#sk-container-id-13 div.sk-item::before, #sk-container-id-13 div.sk-parallel-item::before {content: \"\";position: absolute;border-left: 1px solid gray;box-sizing: border-box;top: 0;bottom: 0;left: 50%;z-index: -1;}#sk-container-id-13 div.sk-parallel-item {display: flex;flex-direction: column;z-index: 1;position: relative;background-color: white;}#sk-container-id-13 div.sk-parallel-item:first-child::after {align-self: flex-end;width: 50%;}#sk-container-id-13 div.sk-parallel-item:last-child::after {align-self: flex-start;width: 50%;}#sk-container-id-13 div.sk-parallel-item:only-child::after {width: 0;}#sk-container-id-13 div.sk-dashed-wrapped {border: 1px dashed gray;margin: 0 0.4em 0.5em 0.4em;box-sizing: border-box;padding-bottom: 0.4em;background-color: white;}#sk-container-id-13 div.sk-label label {font-family: monospace;font-weight: bold;display: inline-block;line-height: 1.2em;}#sk-container-id-13 div.sk-label-container {text-align: center;}#sk-container-id-13 div.sk-container {/* jupyter's `normalize.less` sets `[hidden] { display: none; }` but bootstrap.min.css set `[hidden] { display: none !important; }` so we also need the `!important` here to be able to override the default hidden behavior on the sphinx rendered scikit-learn.org. See: https://github.com/scikit-learn/scikit-learn/issues/21755 */display: inline-block !important;position: relative;}#sk-container-id-13 div.sk-text-repr-fallback {display: none;}</style><div id=\"sk-container-id-13\" class=\"sk-top-container\"><div class=\"sk-text-repr-fallback\"><pre>RandomForestClassifier(max_depth=30, min_samples_split=5, n_estimators=400)</pre><b>In a Jupyter environment, please rerun this cell to show the HTML representation or trust the notebook. <br />On GitHub, the HTML representation is unable to render, please try loading this page with nbviewer.org.</b></div><div class=\"sk-container\" hidden><div class=\"sk-item\"><div class=\"sk-estimator sk-toggleable\"><input class=\"sk-toggleable__control sk-hidden--visually\" id=\"sk-estimator-id-25\" type=\"checkbox\" checked><label for=\"sk-estimator-id-25\" class=\"sk-toggleable__label sk-toggleable__label-arrow\">RandomForestClassifier</label><div class=\"sk-toggleable__content\"><pre>RandomForestClassifier(max_depth=30, min_samples_split=5, n_estimators=400)</pre></div></div></div></div></div>"
            ]
          },
          "metadata": {},
          "execution_count": 72
        },
        {
          "output_type": "stream",
          "name": "stdout",
          "text": [
            "Train Result:\n",
            "================================================\n",
            "Accuracy Score: 100.00%\n",
            "_______________________________________________\n",
            "CLASSIFICATION REPORT:\n",
            "                0       1  accuracy  macro avg  weighted avg\n",
            "precision     1.0     1.0       1.0        1.0           1.0\n",
            "recall        1.0     1.0       1.0        1.0           1.0\n",
            "f1-score      1.0     1.0       1.0        1.0           1.0\n",
            "support    3468.0  2622.0       1.0     6090.0        6090.0\n",
            "_______________________________________________\n",
            "Confusion Matrix: \n",
            " [[3468    0]\n",
            " [   0 2622]]\n",
            "\n",
            "Test Result:\n",
            "================================================\n",
            "Accuracy Score: 100.00%\n",
            "_______________________________________________\n",
            "CLASSIFICATION REPORT:\n",
            "               0      1  accuracy  macro avg  weighted avg\n",
            "precision    1.0    1.0       1.0        1.0           1.0\n",
            "recall       1.0    1.0       1.0        1.0           1.0\n",
            "f1-score     1.0    1.0       1.0        1.0           1.0\n",
            "support    874.0  649.0       1.0     1523.0        1523.0\n",
            "_______________________________________________\n",
            "Confusion Matrix: \n",
            " [[874   0]\n",
            " [  0 649]]\n",
            "\n"
          ]
        }
      ]
    },
    {
      "cell_type": "code",
      "source": [
        "columns = data.drop('id', axis = 1).columns\n",
        "feature_imp = pd.Series(decision_tree_classifier.feature_importances_, index = columns).sort_values(ascending = False)\n",
        "feature_imp"
      ],
      "metadata": {
        "colab": {
          "base_uri": "https://localhost:8080/"
        },
        "id": "bJ1EXX51Frms",
        "outputId": "4264259c-72e5-49ee-a382-8cf547dc1a48"
      },
      "execution_count": 73,
      "outputs": [
        {
          "output_type": "execute_result",
          "data": {
            "text/plain": [
              "target      1.0\n",
              "keyword     0.0\n",
              "location    0.0\n",
              "text        0.0\n",
              "dtype: float64"
            ]
          },
          "metadata": {},
          "execution_count": 73
        }
      ]
    },
    {
      "cell_type": "code",
      "source": [
        "k_values = [i for i in range (3,12)]\n",
        "scores = []\n",
        "\n",
        "scaler = StandardScaler()\n",
        "X = scaler.fit_transform(X)\n",
        "\n",
        "for k in k_values:\n",
        "    knn = KNeighborsClassifier(n_neighbors=k)\n",
        "    score = cross_val_score(knn, X_train, y_train, cv=5)\n",
        "    scores.append(np.mean(score))"
      ],
      "metadata": {
        "id": "HCG_wDtbIbcN"
      },
      "execution_count": 74,
      "outputs": []
    },
    {
      "cell_type": "code",
      "source": [
        "sns.lineplot(x = k_values, y = scores, marker = 'o')\n",
        "plt.xlabel(\"K Values\")\n",
        "plt.ylabel(\"Accuracy Score\")"
      ],
      "metadata": {
        "colab": {
          "base_uri": "https://localhost:8080/",
          "height": 520
        },
        "id": "1_xmOZk5Ik1d",
        "outputId": "f34c17d9-b3b9-46c6-d959-a34dbc5c4898"
      },
      "execution_count": 79,
      "outputs": [
        {
          "output_type": "execute_result",
          "data": {
            "text/plain": [
              "<Axes: >"
            ]
          },
          "metadata": {},
          "execution_count": 79
        },
        {
          "output_type": "execute_result",
          "data": {
            "text/plain": [
              "Text(0.5, 0, 'K Values')"
            ]
          },
          "metadata": {},
          "execution_count": 79
        },
        {
          "output_type": "execute_result",
          "data": {
            "text/plain": [
              "Text(0, 0.5, 'Accuracy Score')"
            ]
          },
          "metadata": {},
          "execution_count": 79
        },
        {
          "output_type": "display_data",
          "data": {
            "text/plain": [
              "<Figure size 800x550 with 1 Axes>"
            ],
            "image/png": "[encoded data removed]"
          },
          "metadata": {}
        }
      ]
    },
    {
      "cell_type": "code",
      "source": [
        "clf1 = setup(data = data,\n",
        "             target = 'target',\n",
        "             numeric_imputation = 'mean',\n",
        "             categorical_features = ['keyword','location', 'text'],\n",
        "             ignore_features = ['id'])"
      ],
      "metadata": {
        "colab": {
          "base_uri": "https://localhost:8080/",
          "height": 757
        },
        "id": "2XqDXPtyL4LG",
        "outputId": "05f4c804-24de-4a46-ff1d-31470108ddd5"
      },
      "execution_count": 90,
      "outputs": [
        {
          "output_type": "stream",
          "name": "stdout",
          "text": [
            "Warning: No categorical columns found. Calling 'transform' will only return input data.\n"
          ]
        },
        {
          "output_type": "display_data",
          "data": {
            "text/plain": [
              "<pandas.io.formats.style.Styler at 0x7fa102f62b00>"
            ],
            "text/html": [
              "<style type=\"text/css\">\n",
              "#T_a874d_row9_col1 {\n",
              "  background-color: lightgreen;\n",
              "}\n",
              "</style>\n",
              "<table id=\"T_a874d\" class=\"dataframe\">\n",
              "  <thead>\n",
              "    <tr>\n",
              "      <th class=\"blank level0\" >&nbsp;</th>\n",
              "      <th id=\"T_a874d_level0_col0\" class=\"col_heading level0 col0\" >Description</th>\n",
              "      <th id=\"T_a874d_level0_col1\" class=\"col_heading level0 col1\" >Value</th>\n",
              "    </tr>\n",
              "  </thead>\n",
              "  <tbody>\n",
              "    <tr>\n",
              "      <th id=\"T_a874d_level0_row0\" class=\"row_heading level0 row0\" >0</th>\n",
              "      <td id=\"T_a874d_row0_col0\" class=\"data row0 col0\" >Session id</td>\n",
              "      <td id=\"T_a874d_row0_col1\" class=\"data row0 col1\" >3202</td>\n",
              "    </tr>\n",
              "    <tr>\n",
              "      <th id=\"T_a874d_level0_row1\" class=\"row_heading level0 row1\" >1</th>\n",
              "      <td id=\"T_a874d_row1_col0\" class=\"data row1 col0\" >Target</td>\n",
              "      <td id=\"T_a874d_row1_col1\" class=\"data row1 col1\" >target</td>\n",
              "    </tr>\n",
              "    <tr>\n",
              "      <th id=\"T_a874d_level0_row2\" class=\"row_heading level0 row2\" >2</th>\n",
              "      <td id=\"T_a874d_row2_col0\" class=\"data row2 col0\" >Target type</td>\n",
              "      <td id=\"T_a874d_row2_col1\" class=\"data row2 col1\" >Binary</td>\n",
              "    </tr>\n",
              "    <tr>\n",
              "      <th id=\"T_a874d_level0_row3\" class=\"row_heading level0 row3\" >3</th>\n",
              "      <td id=\"T_a874d_row3_col0\" class=\"data row3 col0\" >Original data shape</td>\n",
              "      <td id=\"T_a874d_row3_col1\" class=\"data row3 col1\" >(7613, 5)</td>\n",
              "    </tr>\n",
              "    <tr>\n",
              "      <th id=\"T_a874d_level0_row4\" class=\"row_heading level0 row4\" >4</th>\n",
              "      <td id=\"T_a874d_row4_col0\" class=\"data row4 col0\" >Transformed data shape</td>\n",
              "      <td id=\"T_a874d_row4_col1\" class=\"data row4 col1\" >(7613, 4)</td>\n",
              "    </tr>\n",
              "    <tr>\n",
              "      <th id=\"T_a874d_level0_row5\" class=\"row_heading level0 row5\" >5</th>\n",
              "      <td id=\"T_a874d_row5_col0\" class=\"data row5 col0\" >Transformed train set shape</td>\n",
              "      <td id=\"T_a874d_row5_col1\" class=\"data row5 col1\" >(5329, 4)</td>\n",
              "    </tr>\n",
              "    <tr>\n",
              "      <th id=\"T_a874d_level0_row6\" class=\"row_heading level0 row6\" >6</th>\n",
              "      <td id=\"T_a874d_row6_col0\" class=\"data row6 col0\" >Transformed test set shape</td>\n",
              "      <td id=\"T_a874d_row6_col1\" class=\"data row6 col1\" >(2284, 4)</td>\n",
              "    </tr>\n",
              "    <tr>\n",
              "      <th id=\"T_a874d_level0_row7\" class=\"row_heading level0 row7\" >7</th>\n",
              "      <td id=\"T_a874d_row7_col0\" class=\"data row7 col0\" >Ignore features</td>\n",
              "      <td id=\"T_a874d_row7_col1\" class=\"data row7 col1\" >1</td>\n",
              "    </tr>\n",
              "    <tr>\n",
              "      <th id=\"T_a874d_level0_row8\" class=\"row_heading level0 row8\" >8</th>\n",
              "      <td id=\"T_a874d_row8_col0\" class=\"data row8 col0\" >Categorical features</td>\n",
              "      <td id=\"T_a874d_row8_col1\" class=\"data row8 col1\" >3</td>\n",
              "    </tr>\n",
              "    <tr>\n",
              "      <th id=\"T_a874d_level0_row9\" class=\"row_heading level0 row9\" >9</th>\n",
              "      <td id=\"T_a874d_row9_col0\" class=\"data row9 col0\" >Preprocess</td>\n",
              "      <td id=\"T_a874d_row9_col1\" class=\"data row9 col1\" >True</td>\n",
              "    </tr>\n",
              "    <tr>\n",
              "      <th id=\"T_a874d_level0_row10\" class=\"row_heading level0 row10\" >10</th>\n",
              "      <td id=\"T_a874d_row10_col0\" class=\"data row10 col0\" >Imputation type</td>\n",
              "      <td id=\"T_a874d_row10_col1\" class=\"data row10 col1\" >simple</td>\n",
              "    </tr>\n",
              "    <tr>\n",
              "      <th id=\"T_a874d_level0_row11\" class=\"row_heading level0 row11\" >11</th>\n",
              "      <td id=\"T_a874d_row11_col0\" class=\"data row11 col0\" >Numeric imputation</td>\n",
              "      <td id=\"T_a874d_row11_col1\" class=\"data row11 col1\" >mean</td>\n",
              "    </tr>\n",
              "    <tr>\n",
              "      <th id=\"T_a874d_level0_row12\" class=\"row_heading level0 row12\" >12</th>\n",
              "      <td id=\"T_a874d_row12_col0\" class=\"data row12 col0\" >Categorical imputation</td>\n",
              "      <td id=\"T_a874d_row12_col1\" class=\"data row12 col1\" >mode</td>\n",
              "    </tr>\n",
              "    <tr>\n",
              "      <th id=\"T_a874d_level0_row13\" class=\"row_heading level0 row13\" >13</th>\n",
              "      <td id=\"T_a874d_row13_col0\" class=\"data row13 col0\" >Maximum one-hot encoding</td>\n",
              "      <td id=\"T_a874d_row13_col1\" class=\"data row13 col1\" >25</td>\n",
              "    </tr>\n",
              "    <tr>\n",
              "      <th id=\"T_a874d_level0_row14\" class=\"row_heading level0 row14\" >14</th>\n",
              "      <td id=\"T_a874d_row14_col0\" class=\"data row14 col0\" >Encoding method</td>\n",
              "      <td id=\"T_a874d_row14_col1\" class=\"data row14 col1\" >None</td>\n",
              "    </tr>\n",
              "    <tr>\n",
              "      <th id=\"T_a874d_level0_row15\" class=\"row_heading level0 row15\" >15</th>\n",
              "      <td id=\"T_a874d_row15_col0\" class=\"data row15 col0\" >Fold Generator</td>\n",
              "      <td id=\"T_a874d_row15_col1\" class=\"data row15 col1\" >StratifiedKFold</td>\n",
              "    </tr>\n",
              "    <tr>\n",
              "      <th id=\"T_a874d_level0_row16\" class=\"row_heading level0 row16\" >16</th>\n",
              "      <td id=\"T_a874d_row16_col0\" class=\"data row16 col0\" >Fold Number</td>\n",
              "      <td id=\"T_a874d_row16_col1\" class=\"data row16 col1\" >10</td>\n",
              "    </tr>\n",
              "    <tr>\n",
              "      <th id=\"T_a874d_level0_row17\" class=\"row_heading level0 row17\" >17</th>\n",
              "      <td id=\"T_a874d_row17_col0\" class=\"data row17 col0\" >CPU Jobs</td>\n",
              "      <td id=\"T_a874d_row17_col1\" class=\"data row17 col1\" >-1</td>\n",
              "    </tr>\n",
              "    <tr>\n",
              "      <th id=\"T_a874d_level0_row18\" class=\"row_heading level0 row18\" >18</th>\n",
              "      <td id=\"T_a874d_row18_col0\" class=\"data row18 col0\" >Use GPU</td>\n",
              "      <td id=\"T_a874d_row18_col1\" class=\"data row18 col1\" >False</td>\n",
              "    </tr>\n",
              "    <tr>\n",
              "      <th id=\"T_a874d_level0_row19\" class=\"row_heading level0 row19\" >19</th>\n",
              "      <td id=\"T_a874d_row19_col0\" class=\"data row19 col0\" >Log Experiment</td>\n",
              "      <td id=\"T_a874d_row19_col1\" class=\"data row19 col1\" >False</td>\n",
              "    </tr>\n",
              "    <tr>\n",
              "      <th id=\"T_a874d_level0_row20\" class=\"row_heading level0 row20\" >20</th>\n",
              "      <td id=\"T_a874d_row20_col0\" class=\"data row20 col0\" >Experiment Name</td>\n",
              "      <td id=\"T_a874d_row20_col1\" class=\"data row20 col1\" >clf-default-name</td>\n",
              "    </tr>\n",
              "    <tr>\n",
              "      <th id=\"T_a874d_level0_row21\" class=\"row_heading level0 row21\" >21</th>\n",
              "      <td id=\"T_a874d_row21_col0\" class=\"data row21 col0\" >USI</td>\n",
              "      <td id=\"T_a874d_row21_col1\" class=\"data row21 col1\" >c1aa</td>\n",
              "    </tr>\n",
              "  </tbody>\n",
              "</table>\n"
            ]
          },
          "metadata": {}
        }
      ]
    },
    {
      "cell_type": "code",
      "source": [
        "compare_models()"
      ],
      "metadata": {
        "colab": {
          "base_uri": "https://localhost:8080/",
          "height": 664,
          "referenced_widgets": [
            "3201b21e5d1f4dc1bb3d07833dfd59f8",
            "6f6afa0a41214273a8be0b800af85be3",
            "df6adddde331492cbc53630fd25afb99",
            "5afa5ff6baea4c53878604e88201356a",
            "aa3a02edc3214f0d8926000f660b6793",
            "2951af8005ea47fd913db10071dd4d32",
            "727ea5d779474d37ace06188af494d88",
            "b39b0102ad63422090ec0939add60c2c",
            "a1ccc163e2174feba5d340257992f26f",
            "5ee0fc3c21e846c58624ff80b4499478",
            "5e177e15bc444735a26668a7fb311471"
          ]
        },
        "id": "fYqPwLytKT7h",
        "outputId": "77230354-10a8-4ec3-f9fc-5881761d29e2"
      },
      "execution_count": 91,
      "outputs": [
        {
          "output_type": "display_data",
          "data": {
            "text/plain": [
              "<IPython.core.display.HTML object>"
            ],
            "text/html": []
          },
          "metadata": {}
        },
        {
          "output_type": "display_data",
          "data": {
            "text/plain": [
              "<pandas.io.formats.style.Styler at 0x7fa114d14a90>"
            ],
            "text/html": [
              "<style type=\"text/css\">\n",
              "#T_7b529 th {\n",
              "  text-align: left;\n",
              "}\n",
              "#T_7b529_row0_col0, #T_7b529_row0_col3, #T_7b529_row1_col0, #T_7b529_row1_col1, #T_7b529_row1_col2, #T_7b529_row1_col4, #T_7b529_row1_col5, #T_7b529_row1_col6, #T_7b529_row1_col7, #T_7b529_row2_col0, #T_7b529_row2_col1, #T_7b529_row2_col2, #T_7b529_row2_col3, #T_7b529_row2_col4, #T_7b529_row2_col5, #T_7b529_row2_col6, #T_7b529_row2_col7, #T_7b529_row3_col0, #T_7b529_row3_col1, #T_7b529_row3_col2, #T_7b529_row3_col3, #T_7b529_row3_col4, #T_7b529_row3_col5, #T_7b529_row3_col6, #T_7b529_row3_col7, #T_7b529_row4_col0, #T_7b529_row4_col1, #T_7b529_row4_col2, #T_7b529_row4_col3, #T_7b529_row4_col4, #T_7b529_row4_col5, #T_7b529_row4_col6, #T_7b529_row4_col7, #T_7b529_row5_col0, #T_7b529_row5_col1, #T_7b529_row5_col2, #T_7b529_row5_col3, #T_7b529_row5_col4, #T_7b529_row5_col5, #T_7b529_row5_col6, #T_7b529_row5_col7, #T_7b529_row6_col0, #T_7b529_row6_col1, #T_7b529_row6_col2, #T_7b529_row6_col3, #T_7b529_row6_col4, #T_7b529_row6_col5, #T_7b529_row6_col6, #T_7b529_row6_col7, #T_7b529_row7_col0, #T_7b529_row7_col1, #T_7b529_row7_col2, #T_7b529_row7_col3, #T_7b529_row7_col4, #T_7b529_row7_col5, #T_7b529_row7_col6, #T_7b529_row7_col7, #T_7b529_row8_col0, #T_7b529_row8_col1, #T_7b529_row8_col2, #T_7b529_row8_col3, #T_7b529_row8_col4, #T_7b529_row8_col5, #T_7b529_row8_col6, #T_7b529_row8_col7, #T_7b529_row9_col0, #T_7b529_row9_col1, #T_7b529_row9_col2, #T_7b529_row9_col3, #T_7b529_row9_col4, #T_7b529_row9_col5, #T_7b529_row9_col6, #T_7b529_row9_col7, #T_7b529_row10_col0, #T_7b529_row10_col1, #T_7b529_row10_col2, #T_7b529_row10_col3, #T_7b529_row10_col4, #T_7b529_row10_col5, #T_7b529_row10_col6, #T_7b529_row10_col7, #T_7b529_row11_col0, #T_7b529_row11_col1, #T_7b529_row11_col2, #T_7b529_row11_col3, #T_7b529_row11_col4, #T_7b529_row11_col5, #T_7b529_row11_col6, #T_7b529_row11_col7, #T_7b529_row12_col0, #T_7b529_row12_col1, #T_7b529_row12_col2, #T_7b529_row12_col3, #T_7b529_row12_col4, #T_7b529_row12_col5, #T_7b529_row12_col6, #T_7b529_row12_col7, #T_7b529_row13_col0, #T_7b529_row13_col1, #T_7b529_row13_col2, #T_7b529_row13_col3, #T_7b529_row13_col4, #T_7b529_row13_col5, #T_7b529_row13_col6, #T_7b529_row13_col7, #T_7b529_row14_col0, #T_7b529_row14_col1, #T_7b529_row14_col2, #T_7b529_row14_col3, #T_7b529_row14_col4, #T_7b529_row14_col5, #T_7b529_row14_col6, #T_7b529_row14_col7 {\n",
              "  text-align: left;\n",
              "}\n",
              "#T_7b529_row0_col1, #T_7b529_row0_col2, #T_7b529_row0_col4, #T_7b529_row0_col5, #T_7b529_row0_col6, #T_7b529_row0_col7, #T_7b529_row1_col3 {\n",
              "  text-align: left;\n",
              "  background-color: yellow;\n",
              "}\n",
              "#T_7b529_row0_col8, #T_7b529_row1_col8, #T_7b529_row2_col8, #T_7b529_row3_col8, #T_7b529_row4_col8, #T_7b529_row5_col8, #T_7b529_row6_col8, #T_7b529_row7_col8, #T_7b529_row8_col8, #T_7b529_row10_col8, #T_7b529_row11_col8, #T_7b529_row12_col8, #T_7b529_row13_col8, #T_7b529_row14_col8 {\n",
              "  text-align: left;\n",
              "  background-color: lightgrey;\n",
              "}\n",
              "#T_7b529_row9_col8 {\n",
              "  text-align: left;\n",
              "  background-color: yellow;\n",
              "  background-color: lightgrey;\n",
              "}\n",
              "</style>\n",
              "<table id=\"T_7b529\" class=\"dataframe\">\n",
              "  <thead>\n",
              "    <tr>\n",
              "      <th class=\"blank level0\" >&nbsp;</th>\n",
              "      <th id=\"T_7b529_level0_col0\" class=\"col_heading level0 col0\" >Model</th>\n",
              "      <th id=\"T_7b529_level0_col1\" class=\"col_heading level0 col1\" >Accuracy</th>\n",
              "      <th id=\"T_7b529_level0_col2\" class=\"col_heading level0 col2\" >AUC</th>\n",
              "      <th id=\"T_7b529_level0_col3\" class=\"col_heading level0 col3\" >Recall</th>\n",
              "      <th id=\"T_7b529_level0_col4\" class=\"col_heading level0 col4\" >Prec.</th>\n",
              "      <th id=\"T_7b529_level0_col5\" class=\"col_heading level0 col5\" >F1</th>\n",
              "      <th id=\"T_7b529_level0_col6\" class=\"col_heading level0 col6\" >Kappa</th>\n",
              "      <th id=\"T_7b529_level0_col7\" class=\"col_heading level0 col7\" >MCC</th>\n",
              "      <th id=\"T_7b529_level0_col8\" class=\"col_heading level0 col8\" >TT (Sec)</th>\n",
              "    </tr>\n",
              "  </thead>\n",
              "  <tbody>\n",
              "    <tr>\n",
              "      <th id=\"T_7b529_level0_row0\" class=\"row_heading level0 row0\" >lightgbm</th>\n",
              "      <td id=\"T_7b529_row0_col0\" class=\"data row0 col0\" >Light Gradient Boosting Machine</td>\n",
              "      <td id=\"T_7b529_row0_col1\" class=\"data row0 col1\" >0.7215</td>\n",
              "      <td id=\"T_7b529_row0_col2\" class=\"data row0 col2\" >0.7738</td>\n",
              "      <td id=\"T_7b529_row0_col3\" class=\"data row0 col3\" >0.6009</td>\n",
              "      <td id=\"T_7b529_row0_col4\" class=\"data row0 col4\" >0.7074</td>\n",
              "      <td id=\"T_7b529_row0_col5\" class=\"data row0 col5\" >0.6497</td>\n",
              "      <td id=\"T_7b529_row0_col6\" class=\"data row0 col6\" >0.4211</td>\n",
              "      <td id=\"T_7b529_row0_col7\" class=\"data row0 col7\" >0.4251</td>\n",
              "      <td id=\"T_7b529_row0_col8\" class=\"data row0 col8\" >0.3750</td>\n",
              "    </tr>\n",
              "    <tr>\n",
              "      <th id=\"T_7b529_level0_row1\" class=\"row_heading level0 row1\" >xgboost</th>\n",
              "      <td id=\"T_7b529_row1_col0\" class=\"data row1 col0\" >Extreme Gradient Boosting</td>\n",
              "      <td id=\"T_7b529_row1_col1\" class=\"data row1 col1\" >0.7138</td>\n",
              "      <td id=\"T_7b529_row1_col2\" class=\"data row1 col2\" >0.7671</td>\n",
              "      <td id=\"T_7b529_row1_col3\" class=\"data row1 col3\" >0.6135</td>\n",
              "      <td id=\"T_7b529_row1_col4\" class=\"data row1 col4\" >0.6872</td>\n",
              "      <td id=\"T_7b529_row1_col5\" class=\"data row1 col5\" >0.6479</td>\n",
              "      <td id=\"T_7b529_row1_col6\" class=\"data row1 col6\" >0.4083</td>\n",
              "      <td id=\"T_7b529_row1_col7\" class=\"data row1 col7\" >0.4104</td>\n",
              "      <td id=\"T_7b529_row1_col8\" class=\"data row1 col8\" >0.2700</td>\n",
              "    </tr>\n",
              "    <tr>\n",
              "      <th id=\"T_7b529_level0_row2\" class=\"row_heading level0 row2\" >gbc</th>\n",
              "      <td id=\"T_7b529_row2_col0\" class=\"data row2 col0\" >Gradient Boosting Classifier</td>\n",
              "      <td id=\"T_7b529_row2_col1\" class=\"data row2 col1\" >0.6832</td>\n",
              "      <td id=\"T_7b529_row2_col2\" class=\"data row2 col2\" >0.7371</td>\n",
              "      <td id=\"T_7b529_row2_col3\" class=\"data row2 col3\" >0.4729</td>\n",
              "      <td id=\"T_7b529_row2_col4\" class=\"data row2 col4\" >0.6927</td>\n",
              "      <td id=\"T_7b529_row2_col5\" class=\"data row2 col5\" >0.5619</td>\n",
              "      <td id=\"T_7b529_row2_col6\" class=\"data row2 col6\" >0.3274</td>\n",
              "      <td id=\"T_7b529_row2_col7\" class=\"data row2 col7\" >0.3422</td>\n",
              "      <td id=\"T_7b529_row2_col8\" class=\"data row2 col8\" >0.5610</td>\n",
              "    </tr>\n",
              "    <tr>\n",
              "      <th id=\"T_7b529_level0_row3\" class=\"row_heading level0 row3\" >rf</th>\n",
              "      <td id=\"T_7b529_row3_col0\" class=\"data row3 col0\" >Random Forest Classifier</td>\n",
              "      <td id=\"T_7b529_row3_col1\" class=\"data row3 col1\" >0.6594</td>\n",
              "      <td id=\"T_7b529_row3_col2\" class=\"data row3 col2\" >0.7057</td>\n",
              "      <td id=\"T_7b529_row3_col3\" class=\"data row3 col3\" >0.5441</td>\n",
              "      <td id=\"T_7b529_row3_col4\" class=\"data row3 col4\" >0.6171</td>\n",
              "      <td id=\"T_7b529_row3_col5\" class=\"data row3 col5\" >0.5780</td>\n",
              "      <td id=\"T_7b529_row3_col6\" class=\"data row3 col6\" >0.2946</td>\n",
              "      <td id=\"T_7b529_row3_col7\" class=\"data row3 col7\" >0.2963</td>\n",
              "      <td id=\"T_7b529_row3_col8\" class=\"data row3 col8\" >0.8810</td>\n",
              "    </tr>\n",
              "    <tr>\n",
              "      <th id=\"T_7b529_level0_row4\" class=\"row_heading level0 row4\" >et</th>\n",
              "      <td id=\"T_7b529_row4_col0\" class=\"data row4 col0\" >Extra Trees Classifier</td>\n",
              "      <td id=\"T_7b529_row4_col1\" class=\"data row4 col1\" >0.6416</td>\n",
              "      <td id=\"T_7b529_row4_col2\" class=\"data row4 col2\" >0.6795</td>\n",
              "      <td id=\"T_7b529_row4_col3\" class=\"data row4 col3\" >0.5074</td>\n",
              "      <td id=\"T_7b529_row4_col4\" class=\"data row4 col4\" >0.5976</td>\n",
              "      <td id=\"T_7b529_row4_col5\" class=\"data row4 col5\" >0.5485</td>\n",
              "      <td id=\"T_7b529_row4_col6\" class=\"data row4 col6\" >0.2548</td>\n",
              "      <td id=\"T_7b529_row4_col7\" class=\"data row4 col7\" >0.2573</td>\n",
              "      <td id=\"T_7b529_row4_col8\" class=\"data row4 col8\" >0.5660</td>\n",
              "    </tr>\n",
              "    <tr>\n",
              "      <th id=\"T_7b529_level0_row5\" class=\"row_heading level0 row5\" >ada</th>\n",
              "      <td id=\"T_7b529_row5_col0\" class=\"data row5 col0\" >Ada Boost Classifier</td>\n",
              "      <td id=\"T_7b529_row5_col1\" class=\"data row5 col1\" >0.6333</td>\n",
              "      <td id=\"T_7b529_row5_col2\" class=\"data row5 col2\" >0.6769</td>\n",
              "      <td id=\"T_7b529_row5_col3\" class=\"data row5 col3\" >0.4389</td>\n",
              "      <td id=\"T_7b529_row5_col4\" class=\"data row5 col4\" >0.5996</td>\n",
              "      <td id=\"T_7b529_row5_col5\" class=\"data row5 col5\" >0.5061</td>\n",
              "      <td id=\"T_7b529_row5_col6\" class=\"data row5 col6\" >0.2260</td>\n",
              "      <td id=\"T_7b529_row5_col7\" class=\"data row5 col7\" >0.2331</td>\n",
              "      <td id=\"T_7b529_row5_col8\" class=\"data row5 col8\" >0.2350</td>\n",
              "    </tr>\n",
              "    <tr>\n",
              "      <th id=\"T_7b529_level0_row6\" class=\"row_heading level0 row6\" >dt</th>\n",
              "      <td id=\"T_7b529_row6_col0\" class=\"data row6 col0\" >Decision Tree Classifier</td>\n",
              "      <td id=\"T_7b529_row6_col1\" class=\"data row6 col1\" >0.6262</td>\n",
              "      <td id=\"T_7b529_row6_col2\" class=\"data row6 col2\" >0.6195</td>\n",
              "      <td id=\"T_7b529_row6_col3\" class=\"data row6 col3\" >0.5668</td>\n",
              "      <td id=\"T_7b529_row6_col4\" class=\"data row6 col4\" >0.5648</td>\n",
              "      <td id=\"T_7b529_row6_col5\" class=\"data row6 col5\" >0.5655</td>\n",
              "      <td id=\"T_7b529_row6_col6\" class=\"data row6 col6\" >0.2376</td>\n",
              "      <td id=\"T_7b529_row6_col7\" class=\"data row6 col7\" >0.2378</td>\n",
              "      <td id=\"T_7b529_row6_col8\" class=\"data row6 col8\" >0.0560</td>\n",
              "    </tr>\n",
              "    <tr>\n",
              "      <th id=\"T_7b529_level0_row7\" class=\"row_heading level0 row7\" >knn</th>\n",
              "      <td id=\"T_7b529_row7_col0\" class=\"data row7 col0\" >K Neighbors Classifier</td>\n",
              "      <td id=\"T_7b529_row7_col1\" class=\"data row7 col1\" >0.5982</td>\n",
              "      <td id=\"T_7b529_row7_col2\" class=\"data row7 col2\" >0.6063</td>\n",
              "      <td id=\"T_7b529_row7_col3\" class=\"data row7 col3\" >0.5013</td>\n",
              "      <td id=\"T_7b529_row7_col4\" class=\"data row7 col4\" >0.5340</td>\n",
              "      <td id=\"T_7b529_row7_col5\" class=\"data row7 col5\" >0.5167</td>\n",
              "      <td id=\"T_7b529_row7_col6\" class=\"data row7 col6\" >0.1737</td>\n",
              "      <td id=\"T_7b529_row7_col7\" class=\"data row7 col7\" >0.1741</td>\n",
              "      <td id=\"T_7b529_row7_col8\" class=\"data row7 col8\" >0.0640</td>\n",
              "    </tr>\n",
              "    <tr>\n",
              "      <th id=\"T_7b529_level0_row8\" class=\"row_heading level0 row8\" >nb</th>\n",
              "      <td id=\"T_7b529_row8_col0\" class=\"data row8 col0\" >Naive Bayes</td>\n",
              "      <td id=\"T_7b529_row8_col1\" class=\"data row8 col1\" >0.5707</td>\n",
              "      <td id=\"T_7b529_row8_col2\" class=\"data row8 col2\" >0.5376</td>\n",
              "      <td id=\"T_7b529_row8_col3\" class=\"data row8 col3\" >0.0009</td>\n",
              "      <td id=\"T_7b529_row8_col4\" class=\"data row8 col4\" >0.1000</td>\n",
              "      <td id=\"T_7b529_row8_col5\" class=\"data row8 col5\" >0.0017</td>\n",
              "      <td id=\"T_7b529_row8_col6\" class=\"data row8 col6\" >0.0010</td>\n",
              "      <td id=\"T_7b529_row8_col7\" class=\"data row8 col7\" >0.0071</td>\n",
              "      <td id=\"T_7b529_row8_col8\" class=\"data row8 col8\" >0.0500</td>\n",
              "    </tr>\n",
              "    <tr>\n",
              "      <th id=\"T_7b529_level0_row9\" class=\"row_heading level0 row9\" >ridge</th>\n",
              "      <td id=\"T_7b529_row9_col0\" class=\"data row9 col0\" >Ridge Classifier</td>\n",
              "      <td id=\"T_7b529_row9_col1\" class=\"data row9 col1\" >0.5703</td>\n",
              "      <td id=\"T_7b529_row9_col2\" class=\"data row9 col2\" >0.0000</td>\n",
              "      <td id=\"T_7b529_row9_col3\" class=\"data row9 col3\" >0.0000</td>\n",
              "      <td id=\"T_7b529_row9_col4\" class=\"data row9 col4\" >0.0000</td>\n",
              "      <td id=\"T_7b529_row9_col5\" class=\"data row9 col5\" >0.0000</td>\n",
              "      <td id=\"T_7b529_row9_col6\" class=\"data row9 col6\" >0.0000</td>\n",
              "      <td id=\"T_7b529_row9_col7\" class=\"data row9 col7\" >0.0000</td>\n",
              "      <td id=\"T_7b529_row9_col8\" class=\"data row9 col8\" >0.0400</td>\n",
              "    </tr>\n",
              "    <tr>\n",
              "      <th id=\"T_7b529_level0_row10\" class=\"row_heading level0 row10\" >dummy</th>\n",
              "      <td id=\"T_7b529_row10_col0\" class=\"data row10 col0\" >Dummy Classifier</td>\n",
              "      <td id=\"T_7b529_row10_col1\" class=\"data row10 col1\" >0.5703</td>\n",
              "      <td id=\"T_7b529_row10_col2\" class=\"data row10 col2\" >0.5000</td>\n",
              "      <td id=\"T_7b529_row10_col3\" class=\"data row10 col3\" >0.0000</td>\n",
              "      <td id=\"T_7b529_row10_col4\" class=\"data row10 col4\" >0.0000</td>\n",
              "      <td id=\"T_7b529_row10_col5\" class=\"data row10 col5\" >0.0000</td>\n",
              "      <td id=\"T_7b529_row10_col6\" class=\"data row10 col6\" >0.0000</td>\n",
              "      <td id=\"T_7b529_row10_col7\" class=\"data row10 col7\" >0.0000</td>\n",
              "      <td id=\"T_7b529_row10_col8\" class=\"data row10 col8\" >0.0630</td>\n",
              "    </tr>\n",
              "    <tr>\n",
              "      <th id=\"T_7b529_level0_row11\" class=\"row_heading level0 row11\" >lda</th>\n",
              "      <td id=\"T_7b529_row11_col0\" class=\"data row11 col0\" >Linear Discriminant Analysis</td>\n",
              "      <td id=\"T_7b529_row11_col1\" class=\"data row11 col1\" >0.5701</td>\n",
              "      <td id=\"T_7b529_row11_col2\" class=\"data row11 col2\" >0.5339</td>\n",
              "      <td id=\"T_7b529_row11_col3\" class=\"data row11 col3\" >0.0000</td>\n",
              "      <td id=\"T_7b529_row11_col4\" class=\"data row11 col4\" >0.0000</td>\n",
              "      <td id=\"T_7b529_row11_col5\" class=\"data row11 col5\" >0.0000</td>\n",
              "      <td id=\"T_7b529_row11_col6\" class=\"data row11 col6\" >-0.0004</td>\n",
              "      <td id=\"T_7b529_row11_col7\" class=\"data row11 col7\" >-0.0038</td>\n",
              "      <td id=\"T_7b529_row11_col8\" class=\"data row11 col8\" >0.0790</td>\n",
              "    </tr>\n",
              "    <tr>\n",
              "      <th id=\"T_7b529_level0_row12\" class=\"row_heading level0 row12\" >lr</th>\n",
              "      <td id=\"T_7b529_row12_col0\" class=\"data row12 col0\" >Logistic Regression</td>\n",
              "      <td id=\"T_7b529_row12_col1\" class=\"data row12 col1\" >0.5669</td>\n",
              "      <td id=\"T_7b529_row12_col2\" class=\"data row12 col2\" >0.5205</td>\n",
              "      <td id=\"T_7b529_row12_col3\" class=\"data row12 col3\" >0.0266</td>\n",
              "      <td id=\"T_7b529_row12_col4\" class=\"data row12 col4\" >0.2994</td>\n",
              "      <td id=\"T_7b529_row12_col5\" class=\"data row12 col5\" >0.0486</td>\n",
              "      <td id=\"T_7b529_row12_col6\" class=\"data row12 col6\" >0.0007</td>\n",
              "      <td id=\"T_7b529_row12_col7\" class=\"data row12 col7\" >0.0007</td>\n",
              "      <td id=\"T_7b529_row12_col8\" class=\"data row12 col8\" >0.3690</td>\n",
              "    </tr>\n",
              "    <tr>\n",
              "      <th id=\"T_7b529_level0_row13\" class=\"row_heading level0 row13\" >qda</th>\n",
              "      <td id=\"T_7b529_row13_col0\" class=\"data row13 col0\" >Quadratic Discriminant Analysis</td>\n",
              "      <td id=\"T_7b529_row13_col1\" class=\"data row13 col1\" >0.5663</td>\n",
              "      <td id=\"T_7b529_row13_col2\" class=\"data row13 col2\" >0.5399</td>\n",
              "      <td id=\"T_7b529_row13_col3\" class=\"data row13 col3\" >0.0162</td>\n",
              "      <td id=\"T_7b529_row13_col4\" class=\"data row13 col4\" >0.3443</td>\n",
              "      <td id=\"T_7b529_row13_col5\" class=\"data row13 col5\" >0.0304</td>\n",
              "      <td id=\"T_7b529_row13_col6\" class=\"data row13 col6\" >-0.0033</td>\n",
              "      <td id=\"T_7b529_row13_col7\" class=\"data row13 col7\" >-0.0112</td>\n",
              "      <td id=\"T_7b529_row13_col8\" class=\"data row13 col8\" >0.0500</td>\n",
              "    </tr>\n",
              "    <tr>\n",
              "      <th id=\"T_7b529_level0_row14\" class=\"row_heading level0 row14\" >svm</th>\n",
              "      <td id=\"T_7b529_row14_col0\" class=\"data row14 col0\" >SVM - Linear Kernel</td>\n",
              "      <td id=\"T_7b529_row14_col1\" class=\"data row14 col1\" >0.5299</td>\n",
              "      <td id=\"T_7b529_row14_col2\" class=\"data row14 col2\" >0.0000</td>\n",
              "      <td id=\"T_7b529_row14_col3\" class=\"data row14 col3\" >0.2865</td>\n",
              "      <td id=\"T_7b529_row14_col4\" class=\"data row14 col4\" >0.2288</td>\n",
              "      <td id=\"T_7b529_row14_col5\" class=\"data row14 col5\" >0.1799</td>\n",
              "      <td id=\"T_7b529_row14_col6\" class=\"data row14 col6\" >-0.0004</td>\n",
              "      <td id=\"T_7b529_row14_col7\" class=\"data row14 col7\" >0.0030</td>\n",
              "      <td id=\"T_7b529_row14_col8\" class=\"data row14 col8\" >0.0610</td>\n",
              "    </tr>\n",
              "  </tbody>\n",
              "</table>\n"
            ]
          },
          "metadata": {}
        },
        {
          "output_type": "display_data",
          "data": {
            "text/plain": [
              "Processing:   0%|          | 0/65 [00:00<?, ?it/s]"
            ],
            "application/vnd.jupyter.widget-view+json": {
              "version_major": 2,
              "version_minor": 0,
              "model_id": "3201b21e5d1f4dc1bb3d07833dfd59f8"
            }
          },
          "metadata": {
            "application/vnd.jupyter.widget-view+json": {
              "colab": {
                "custom_widget_manager": {
                  "url": "https://ssl.gstatic.com/colaboratory-static/widgets/colab-cdn-widget-manager/b3e629b1971e1542/manager.min.js"
                }
              }
            }
          }
        },
        {
          "output_type": "display_data",
          "data": {
            "text/plain": [
              "<IPython.core.display.HTML object>"
            ],
            "text/html": []
          },
          "metadata": {}
        },
        {
          "output_type": "execute_result",
          "data": {
            "text/plain": [
              "LGBMClassifier(boosting_type='gbdt', class_weight=None, colsample_bytree=1.0,\n",
              "               importance_type='split', learning_rate=0.1, max_depth=-1,\n",
              "               min_child_samples=20, min_child_weight=0.001, min_split_gain=0.0,\n",
              "               n_estimators=100, n_jobs=-1, num_leaves=31, objective=None,\n",
              "               random_state=3202, reg_alpha=0.0, reg_lambda=0.0, silent='warn',\n",
              "               subsample=1.0, subsample_for_bin=200000, subsample_freq=0)"
            ],
            "text/html": [
              "<style>#sk-container-id-14 {color: black;background-color: white;}#sk-container-id-14 pre{padding: 0;}#sk-container-id-14 div.sk-toggleable {background-color: white;}#sk-container-id-14 label.sk-toggleable__label {cursor: pointer;display: block;width: 100%;margin-bottom: 0;padding: 0.3em;box-sizing: border-box;text-align: center;}#sk-container-id-14 label.sk-toggleable__label-arrow:before {content: \"▸\";float: left;margin-right: 0.25em;color: #696969;}#sk-container-id-14 label.sk-toggleable__label-arrow:hover:before {color: black;}#sk-container-id-14 div.sk-estimator:hover label.sk-toggleable__label-arrow:before {color: black;}#sk-container-id-14 div.sk-toggleable__content {max-height: 0;max-width: 0;overflow: hidden;text-align: left;background-color: #f0f8ff;}#sk-container-id-14 div.sk-toggleable__content pre {margin: 0.2em;color: black;border-radius: 0.25em;background-color: #f0f8ff;}#sk-container-id-14 input.sk-toggleable__control:checked~div.sk-toggleable__content {max-height: 200px;max-width: 100%;overflow: auto;}#sk-container-id-14 input.sk-toggleable__control:checked~label.sk-toggleable__label-arrow:before {content: \"▾\";}#sk-container-id-14 div.sk-estimator input.sk-toggleable__control:checked~label.sk-toggleable__label {background-color: #d4ebff;}#sk-container-id-14 div.sk-label input.sk-toggleable__control:checked~label.sk-toggleable__label {background-color: #d4ebff;}#sk-container-id-14 input.sk-hidden--visually {border: 0;clip: rect(1px 1px 1px 1px);clip: rect(1px, 1px, 1px, 1px);height: 1px;margin: -1px;overflow: hidden;padding: 0;position: absolute;width: 1px;}#sk-container-id-14 div.sk-estimator {font-family: monospace;background-color: #f0f8ff;border: 1px dotted black;border-radius: 0.25em;box-sizing: border-box;margin-bottom: 0.5em;}#sk-container-id-14 div.sk-estimator:hover {background-color: #d4ebff;}#sk-container-id-14 div.sk-parallel-item::after {content: \"\";width: 100%;border-bottom: 1px solid gray;flex-grow: 1;}#sk-container-id-14 div.sk-label:hover label.sk-toggleable__label {background-color: #d4ebff;}#sk-container-id-14 div.sk-serial::before {content: \"\";position: absolute;border-left: 1px solid gray;box-sizing: border-box;top: 0;bottom: 0;left: 50%;z-index: 0;}#sk-container-id-14 div.sk-serial {display: flex;flex-direction: column;align-items: center;background-color: white;padding-right: 0.2em;padding-left: 0.2em;position: relative;}#sk-container-id-14 div.sk-item {position: relative;z-index: 1;}#sk-container-id-14 div.sk-parallel {display: flex;align-items: stretch;justify-content: center;background-color: white;position: relative;}#sk-container-id-14 div.sk-item::before, #sk-container-id-14 div.sk-parallel-item::before {content: \"\";position: absolute;border-left: 1px solid gray;box-sizing: border-box;top: 0;bottom: 0;left: 50%;z-index: -1;}#sk-container-id-14 div.sk-parallel-item {display: flex;flex-direction: column;z-index: 1;position: relative;background-color: white;}#sk-container-id-14 div.sk-parallel-item:first-child::after {align-self: flex-end;width: 50%;}#sk-container-id-14 div.sk-parallel-item:last-child::after {align-self: flex-start;width: 50%;}#sk-container-id-14 div.sk-parallel-item:only-child::after {width: 0;}#sk-container-id-14 div.sk-dashed-wrapped {border: 1px dashed gray;margin: 0 0.4em 0.5em 0.4em;box-sizing: border-box;padding-bottom: 0.4em;background-color: white;}#sk-container-id-14 div.sk-label label {font-family: monospace;font-weight: bold;display: inline-block;line-height: 1.2em;}#sk-container-id-14 div.sk-label-container {text-align: center;}#sk-container-id-14 div.sk-container {/* jupyter's `normalize.less` sets `[hidden] { display: none; }` but bootstrap.min.css set `[hidden] { display: none !important; }` so we also need the `!important` here to be able to override the default hidden behavior on the sphinx rendered scikit-learn.org. See: https://github.com/scikit-learn/scikit-learn/issues/21755 */display: inline-block !important;position: relative;}#sk-container-id-14 div.sk-text-repr-fallback {display: none;}</style><div id=\"sk-container-id-14\" class=\"sk-top-container\"><div class=\"sk-text-repr-fallback\"><pre>LGBMClassifier(boosting_type=&#x27;gbdt&#x27;, class_weight=None, colsample_bytree=1.0,\n",
              "               importance_type=&#x27;split&#x27;, learning_rate=0.1, max_depth=-1,\n",
              "               min_child_samples=20, min_child_weight=0.001, min_split_gain=0.0,\n",
              "               n_estimators=100, n_jobs=-1, num_leaves=31, objective=None,\n",
              "               random_state=3202, reg_alpha=0.0, reg_lambda=0.0, silent=&#x27;warn&#x27;,\n",
              "               subsample=1.0, subsample_for_bin=200000, subsample_freq=0)</pre><b>In a Jupyter environment, please rerun this cell to show the HTML representation or trust the notebook. <br />On GitHub, the HTML representation is unable to render, please try loading this page with nbviewer.org.</b></div><div class=\"sk-container\" hidden><div class=\"sk-item\"><div class=\"sk-estimator sk-toggleable\"><input class=\"sk-toggleable__control sk-hidden--visually\" id=\"sk-estimator-id-26\" type=\"checkbox\" checked><label for=\"sk-estimator-id-26\" class=\"sk-toggleable__label sk-toggleable__label-arrow\">LGBMClassifier</label><div class=\"sk-toggleable__content\"><pre>LGBMClassifier(boosting_type=&#x27;gbdt&#x27;, class_weight=None, colsample_bytree=1.0,\n",
              "               importance_type=&#x27;split&#x27;, learning_rate=0.1, max_depth=-1,\n",
              "               min_child_samples=20, min_child_weight=0.001, min_split_gain=0.0,\n",
              "               n_estimators=100, n_jobs=-1, num_leaves=31, objective=None,\n",
              "               random_state=3202, reg_alpha=0.0, reg_lambda=0.0, silent=&#x27;warn&#x27;,\n",
              "               subsample=1.0, subsample_for_bin=200000, subsample_freq=0)</pre></div></div></div></div></div>"
            ]
          },
          "metadata": {},
          "execution_count": 91
        }
      ]
    },
    {
      "cell_type": "code",
      "source": [
        "rf1  = create_model('rf')"
      ],
      "metadata": {
        "colab": {
          "base_uri": "https://localhost:8080/",
          "height": 457,
          "referenced_widgets": [
            "245e3a5ee4554754a1c3a70dbc563f57",
            "eef808f255364e8f9206ccd5e9fb0006",
            "c7c70ed8ffb042548c641382b03d1d5f",
            "52998443958a4fda8a0f65efe7a265a6",
            "94dfd7cde1214c98bf0d514b92857bd6",
            "7243745f86e7452a8668c80d79225b32",
            "c17fc2ff4b7d46e6aa002fd2babdd85a",
            "6161225f9a0f40d5ac272f4713aee770",
            "25d82c7c87ac407880552104efbac726",
            "05b474e6fffb41aaa92c6b28b65a1403",
            "aa268fc0f6194aff8493104dd1525bd4"
          ]
        },
        "id": "Emmbd5lPK0vm",
        "outputId": "8071def8-7028-4466-e92e-502efb2f6d7c"
      },
      "execution_count": 93,
      "outputs": [
        {
          "output_type": "display_data",
          "data": {
            "text/plain": [
              "<IPython.core.display.HTML object>"
            ],
            "text/html": []
          },
          "metadata": {}
        },
        {
          "output_type": "display_data",
          "data": {
            "text/plain": [
              "<pandas.io.formats.style.Styler at 0x7fa1150fdc90>"
            ],
            "text/html": [
              "<style type=\"text/css\">\n",
              "#T_c86de_row10_col0, #T_c86de_row10_col1, #T_c86de_row10_col2, #T_c86de_row10_col3, #T_c86de_row10_col4, #T_c86de_row10_col5, #T_c86de_row10_col6 {\n",
              "  background: yellow;\n",
              "}\n",
              "</style>\n",
              "<table id=\"T_c86de\" class=\"dataframe\">\n",
              "  <thead>\n",
              "    <tr>\n",
              "      <th class=\"blank level0\" >&nbsp;</th>\n",
              "      <th id=\"T_c86de_level0_col0\" class=\"col_heading level0 col0\" >Accuracy</th>\n",
              "      <th id=\"T_c86de_level0_col1\" class=\"col_heading level0 col1\" >AUC</th>\n",
              "      <th id=\"T_c86de_level0_col2\" class=\"col_heading level0 col2\" >Recall</th>\n",
              "      <th id=\"T_c86de_level0_col3\" class=\"col_heading level0 col3\" >Prec.</th>\n",
              "      <th id=\"T_c86de_level0_col4\" class=\"col_heading level0 col4\" >F1</th>\n",
              "      <th id=\"T_c86de_level0_col5\" class=\"col_heading level0 col5\" >Kappa</th>\n",
              "      <th id=\"T_c86de_level0_col6\" class=\"col_heading level0 col6\" >MCC</th>\n",
              "    </tr>\n",
              "    <tr>\n",
              "      <th class=\"index_name level0\" >Fold</th>\n",
              "      <th class=\"blank col0\" >&nbsp;</th>\n",
              "      <th class=\"blank col1\" >&nbsp;</th>\n",
              "      <th class=\"blank col2\" >&nbsp;</th>\n",
              "      <th class=\"blank col3\" >&nbsp;</th>\n",
              "      <th class=\"blank col4\" >&nbsp;</th>\n",
              "      <th class=\"blank col5\" >&nbsp;</th>\n",
              "      <th class=\"blank col6\" >&nbsp;</th>\n",
              "    </tr>\n",
              "  </thead>\n",
              "  <tbody>\n",
              "    <tr>\n",
              "      <th id=\"T_c86de_level0_row0\" class=\"row_heading level0 row0\" >0</th>\n",
              "      <td id=\"T_c86de_row0_col0\" class=\"data row0 col0\" >0.6548</td>\n",
              "      <td id=\"T_c86de_row0_col1\" class=\"data row0 col1\" >0.7085</td>\n",
              "      <td id=\"T_c86de_row0_col2\" class=\"data row0 col2\" >0.5109</td>\n",
              "      <td id=\"T_c86de_row0_col3\" class=\"data row0 col3\" >0.6190</td>\n",
              "      <td id=\"T_c86de_row0_col4\" class=\"data row0 col4\" >0.5598</td>\n",
              "      <td id=\"T_c86de_row0_col5\" class=\"data row0 col5\" >0.2801</td>\n",
              "      <td id=\"T_c86de_row0_col6\" class=\"data row0 col6\" >0.2836</td>\n",
              "    </tr>\n",
              "    <tr>\n",
              "      <th id=\"T_c86de_level0_row1\" class=\"row_heading level0 row1\" >1</th>\n",
              "      <td id=\"T_c86de_row1_col0\" class=\"data row1 col0\" >0.6735</td>\n",
              "      <td id=\"T_c86de_row1_col1\" class=\"data row1 col1\" >0.6974</td>\n",
              "      <td id=\"T_c86de_row1_col2\" class=\"data row1 col2\" >0.5721</td>\n",
              "      <td id=\"T_c86de_row1_col3\" class=\"data row1 col3\" >0.6329</td>\n",
              "      <td id=\"T_c86de_row1_col4\" class=\"data row1 col4\" >0.6009</td>\n",
              "      <td id=\"T_c86de_row1_col5\" class=\"data row1 col5\" >0.3259</td>\n",
              "      <td id=\"T_c86de_row1_col6\" class=\"data row1 col6\" >0.3271</td>\n",
              "    </tr>\n",
              "    <tr>\n",
              "      <th id=\"T_c86de_level0_row2\" class=\"row_heading level0 row2\" >2</th>\n",
              "      <td id=\"T_c86de_row2_col0\" class=\"data row2 col0\" >0.6135</td>\n",
              "      <td id=\"T_c86de_row2_col1\" class=\"data row2 col1\" >0.6904</td>\n",
              "      <td id=\"T_c86de_row2_col2\" class=\"data row2 col2\" >0.4672</td>\n",
              "      <td id=\"T_c86de_row2_col3\" class=\"data row2 col3\" >0.5602</td>\n",
              "      <td id=\"T_c86de_row2_col4\" class=\"data row2 col4\" >0.5095</td>\n",
              "      <td id=\"T_c86de_row2_col5\" class=\"data row2 col5\" >0.1949</td>\n",
              "      <td id=\"T_c86de_row2_col6\" class=\"data row2 col6\" >0.1971</td>\n",
              "    </tr>\n",
              "    <tr>\n",
              "      <th id=\"T_c86de_level0_row3\" class=\"row_heading level0 row3\" >3</th>\n",
              "      <td id=\"T_c86de_row3_col0\" class=\"data row3 col0\" >0.6454</td>\n",
              "      <td id=\"T_c86de_row3_col1\" class=\"data row3 col1\" >0.6851</td>\n",
              "      <td id=\"T_c86de_row3_col2\" class=\"data row3 col2\" >0.5240</td>\n",
              "      <td id=\"T_c86de_row3_col3\" class=\"data row3 col3\" >0.6000</td>\n",
              "      <td id=\"T_c86de_row3_col4\" class=\"data row3 col4\" >0.5594</td>\n",
              "      <td id=\"T_c86de_row3_col5\" class=\"data row3 col5\" >0.2650</td>\n",
              "      <td id=\"T_c86de_row3_col6\" class=\"data row3 col6\" >0.2667</td>\n",
              "    </tr>\n",
              "    <tr>\n",
              "      <th id=\"T_c86de_level0_row4\" class=\"row_heading level0 row4\" >4</th>\n",
              "      <td id=\"T_c86de_row4_col0\" class=\"data row4 col0\" >0.6398</td>\n",
              "      <td id=\"T_c86de_row4_col1\" class=\"data row4 col1\" >0.7015</td>\n",
              "      <td id=\"T_c86de_row4_col2\" class=\"data row4 col2\" >0.5066</td>\n",
              "      <td id=\"T_c86de_row4_col3\" class=\"data row4 col3\" >0.5949</td>\n",
              "      <td id=\"T_c86de_row4_col4\" class=\"data row4 col4\" >0.5472</td>\n",
              "      <td id=\"T_c86de_row4_col5\" class=\"data row4 col5\" >0.2513</td>\n",
              "      <td id=\"T_c86de_row4_col6\" class=\"data row4 col6\" >0.2535</td>\n",
              "    </tr>\n",
              "    <tr>\n",
              "      <th id=\"T_c86de_level0_row5\" class=\"row_heading level0 row5\" >5</th>\n",
              "      <td id=\"T_c86de_row5_col0\" class=\"data row5 col0\" >0.6417</td>\n",
              "      <td id=\"T_c86de_row5_col1\" class=\"data row5 col1\" >0.6693</td>\n",
              "      <td id=\"T_c86de_row5_col2\" class=\"data row5 col2\" >0.5240</td>\n",
              "      <td id=\"T_c86de_row5_col3\" class=\"data row5 col3\" >0.5941</td>\n",
              "      <td id=\"T_c86de_row5_col4\" class=\"data row5 col4\" >0.5568</td>\n",
              "      <td id=\"T_c86de_row5_col5\" class=\"data row5 col5\" >0.2580</td>\n",
              "      <td id=\"T_c86de_row5_col6\" class=\"data row5 col6\" >0.2595</td>\n",
              "    </tr>\n",
              "    <tr>\n",
              "      <th id=\"T_c86de_level0_row6\" class=\"row_heading level0 row6\" >6</th>\n",
              "      <td id=\"T_c86de_row6_col0\" class=\"data row6 col0\" >0.6642</td>\n",
              "      <td id=\"T_c86de_row6_col1\" class=\"data row6 col1\" >0.7135</td>\n",
              "      <td id=\"T_c86de_row6_col2\" class=\"data row6 col2\" >0.5502</td>\n",
              "      <td id=\"T_c86de_row6_col3\" class=\"data row6 col3\" >0.6238</td>\n",
              "      <td id=\"T_c86de_row6_col4\" class=\"data row6 col4\" >0.5847</td>\n",
              "      <td id=\"T_c86de_row6_col5\" class=\"data row6 col5\" >0.3046</td>\n",
              "      <td id=\"T_c86de_row6_col6\" class=\"data row6 col6\" >0.3063</td>\n",
              "    </tr>\n",
              "    <tr>\n",
              "      <th id=\"T_c86de_level0_row7\" class=\"row_heading level0 row7\" >7</th>\n",
              "      <td id=\"T_c86de_row7_col0\" class=\"data row7 col0\" >0.6867</td>\n",
              "      <td id=\"T_c86de_row7_col1\" class=\"data row7 col1\" >0.7390</td>\n",
              "      <td id=\"T_c86de_row7_col2\" class=\"data row7 col2\" >0.6026</td>\n",
              "      <td id=\"T_c86de_row7_col3\" class=\"data row7 col3\" >0.6449</td>\n",
              "      <td id=\"T_c86de_row7_col4\" class=\"data row7 col4\" >0.6230</td>\n",
              "      <td id=\"T_c86de_row7_col5\" class=\"data row7 col5\" >0.3555</td>\n",
              "      <td id=\"T_c86de_row7_col6\" class=\"data row7 col6\" >0.3561</td>\n",
              "    </tr>\n",
              "    <tr>\n",
              "      <th id=\"T_c86de_level0_row8\" class=\"row_heading level0 row8\" >8</th>\n",
              "      <td id=\"T_c86de_row8_col0\" class=\"data row8 col0\" >0.6923</td>\n",
              "      <td id=\"T_c86de_row8_col1\" class=\"data row8 col1\" >0.7350</td>\n",
              "      <td id=\"T_c86de_row8_col2\" class=\"data row8 col2\" >0.5764</td>\n",
              "      <td id=\"T_c86de_row8_col3\" class=\"data row8 col3\" >0.6633</td>\n",
              "      <td id=\"T_c86de_row8_col4\" class=\"data row8 col4\" >0.6168</td>\n",
              "      <td id=\"T_c86de_row8_col5\" class=\"data row8 col5\" >0.3619</td>\n",
              "      <td id=\"T_c86de_row8_col6\" class=\"data row8 col6\" >0.3644</td>\n",
              "    </tr>\n",
              "    <tr>\n",
              "      <th id=\"T_c86de_level0_row9\" class=\"row_heading level0 row9\" >9</th>\n",
              "      <td id=\"T_c86de_row9_col0\" class=\"data row9 col0\" >0.6823</td>\n",
              "      <td id=\"T_c86de_row9_col1\" class=\"data row9 col1\" >0.7176</td>\n",
              "      <td id=\"T_c86de_row9_col2\" class=\"data row9 col2\" >0.6070</td>\n",
              "      <td id=\"T_c86de_row9_col3\" class=\"data row9 col3\" >0.6376</td>\n",
              "      <td id=\"T_c86de_row9_col4\" class=\"data row9 col4\" >0.6219</td>\n",
              "      <td id=\"T_c86de_row9_col5\" class=\"data row9 col5\" >0.3483</td>\n",
              "      <td id=\"T_c86de_row9_col6\" class=\"data row9 col6\" >0.3486</td>\n",
              "    </tr>\n",
              "    <tr>\n",
              "      <th id=\"T_c86de_level0_row10\" class=\"row_heading level0 row10\" >Mean</th>\n",
              "      <td id=\"T_c86de_row10_col0\" class=\"data row10 col0\" >0.6594</td>\n",
              "      <td id=\"T_c86de_row10_col1\" class=\"data row10 col1\" >0.7057</td>\n",
              "      <td id=\"T_c86de_row10_col2\" class=\"data row10 col2\" >0.5441</td>\n",
              "      <td id=\"T_c86de_row10_col3\" class=\"data row10 col3\" >0.6171</td>\n",
              "      <td id=\"T_c86de_row10_col4\" class=\"data row10 col4\" >0.5780</td>\n",
              "      <td id=\"T_c86de_row10_col5\" class=\"data row10 col5\" >0.2946</td>\n",
              "      <td id=\"T_c86de_row10_col6\" class=\"data row10 col6\" >0.2963</td>\n",
              "    </tr>\n",
              "    <tr>\n",
              "      <th id=\"T_c86de_level0_row11\" class=\"row_heading level0 row11\" >Std</th>\n",
              "      <td id=\"T_c86de_row11_col0\" class=\"data row11 col0\" >0.0237</td>\n",
              "      <td id=\"T_c86de_row11_col1\" class=\"data row11 col1\" >0.0206</td>\n",
              "      <td id=\"T_c86de_row11_col2\" class=\"data row11 col2\" >0.0430</td>\n",
              "      <td id=\"T_c86de_row11_col3\" class=\"data row11 col3\" >0.0286</td>\n",
              "      <td id=\"T_c86de_row11_col4\" class=\"data row11 col4\" >0.0358</td>\n",
              "      <td id=\"T_c86de_row11_col5\" class=\"data row11 col5\" >0.0514</td>\n",
              "      <td id=\"T_c86de_row11_col6\" class=\"data row11 col6\" >0.0510</td>\n",
              "    </tr>\n",
              "  </tbody>\n",
              "</table>\n"
            ]
          },
          "metadata": {}
        },
        {
          "output_type": "display_data",
          "data": {
            "text/plain": [
              "Processing:   0%|          | 0/4 [00:00<?, ?it/s]"
            ],
            "application/vnd.jupyter.widget-view+json": {
              "version_major": 2,
              "version_minor": 0,
              "model_id": "245e3a5ee4554754a1c3a70dbc563f57"
            }
          },
          "metadata": {
            "application/vnd.jupyter.widget-view+json": {
              "colab": {
                "custom_widget_manager": {
                  "url": "https://ssl.gstatic.com/colaboratory-static/widgets/colab-cdn-widget-manager/b3e629b1971e1542/manager.min.js"
                }
              }
            }
          }
        },
        {
          "output_type": "display_data",
          "data": {
            "text/plain": [
              "<IPython.core.display.HTML object>"
            ],
            "text/html": []
          },
          "metadata": {}
        }
      ]
    },
    {
      "cell_type": "code",
      "source": [
        "tuned_rf = tune_model(rf1)"
      ],
      "metadata": {
        "colab": {
          "base_uri": "https://localhost:8080/",
          "height": 492,
          "referenced_widgets": [
            "f598f9e2eaef40b393bb049fef786d05",
            "4e1eb104a7c34a139cbc2609d7e227a9",
            "d456c28f62c14038b5382bc5a5600b1a",
            "d21e79f25a05411db1c556894bcef934",
            "9c2e2b55dc104d5aaf411a0ae982dfdf",
            "a343d2ab50dc47cd9db5d2d2abc20753",
            "427701a2126a435e9b18cdeedd6e9b22",
            "1e8a2b4269734aea864b15885e749bd8",
            "83bc4de995b146ad8b56c8ce53790b91",
            "fe6b9fe0c488458da510f312e13c6a39",
            "6413d1c0b37d473bbcecd8f115b56671"
          ]
        },
        "id": "d9h9FEtONGk-",
        "outputId": "d055f5c2-1141-4fa0-c4d0-26f3e22770b9"
      },
      "execution_count": 94,
      "outputs": [
        {
          "output_type": "display_data",
          "data": {
            "text/plain": [
              "<IPython.core.display.HTML object>"
            ],
            "text/html": []
          },
          "metadata": {}
        },
        {
          "output_type": "display_data",
          "data": {
            "text/plain": [
              "<pandas.io.formats.style.Styler at 0x7fa117125090>"
            ],
            "text/html": [
              "<style type=\"text/css\">\n",
              "#T_352ce_row10_col0, #T_352ce_row10_col1, #T_352ce_row10_col2, #T_352ce_row10_col3, #T_352ce_row10_col4, #T_352ce_row10_col5, #T_352ce_row10_col6 {\n",
              "  background: yellow;\n",
              "}\n",
              "</style>\n",
              "<table id=\"T_352ce\" class=\"dataframe\">\n",
              "  <thead>\n",
              "    <tr>\n",
              "      <th class=\"blank level0\" >&nbsp;</th>\n",
              "      <th id=\"T_352ce_level0_col0\" class=\"col_heading level0 col0\" >Accuracy</th>\n",
              "      <th id=\"T_352ce_level0_col1\" class=\"col_heading level0 col1\" >AUC</th>\n",
              "      <th id=\"T_352ce_level0_col2\" class=\"col_heading level0 col2\" >Recall</th>\n",
              "      <th id=\"T_352ce_level0_col3\" class=\"col_heading level0 col3\" >Prec.</th>\n",
              "      <th id=\"T_352ce_level0_col4\" class=\"col_heading level0 col4\" >F1</th>\n",
              "      <th id=\"T_352ce_level0_col5\" class=\"col_heading level0 col5\" >Kappa</th>\n",
              "      <th id=\"T_352ce_level0_col6\" class=\"col_heading level0 col6\" >MCC</th>\n",
              "    </tr>\n",
              "    <tr>\n",
              "      <th class=\"index_name level0\" >Fold</th>\n",
              "      <th class=\"blank col0\" >&nbsp;</th>\n",
              "      <th class=\"blank col1\" >&nbsp;</th>\n",
              "      <th class=\"blank col2\" >&nbsp;</th>\n",
              "      <th class=\"blank col3\" >&nbsp;</th>\n",
              "      <th class=\"blank col4\" >&nbsp;</th>\n",
              "      <th class=\"blank col5\" >&nbsp;</th>\n",
              "      <th class=\"blank col6\" >&nbsp;</th>\n",
              "    </tr>\n",
              "  </thead>\n",
              "  <tbody>\n",
              "    <tr>\n",
              "      <th id=\"T_352ce_level0_row0\" class=\"row_heading level0 row0\" >0</th>\n",
              "      <td id=\"T_352ce_row0_col0\" class=\"data row0 col0\" >0.6529</td>\n",
              "      <td id=\"T_352ce_row0_col1\" class=\"data row0 col1\" >0.6836</td>\n",
              "      <td id=\"T_352ce_row0_col2\" class=\"data row0 col2\" >0.6245</td>\n",
              "      <td id=\"T_352ce_row0_col3\" class=\"data row0 col3\" >0.5909</td>\n",
              "      <td id=\"T_352ce_row0_col4\" class=\"data row0 col4\" >0.6072</td>\n",
              "      <td id=\"T_352ce_row0_col5\" class=\"data row0 col5\" >0.2967</td>\n",
              "      <td id=\"T_352ce_row0_col6\" class=\"data row0 col6\" >0.2971</td>\n",
              "    </tr>\n",
              "    <tr>\n",
              "      <th id=\"T_352ce_level0_row1\" class=\"row_heading level0 row1\" >1</th>\n",
              "      <td id=\"T_352ce_row1_col0\" class=\"data row1 col0\" >0.6435</td>\n",
              "      <td id=\"T_352ce_row1_col1\" class=\"data row1 col1\" >0.7033</td>\n",
              "      <td id=\"T_352ce_row1_col2\" class=\"data row1 col2\" >0.6157</td>\n",
              "      <td id=\"T_352ce_row1_col3\" class=\"data row1 col3\" >0.5802</td>\n",
              "      <td id=\"T_352ce_row1_col4\" class=\"data row1 col4\" >0.5975</td>\n",
              "      <td id=\"T_352ce_row1_col5\" class=\"data row1 col5\" >0.2781</td>\n",
              "      <td id=\"T_352ce_row1_col6\" class=\"data row1 col6\" >0.2785</td>\n",
              "    </tr>\n",
              "    <tr>\n",
              "      <th id=\"T_352ce_level0_row2\" class=\"row_heading level0 row2\" >2</th>\n",
              "      <td id=\"T_352ce_row2_col0\" class=\"data row2 col0\" >0.6379</td>\n",
              "      <td id=\"T_352ce_row2_col1\" class=\"data row2 col1\" >0.6787</td>\n",
              "      <td id=\"T_352ce_row2_col2\" class=\"data row2 col2\" >0.5939</td>\n",
              "      <td id=\"T_352ce_row2_col3\" class=\"data row2 col3\" >0.5763</td>\n",
              "      <td id=\"T_352ce_row2_col4\" class=\"data row2 col4\" >0.5849</td>\n",
              "      <td id=\"T_352ce_row2_col5\" class=\"data row2 col5\" >0.2639</td>\n",
              "      <td id=\"T_352ce_row2_col6\" class=\"data row2 col6\" >0.2640</td>\n",
              "    </tr>\n",
              "    <tr>\n",
              "      <th id=\"T_352ce_level0_row3\" class=\"row_heading level0 row3\" >3</th>\n",
              "      <td id=\"T_352ce_row3_col0\" class=\"data row3 col0\" >0.6435</td>\n",
              "      <td id=\"T_352ce_row3_col1\" class=\"data row3 col1\" >0.6927</td>\n",
              "      <td id=\"T_352ce_row3_col2\" class=\"data row3 col2\" >0.6376</td>\n",
              "      <td id=\"T_352ce_row3_col3\" class=\"data row3 col3\" >0.5771</td>\n",
              "      <td id=\"T_352ce_row3_col4\" class=\"data row3 col4\" >0.6058</td>\n",
              "      <td id=\"T_352ce_row3_col5\" class=\"data row3 col5\" >0.2819</td>\n",
              "      <td id=\"T_352ce_row3_col6\" class=\"data row3 col6\" >0.2831</td>\n",
              "    </tr>\n",
              "    <tr>\n",
              "      <th id=\"T_352ce_level0_row4\" class=\"row_heading level0 row4\" >4</th>\n",
              "      <td id=\"T_352ce_row4_col0\" class=\"data row4 col0\" >0.6510</td>\n",
              "      <td id=\"T_352ce_row4_col1\" class=\"data row4 col1\" >0.7112</td>\n",
              "      <td id=\"T_352ce_row4_col2\" class=\"data row4 col2\" >0.6550</td>\n",
              "      <td id=\"T_352ce_row4_col3\" class=\"data row4 col3\" >0.5837</td>\n",
              "      <td id=\"T_352ce_row4_col4\" class=\"data row4 col4\" >0.6173</td>\n",
              "      <td id=\"T_352ce_row4_col5\" class=\"data row4 col5\" >0.2985</td>\n",
              "      <td id=\"T_352ce_row4_col6\" class=\"data row4 col6\" >0.3002</td>\n",
              "    </tr>\n",
              "    <tr>\n",
              "      <th id=\"T_352ce_level0_row5\" class=\"row_heading level0 row5\" >5</th>\n",
              "      <td id=\"T_352ce_row5_col0\" class=\"data row5 col0\" >0.6492</td>\n",
              "      <td id=\"T_352ce_row5_col1\" class=\"data row5 col1\" >0.6820</td>\n",
              "      <td id=\"T_352ce_row5_col2\" class=\"data row5 col2\" >0.6507</td>\n",
              "      <td id=\"T_352ce_row5_col3\" class=\"data row5 col3\" >0.5820</td>\n",
              "      <td id=\"T_352ce_row5_col4\" class=\"data row5 col4\" >0.6144</td>\n",
              "      <td id=\"T_352ce_row5_col5\" class=\"data row5 col5\" >0.2944</td>\n",
              "      <td id=\"T_352ce_row5_col6\" class=\"data row5 col6\" >0.2959</td>\n",
              "    </tr>\n",
              "    <tr>\n",
              "      <th id=\"T_352ce_level0_row6\" class=\"row_heading level0 row6\" >6</th>\n",
              "      <td id=\"T_352ce_row6_col0\" class=\"data row6 col0\" >0.6904</td>\n",
              "      <td id=\"T_352ce_row6_col1\" class=\"data row6 col1\" >0.7389</td>\n",
              "      <td id=\"T_352ce_row6_col2\" class=\"data row6 col2\" >0.6812</td>\n",
              "      <td id=\"T_352ce_row6_col3\" class=\"data row6 col3\" >0.6290</td>\n",
              "      <td id=\"T_352ce_row6_col4\" class=\"data row6 col4\" >0.6541</td>\n",
              "      <td id=\"T_352ce_row6_col5\" class=\"data row6 col5\" >0.3748</td>\n",
              "      <td id=\"T_352ce_row6_col6\" class=\"data row6 col6\" >0.3757</td>\n",
              "    </tr>\n",
              "    <tr>\n",
              "      <th id=\"T_352ce_level0_row7\" class=\"row_heading level0 row7\" >7</th>\n",
              "      <td id=\"T_352ce_row7_col0\" class=\"data row7 col0\" >0.6529</td>\n",
              "      <td id=\"T_352ce_row7_col1\" class=\"data row7 col1\" >0.7255</td>\n",
              "      <td id=\"T_352ce_row7_col2\" class=\"data row7 col2\" >0.6943</td>\n",
              "      <td id=\"T_352ce_row7_col3\" class=\"data row7 col3\" >0.5803</td>\n",
              "      <td id=\"T_352ce_row7_col4\" class=\"data row7 col4\" >0.6322</td>\n",
              "      <td id=\"T_352ce_row7_col5\" class=\"data row7 col5\" >0.3086</td>\n",
              "      <td id=\"T_352ce_row7_col6\" class=\"data row7 col6\" >0.3130</td>\n",
              "    </tr>\n",
              "    <tr>\n",
              "      <th id=\"T_352ce_level0_row8\" class=\"row_heading level0 row8\" >8</th>\n",
              "      <td id=\"T_352ce_row8_col0\" class=\"data row8 col0\" >0.6285</td>\n",
              "      <td id=\"T_352ce_row8_col1\" class=\"data row8 col1\" >0.6942</td>\n",
              "      <td id=\"T_352ce_row8_col2\" class=\"data row8 col2\" >0.6288</td>\n",
              "      <td id=\"T_352ce_row8_col3\" class=\"data row8 col3\" >0.5603</td>\n",
              "      <td id=\"T_352ce_row8_col4\" class=\"data row8 col4\" >0.5926</td>\n",
              "      <td id=\"T_352ce_row8_col5\" class=\"data row8 col5\" >0.2533</td>\n",
              "      <td id=\"T_352ce_row8_col6\" class=\"data row8 col6\" >0.2547</td>\n",
              "    </tr>\n",
              "    <tr>\n",
              "      <th id=\"T_352ce_level0_row9\" class=\"row_heading level0 row9\" >9</th>\n",
              "      <td id=\"T_352ce_row9_col0\" class=\"data row9 col0\" >0.6429</td>\n",
              "      <td id=\"T_352ce_row9_col1\" class=\"data row9 col1\" >0.6911</td>\n",
              "      <td id=\"T_352ce_row9_col2\" class=\"data row9 col2\" >0.6332</td>\n",
              "      <td id=\"T_352ce_row9_col3\" class=\"data row9 col3\" >0.5777</td>\n",
              "      <td id=\"T_352ce_row9_col4\" class=\"data row9 col4\" >0.6042</td>\n",
              "      <td id=\"T_352ce_row9_col5\" class=\"data row9 col5\" >0.2801</td>\n",
              "      <td id=\"T_352ce_row9_col6\" class=\"data row9 col6\" >0.2810</td>\n",
              "    </tr>\n",
              "    <tr>\n",
              "      <th id=\"T_352ce_level0_row10\" class=\"row_heading level0 row10\" >Mean</th>\n",
              "      <td id=\"T_352ce_row10_col0\" class=\"data row10 col0\" >0.6493</td>\n",
              "      <td id=\"T_352ce_row10_col1\" class=\"data row10 col1\" >0.7001</td>\n",
              "      <td id=\"T_352ce_row10_col2\" class=\"data row10 col2\" >0.6415</td>\n",
              "      <td id=\"T_352ce_row10_col3\" class=\"data row10 col3\" >0.5838</td>\n",
              "      <td id=\"T_352ce_row10_col4\" class=\"data row10 col4\" >0.6110</td>\n",
              "      <td id=\"T_352ce_row10_col5\" class=\"data row10 col5\" >0.2930</td>\n",
              "      <td id=\"T_352ce_row10_col6\" class=\"data row10 col6\" >0.2943</td>\n",
              "    </tr>\n",
              "    <tr>\n",
              "      <th id=\"T_352ce_level0_row11\" class=\"row_heading level0 row11\" >Std</th>\n",
              "      <td id=\"T_352ce_row11_col0\" class=\"data row11 col0\" >0.0155</td>\n",
              "      <td id=\"T_352ce_row11_col1\" class=\"data row11 col1\" >0.0187</td>\n",
              "      <td id=\"T_352ce_row11_col2\" class=\"data row11 col2\" >0.0285</td>\n",
              "      <td id=\"T_352ce_row11_col3\" class=\"data row11 col3\" >0.0168</td>\n",
              "      <td id=\"T_352ce_row11_col4\" class=\"data row11 col4\" >0.0191</td>\n",
              "      <td id=\"T_352ce_row11_col5\" class=\"data row11 col5\" >0.0315</td>\n",
              "      <td id=\"T_352ce_row11_col6\" class=\"data row11 col6\" >0.0317</td>\n",
              "    </tr>\n",
              "  </tbody>\n",
              "</table>\n"
            ]
          },
          "metadata": {}
        },
        {
          "output_type": "display_data",
          "data": {
            "text/plain": [
              "Processing:   0%|          | 0/7 [00:00<?, ?it/s]"
            ],
            "application/vnd.jupyter.widget-view+json": {
              "version_major": 2,
              "version_minor": 0,
              "model_id": "f598f9e2eaef40b393bb049fef786d05"
            }
          },
          "metadata": {
            "application/vnd.jupyter.widget-view+json": {
              "colab": {
                "custom_widget_manager": {
                  "url": "https://ssl.gstatic.com/colaboratory-static/widgets/colab-cdn-widget-manager/b3e629b1971e1542/manager.min.js"
                }
              }
            }
          }
        },
        {
          "output_type": "stream",
          "name": "stdout",
          "text": [
            "Fitting 10 folds for each of 10 candidates, totalling 100 fits\n"
          ]
        },
        {
          "output_type": "display_data",
          "data": {
            "text/plain": [
              "<IPython.core.display.HTML object>"
            ],
            "text/html": []
          },
          "metadata": {}
        },
        {
          "output_type": "stream",
          "name": "stdout",
          "text": [
            "Original model was better than the tuned model, hence it will be returned. NOTE: The display metrics are for the tuned model (not the original one).\n"
          ]
        }
      ]
    },
    {
      "cell_type": "code",
      "source": [
        "plot_model(estimator = tuned_rf, plot = 'learning')"
      ],
      "metadata": {
        "colab": {
          "base_uri": "https://localhost:8080/",
          "height": 524
        },
        "id": "z5TbkyncNNre",
        "outputId": "4ba6ef83-7ef8-4e3b-819d-9ae11feb782e"
      },
      "execution_count": 95,
      "outputs": [
        {
          "output_type": "display_data",
          "data": {
            "text/plain": [
              "<IPython.core.display.HTML object>"
            ],
            "text/html": []
          },
          "metadata": {}
        },
        {
          "output_type": "display_data",
          "data": {
            "text/plain": [
              "<Figure size 800x550 with 1 Axes>"
            ],
            "image/png": "[encoded data removed]"
          },
          "metadata": {}
        }
      ]
    },
    {
      "cell_type": "code",
      "source": [
        "plot_model(estimator = tuned_rf, plot = 'auc')"
      ],
      "metadata": {
        "colab": {
          "base_uri": "https://localhost:8080/",
          "height": 524
        },
        "id": "hoYje-WmNWnz",
        "outputId": "402c5662-746d-4023-becc-6b721a2af6ed"
      },
      "execution_count": 96,
      "outputs": [
        {
          "output_type": "display_data",
          "data": {
            "text/plain": [
              "<IPython.core.display.HTML object>"
            ],
            "text/html": []
          },
          "metadata": {}
        },
        {
          "output_type": "display_data",
          "data": {
            "text/plain": [
              "<Figure size 800x550 with 1 Axes>"
            ],
            "image/png": "[encoded data removed]"
          },
          "metadata": {}
        }
      ]
    },
    {
      "cell_type": "code",
      "source": [
        "plot_model(estimator = tuned_rf, plot = 'confusion_matrix')"
      ],
      "metadata": {
        "colab": {
          "base_uri": "https://localhost:8080/",
          "height": 551
        },
        "id": "6HdJqqCiNajK",
        "outputId": "c8863845-d6c0-4958-8260-0d85b44f32d0"
      },
      "execution_count": 97,
      "outputs": [
        {
          "output_type": "display_data",
          "data": {
            "text/plain": [
              "<IPython.core.display.HTML object>"
            ],
            "text/html": []
          },
          "metadata": {}
        },
        {
          "output_type": "display_data",
          "data": {
            "text/plain": [
              "<Figure size 800x550 with 1 Axes>"
            ],
            "image/png": "[encoded data removed]"
          },
          "metadata": {}
        }
      ]
    },
    {
      "cell_type": "code",
      "source": [
        "plot_model(estimator = tuned_rf, plot = 'feature')"
      ],
      "metadata": {
        "colab": {
          "base_uri": "https://localhost:8080/",
          "height": 485
        },
        "id": "aF9gOvBlNatk",
        "outputId": "e9568a7e-986c-4057-e948-e34373980af1"
      },
      "execution_count": 98,
      "outputs": [
        {
          "output_type": "display_data",
          "data": {
            "text/plain": [
              "<IPython.core.display.HTML object>"
            ],
            "text/html": []
          },
          "metadata": {}
        },
        {
          "output_type": "display_data",
          "data": {
            "text/plain": [
              "<Figure size 800x500 with 1 Axes>"
            ],
            "image/png": "[encoded data removed]"
          },
          "metadata": {}
        }
      ]
    },
    {
      "cell_type": "code",
      "source": [
        "import shap\n",
        "columns = data.drop('id', axis = 1).columns\n",
        "explainer = shap.TreeExplainer(decision_tree_classifier)\n",
        "shap_values = explainer.shap_values(X_test)\n",
        "shap.summary_plot(shap_values,X_test,plot_type='bar',max_display=10,class_names=[\"1\", \"0\"], feature_names = columns.tolist())"
      ],
      "metadata": {
        "colab": {
          "base_uri": "https://localhost:8080/",
          "height": 311
        },
        "id": "G2G1kIYdNetD",
        "outputId": "4538e28b-d6aa-4677-8787-5823a25c56e9"
      },
      "execution_count": 106,
      "outputs": [
        {
          "output_type": "display_data",
          "data": {
            "text/plain": [
              "<Figure size 800x310 with 1 Axes>"
            ],
            "image/png": "[encoded data removed]"
          },
          "metadata": {}
        }
      ]
    },
    {
      "cell_type": "code",
      "source": [
        "evaluate_model(tuned_rf)"
      ],
      "metadata": {
        "colab": {
          "base_uri": "https://localhost:8080/",
          "height": 239,
          "referenced_widgets": [
            "abd6abded7234d9e94a204b89969d378",
            "9daf35fe63c44bccb460afdd22e0b51d",
            "ad1ca1de60d44f26955d53102a710c9c",
            "5f4edf0aca314b4cb507aca721f3d447",
            "4759c73d60484b9b97172800745ea0cb",
            "928fb8149d4c406a8c398b0cc4715efd",
            "af39f91c16df402eaf95af21caeb7625"
          ]
        },
        "id": "gV6mLOokN3lp",
        "outputId": "11e9d03e-a366-4b5c-9d46-8c1cccd2608d"
      },
      "execution_count": 109,
      "outputs": [
        {
          "output_type": "display_data",
          "data": {
            "text/plain": [
              "interactive(children=(ToggleButtons(description='Plot Type:', icons=('',), options=(('Pipeline Plot', 'pipelin…"
            ],
            "application/vnd.jupyter.widget-view+json": {
              "version_major": 2,
              "version_minor": 0,
              "model_id": "abd6abded7234d9e94a204b89969d378"
            }
          },
          "metadata": {
            "application/vnd.jupyter.widget-view+json": {
              "colab": {
                "custom_widget_manager": {
                  "url": "https://ssl.gstatic.com/colaboratory-static/widgets/colab-cdn-widget-manager/b3e629b1971e1542/manager.min.js"
                }
              }
            }
          }
        }
      ]
    },
    {
      "cell_type": "code",
      "source": [
        "# # Get the model explainer object\n",
        "#explainer = shap.KernelExplainer(knn_classifier.predict_proba, X_train)\n",
        "\n",
        "# # Get shap values for the test data observation whose index is 0, i.e. first observation in the test set\n",
        "#shap_values = explainer.shap_values(X_test)\n",
        "\n",
        "# # Generate a force plot for this first observation using the derived shap values\n",
        "#shap.force_plot(explainer.expected_value[0], shap_values[0], X_test)"
      ],
      "metadata": {
        "id": "_nydBBzjOw8f"
      },
      "execution_count": 110,
      "outputs": []
    },
    {
      "cell_type": "code",
      "source": [
        "#import gradio as gra\n",
        "#def user_greeting(name):\n",
        "     #return \"Hi! \" + name + \" Welcome to Project X!😎\"\n",
        "\n",
        "## define gradio interface and other parameters\n",
        "#app =  gra.Interface(fn = user_greeting, inputs=\"text\", outputs=\"text\")\n",
        "#app.launch()"
      ],
      "metadata": {
        "id": "Df0J2T5wO6eP"
      },
      "execution_count": null,
      "outputs": []
    }
  ]
}